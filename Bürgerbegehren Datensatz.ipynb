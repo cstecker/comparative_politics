{
  "nbformat": 4,
  "nbformat_minor": 0,
  "metadata": {
    "colab": {
      "provenance": [],
      "authorship_tag": "ABX9TyNQ7go2gVudhM/NMaZc0Mk8",
      "include_colab_link": true
    },
    "kernelspec": {
      "name": "ir",
      "display_name": "R"
    },
    "language_info": {
      "name": "R"
    }
  },
  "cells": [
    {
      "cell_type": "markdown",
      "metadata": {
        "id": "view-in-github",
        "colab_type": "text"
      },
      "source": [
        "<a href=\"https://colab.research.google.com/github/cstecker/comparative_politics/blob/main/B%C3%BCrgerbegehren%20Datensatz.ipynb\" target=\"_parent\"><img src=\"https://colab.research.google.com/assets/colab-badge.svg\" alt=\"Open In Colab\"/></a>"
      ]
    },
    {
      "cell_type": "markdown",
      "source": [
        "## **Datenbank Bürgerbegehren**\n",
        "\n",
        "Im Projekt \"*Datenbank Bürgerbegeheren*\" der Bergischen Universität Wuppertal werden Daten und Informationen über Bürgerbescheide in Deutschland erhoben und ausgewertet. Der Website nach stellen sich die Daten wie folgt zusammen:\n",
        "\n",
        "\"*Die Daten wurden in Umfragen bei den Innenministerien, Landtagen, kommunalen Spitzenverbänden und Kreisverwaltungen erhoben sowie seit dem Jahr 2000 durch laufende Mediendokumentationen ermittelt. Darüber hinaus wurden weitere Daten durch Fragebogenerhebungen bei Kreisen und Gemeinden gewonnen. Ein weiterer Anteil von Daten stammt aus verifizierten Selbstmeldungen von Initiatoren, Medienvertretern und engagierten Bürgern.*\"\n",
        "\n",
        "Die Daten wurden uns für diesen Kurs freundlicherweise zur Verfügung gestellt. Wir werden diese aus dem Dropbox-Ordner, zu dem Sie hinzugefügt wurden, einlesen. Das funktioniert, indem man den read.csv Befehl nutzt, und dort den Link zum Teilen der Daten aus Dropbox einfügt. Zusätzlich muss die *dl=0* am ende durch *dl=1* ersetzt werden. "
      ],
      "metadata": {
        "id": "NWws1Gi5HCD_"
      }
    },
    {
      "cell_type": "code",
      "source": [
        "df <- read.csv(\"https://www.dropbox.com/s/oqbj9fr9hjyeweb/export-20230426101124.csv?dl=1\")\n",
        "head(df)"
      ],
      "metadata": {
        "colab": {
          "base_uri": "https://localhost:8080/",
          "height": 602
        },
        "id": "z3zoJaY5EHcG",
        "outputId": "c5479965-3344-4569-9c2c-c0c7f91d9d9b"
      },
      "execution_count": 9,
      "outputs": [
        {
          "output_type": "display_data",
          "data": {
            "text/html": [
              "<table class=\"dataframe\">\n",
              "<caption>A data.frame: 6 × 18</caption>\n",
              "<thead>\n",
              "\t<tr><th></th><th scope=col>Export...Datenbank.Bürgerbegehren...26.04.2023.10.11.24</th><th scope=col>X</th><th scope=col>X.1</th><th scope=col>X.2</th><th scope=col>X.3</th><th scope=col>X.4</th><th scope=col>X.5</th><th scope=col>X.6</th><th scope=col>X.7</th><th scope=col>X.8</th><th scope=col>X.9</th><th scope=col>X.10</th><th scope=col>X.11</th><th scope=col>X.12</th><th scope=col>X.13</th><th scope=col>X.14</th><th scope=col>X.15</th><th scope=col>X.16</th></tr>\n",
              "\t<tr><th></th><th scope=col>&lt;chr&gt;</th><th scope=col>&lt;chr&gt;</th><th scope=col>&lt;chr&gt;</th><th scope=col>&lt;chr&gt;</th><th scope=col>&lt;chr&gt;</th><th scope=col>&lt;chr&gt;</th><th scope=col>&lt;chr&gt;</th><th scope=col>&lt;chr&gt;</th><th scope=col>&lt;chr&gt;</th><th scope=col>&lt;chr&gt;</th><th scope=col>&lt;chr&gt;</th><th scope=col>&lt;chr&gt;</th><th scope=col>&lt;chr&gt;</th><th scope=col>&lt;chr&gt;</th><th scope=col>&lt;chr&gt;</th><th scope=col>&lt;chr&gt;</th><th scope=col>&lt;chr&gt;</th><th scope=col>&lt;chr&gt;</th></tr>\n",
              "</thead>\n",
              "<tbody>\n",
              "\t<tr><th scope=row>1</th><td>           </td><td>                                                       </td><td>            </td><td>          </td><td>                </td><td>        </td><td>            </td><td>    </td><td>                                                                                  </td><td>                               </td><td>             </td><td>                                                            </td><td>          </td><td>                   </td><td>                     </td><td>              </td><td>                       </td><td>             </td></tr>\n",
              "\t<tr><th scope=row>2</th><td>Begehren ID</td><td>Ort                                                    </td><td>BL-Abkürzung</td><td>Bundesland</td><td>Gebietskategorie</td><td>AGS     </td><td>RS          </td><td>Jahr</td><td>Thema-Bürgerbegehren                                                              </td><td>Ergebnis                       </td><td>Themenbereich</td><td>Verfahrenstyp                                               </td><td>BE-Datum  </td><td>BE-Ja-Stimmenanteil</td><td>BE-Nein-Stimmenanteil</td><td>BE-Beteiligung</td><td>Status                 </td><td>Einwohnerzahl</td></tr>\n",
              "\t<tr><th scope=row>3</th><td>6          </td><td>Hörnitz (OT von Bertsdord-Hörnitz, ehem. selbstständig)</td><td>SAC         </td><td>Sachsen   </td><td>Gemeinde        </td><td>0       </td><td>0           </td><td>1994</td><td>Für Gründung einer Verwaltungsgemeinschaft                                        </td><td>BB nur öffentlich diskutiert   </td><td>Gebietsreform</td><td>1. c (genauer) Korrekturbegehren mit Alternativvorschlag    </td><td>          </td><td>0                  </td><td>0                    </td><td>0             </td><td>Verfahren abgeschlossen</td><td>1209         </td></tr>\n",
              "\t<tr><th scope=row>4</th><td>48         </td><td>Arnsfeld (OT von Mildenau, ehem. selbstständig)        </td><td>SAC         </td><td>Sachsen   </td><td>Gemeinde        </td><td>0       </td><td>0           </td><td>1995</td><td>Für Verwaltungsgemeinschaft mit Mildenau                                          </td><td>BE im Sinne des Begehrens      </td><td>Gebietsreform</td><td>2. a (genauer:) Ratsreferendum: auf Eigeninitiative des Rats</td><td>30.11.1994</td><td>0                  </td><td>0                    </td><td>0             </td><td>Verfahren abgeschlossen</td><td>1106         </td></tr>\n",
              "\t<tr><th scope=row>5</th><td>50         </td><td>Bösenbrunn                                             </td><td>SAC         </td><td>Sachsen   </td><td>Gemeinde        </td><td>14523060</td><td>145235122060</td><td>1996</td><td>Gegen Beitritt zum Verwaltungsverband Oelsnitz, für Beibehaltung Selbstständigkeit</td><td>BE nicht im Sinne des Begehrens</td><td>Gebietsreform</td><td>1. b (genauer:) Korrekturbegehren                           </td><td>15.10.1996</td><td>0                  </td><td>0                    </td><td>0             </td><td>Verfahren abgeschlossen</td><td>1174         </td></tr>\n",
              "\t<tr><th scope=row>6</th><td>54         </td><td>Ebersbrunn (OT von Lichtentanne, ehem. selbstständig)  </td><td>SAC         </td><td>Sachsen   </td><td>Gemeinde        </td><td>0       </td><td>0           </td><td>1996</td><td>Gegen Beitritt zur Einheitsgemeinde Lichtentanne                                  </td><td>BE im Sinne des Begehrens      </td><td>Gebietsreform</td><td>2. Ratsreferendum                                           </td><td>30.11.1995</td><td>0                  </td><td>0                    </td><td>0             </td><td>Verfahren abgeschlossen</td><td>1230         </td></tr>\n",
              "</tbody>\n",
              "</table>\n"
            ],
            "text/markdown": "\nA data.frame: 6 × 18\n\n| <!--/--> | Export...Datenbank.Bürgerbegehren...26.04.2023.10.11.24 &lt;chr&gt; | X &lt;chr&gt; | X.1 &lt;chr&gt; | X.2 &lt;chr&gt; | X.3 &lt;chr&gt; | X.4 &lt;chr&gt; | X.5 &lt;chr&gt; | X.6 &lt;chr&gt; | X.7 &lt;chr&gt; | X.8 &lt;chr&gt; | X.9 &lt;chr&gt; | X.10 &lt;chr&gt; | X.11 &lt;chr&gt; | X.12 &lt;chr&gt; | X.13 &lt;chr&gt; | X.14 &lt;chr&gt; | X.15 &lt;chr&gt; | X.16 &lt;chr&gt; |\n|---|---|---|---|---|---|---|---|---|---|---|---|---|---|---|---|---|---|---|\n| 1 | <!----> | <!----> | <!----> | <!----> | <!----> | <!----> | <!----> | <!----> | <!----> | <!----> | <!----> | <!----> | <!----> | <!----> | <!----> | <!----> | <!----> | <!----> |\n| 2 | Begehren ID | Ort                                                     | BL-Abkürzung | Bundesland | Gebietskategorie | AGS      | RS           | Jahr | Thema-Bürgerbegehren                                                               | Ergebnis                        | Themenbereich | Verfahrenstyp                                                | BE-Datum   | BE-Ja-Stimmenanteil | BE-Nein-Stimmenanteil | BE-Beteiligung | Status                  | Einwohnerzahl |\n| 3 | 6           | Hörnitz (OT von Bertsdord-Hörnitz, ehem. selbstständig) | SAC          | Sachsen    | Gemeinde         | 0        | 0            | 1994 | Für Gründung einer Verwaltungsgemeinschaft                                         | BB nur öffentlich diskutiert    | Gebietsreform | 1. c (genauer) Korrekturbegehren mit Alternativvorschlag     | <!----> | 0                   | 0                     | 0              | Verfahren abgeschlossen | 1209          |\n| 4 | 48          | Arnsfeld (OT von Mildenau, ehem. selbstständig)         | SAC          | Sachsen    | Gemeinde         | 0        | 0            | 1995 | Für Verwaltungsgemeinschaft mit Mildenau                                           | BE im Sinne des Begehrens       | Gebietsreform | 2. a (genauer:) Ratsreferendum: auf Eigeninitiative des Rats | 30.11.1994 | 0                   | 0                     | 0              | Verfahren abgeschlossen | 1106          |\n| 5 | 50          | Bösenbrunn                                              | SAC          | Sachsen    | Gemeinde         | 14523060 | 145235122060 | 1996 | Gegen Beitritt zum Verwaltungsverband Oelsnitz, für Beibehaltung Selbstständigkeit | BE nicht im Sinne des Begehrens | Gebietsreform | 1. b (genauer:) Korrekturbegehren                            | 15.10.1996 | 0                   | 0                     | 0              | Verfahren abgeschlossen | 1174          |\n| 6 | 54          | Ebersbrunn (OT von Lichtentanne, ehem. selbstständig)   | SAC          | Sachsen    | Gemeinde         | 0        | 0            | 1996 | Gegen Beitritt zur Einheitsgemeinde Lichtentanne                                   | BE im Sinne des Begehrens       | Gebietsreform | 2. Ratsreferendum                                            | 30.11.1995 | 0                   | 0                     | 0              | Verfahren abgeschlossen | 1230          |\n\n",
            "text/latex": "A data.frame: 6 × 18\n\\begin{tabular}{r|llllllllllllllllll}\n  & Export...Datenbank.Bürgerbegehren...26.04.2023.10.11.24 & X & X.1 & X.2 & X.3 & X.4 & X.5 & X.6 & X.7 & X.8 & X.9 & X.10 & X.11 & X.12 & X.13 & X.14 & X.15 & X.16\\\\\n  & <chr> & <chr> & <chr> & <chr> & <chr> & <chr> & <chr> & <chr> & <chr> & <chr> & <chr> & <chr> & <chr> & <chr> & <chr> & <chr> & <chr> & <chr>\\\\\n\\hline\n\t1 &             &                                                         &              &            &                  &          &              &      &                                                                                    &                                 &               &                                                              &            &                     &                       &                &                         &              \\\\\n\t2 & Begehren ID & Ort                                                     & BL-Abkürzung & Bundesland & Gebietskategorie & AGS      & RS           & Jahr & Thema-Bürgerbegehren                                                               & Ergebnis                        & Themenbereich & Verfahrenstyp                                                & BE-Datum   & BE-Ja-Stimmenanteil & BE-Nein-Stimmenanteil & BE-Beteiligung & Status                  & Einwohnerzahl\\\\\n\t3 & 6           & Hörnitz (OT von Bertsdord-Hörnitz, ehem. selbstständig) & SAC          & Sachsen    & Gemeinde         & 0        & 0            & 1994 & Für Gründung einer Verwaltungsgemeinschaft                                         & BB nur öffentlich diskutiert    & Gebietsreform & 1. c (genauer) Korrekturbegehren mit Alternativvorschlag     &            & 0                   & 0                     & 0              & Verfahren abgeschlossen & 1209         \\\\\n\t4 & 48          & Arnsfeld (OT von Mildenau, ehem. selbstständig)         & SAC          & Sachsen    & Gemeinde         & 0        & 0            & 1995 & Für Verwaltungsgemeinschaft mit Mildenau                                           & BE im Sinne des Begehrens       & Gebietsreform & 2. a (genauer:) Ratsreferendum: auf Eigeninitiative des Rats & 30.11.1994 & 0                   & 0                     & 0              & Verfahren abgeschlossen & 1106         \\\\\n\t5 & 50          & Bösenbrunn                                              & SAC          & Sachsen    & Gemeinde         & 14523060 & 145235122060 & 1996 & Gegen Beitritt zum Verwaltungsverband Oelsnitz, für Beibehaltung Selbstständigkeit & BE nicht im Sinne des Begehrens & Gebietsreform & 1. b (genauer:) Korrekturbegehren                            & 15.10.1996 & 0                   & 0                     & 0              & Verfahren abgeschlossen & 1174         \\\\\n\t6 & 54          & Ebersbrunn (OT von Lichtentanne, ehem. selbstständig)   & SAC          & Sachsen    & Gemeinde         & 0        & 0            & 1996 & Gegen Beitritt zur Einheitsgemeinde Lichtentanne                                   & BE im Sinne des Begehrens       & Gebietsreform & 2. Ratsreferendum                                            & 30.11.1995 & 0                   & 0                     & 0              & Verfahren abgeschlossen & 1230         \\\\\n\\end{tabular}\n",
            "text/plain": [
              "  Export...Datenbank.Bürgerbegehren...26.04.2023.10.11.24\n",
              "1                                                        \n",
              "2 Begehren ID                                            \n",
              "3 6                                                      \n",
              "4 48                                                     \n",
              "5 50                                                     \n",
              "6 54                                                     \n",
              "  X                                                       X.1         \n",
              "1                                                                     \n",
              "2 Ort                                                     BL-Abkürzung\n",
              "3 Hörnitz (OT von Bertsdord-Hörnitz, ehem. selbstständig) SAC         \n",
              "4 Arnsfeld (OT von Mildenau, ehem. selbstständig)         SAC         \n",
              "5 Bösenbrunn                                              SAC         \n",
              "6 Ebersbrunn (OT von Lichtentanne, ehem. selbstständig)   SAC         \n",
              "  X.2        X.3              X.4      X.5          X.6 \n",
              "1                                                       \n",
              "2 Bundesland Gebietskategorie AGS      RS           Jahr\n",
              "3 Sachsen    Gemeinde         0        0            1994\n",
              "4 Sachsen    Gemeinde         0        0            1995\n",
              "5 Sachsen    Gemeinde         14523060 145235122060 1996\n",
              "6 Sachsen    Gemeinde         0        0            1996\n",
              "  X.7                                                                               \n",
              "1                                                                                   \n",
              "2 Thema-Bürgerbegehren                                                              \n",
              "3 Für Gründung einer Verwaltungsgemeinschaft                                        \n",
              "4 Für Verwaltungsgemeinschaft mit Mildenau                                          \n",
              "5 Gegen Beitritt zum Verwaltungsverband Oelsnitz, für Beibehaltung Selbstständigkeit\n",
              "6 Gegen Beitritt zur Einheitsgemeinde Lichtentanne                                  \n",
              "  X.8                             X.9          \n",
              "1                                              \n",
              "2 Ergebnis                        Themenbereich\n",
              "3 BB nur öffentlich diskutiert    Gebietsreform\n",
              "4 BE im Sinne des Begehrens       Gebietsreform\n",
              "5 BE nicht im Sinne des Begehrens Gebietsreform\n",
              "6 BE im Sinne des Begehrens       Gebietsreform\n",
              "  X.10                                                         X.11      \n",
              "1                                                                        \n",
              "2 Verfahrenstyp                                                BE-Datum  \n",
              "3 1. c (genauer) Korrekturbegehren mit Alternativvorschlag               \n",
              "4 2. a (genauer:) Ratsreferendum: auf Eigeninitiative des Rats 30.11.1994\n",
              "5 1. b (genauer:) Korrekturbegehren                            15.10.1996\n",
              "6 2. Ratsreferendum                                            30.11.1995\n",
              "  X.12                X.13                  X.14          \n",
              "1                                                         \n",
              "2 BE-Ja-Stimmenanteil BE-Nein-Stimmenanteil BE-Beteiligung\n",
              "3 0                   0                     0             \n",
              "4 0                   0                     0             \n",
              "5 0                   0                     0             \n",
              "6 0                   0                     0             \n",
              "  X.15                    X.16         \n",
              "1                                      \n",
              "2 Status                  Einwohnerzahl\n",
              "3 Verfahren abgeschlossen 1209         \n",
              "4 Verfahren abgeschlossen 1106         \n",
              "5 Verfahren abgeschlossen 1174         \n",
              "6 Verfahren abgeschlossen 1230         "
            ]
          },
          "metadata": {}
        }
      ]
    },
    {
      "cell_type": "markdown",
      "source": [
        "Wie wir sehen gibt es ein Problem, die Variablennamen stehen in der dritten Zeile. Daher nutzen wir den Befehl \"row_to_names\" aus dem Package Janitor, um R zu sagen in welcher Zeile sich die Variablennamen befinden."
      ],
      "metadata": {
        "id": "ABzR4FQUFr3k"
      }
    },
    {
      "cell_type": "code",
      "source": [
        "library(dplyr)\n",
        "install.packages(\"janitor\")\n",
        "library(janitor)\n",
        "df <- df %>% row_to_names(row_number = 2)\n",
        "head(df)"
      ],
      "metadata": {
        "colab": {
          "base_uri": "https://localhost:8080/",
          "height": 1000
        },
        "id": "F6vG11dhGB6W",
        "outputId": "9bbbaca6-d429-41fa-da4a-e6e448f5a5a3"
      },
      "execution_count": 16,
      "outputs": [
        {
          "output_type": "stream",
          "name": "stderr",
          "text": [
            "Installing package into ‘/usr/local/lib/R/site-library’\n",
            "(as ‘lib’ is unspecified)\n",
            "\n",
            "also installing the dependency ‘snakecase’\n",
            "\n",
            "\n",
            "\n",
            "Attaching package: ‘janitor’\n",
            "\n",
            "\n",
            "The following objects are masked from ‘package:stats’:\n",
            "\n",
            "    chisq.test, fisher.test\n",
            "\n",
            "\n"
          ]
        },
        {
          "output_type": "display_data",
          "data": {
            "text/html": [
              "<table class=\"dataframe\">\n",
              "<caption>A data.frame: 6 × 18</caption>\n",
              "<thead>\n",
              "\t<tr><th></th><th scope=col>Begehren ID</th><th scope=col>Ort</th><th scope=col>BL-Abkürzung</th><th scope=col>Bundesland</th><th scope=col>Gebietskategorie</th><th scope=col>AGS</th><th scope=col>RS</th><th scope=col>Jahr</th><th scope=col>Thema-Bürgerbegehren</th><th scope=col>Ergebnis</th><th scope=col>Themenbereich</th><th scope=col>Verfahrenstyp</th><th scope=col>BE-Datum</th><th scope=col>BE-Ja-Stimmenanteil</th><th scope=col>BE-Nein-Stimmenanteil</th><th scope=col>BE-Beteiligung</th><th scope=col>Status</th><th scope=col>Einwohnerzahl</th></tr>\n",
              "\t<tr><th></th><th scope=col>&lt;chr&gt;</th><th scope=col>&lt;chr&gt;</th><th scope=col>&lt;chr&gt;</th><th scope=col>&lt;chr&gt;</th><th scope=col>&lt;chr&gt;</th><th scope=col>&lt;chr&gt;</th><th scope=col>&lt;chr&gt;</th><th scope=col>&lt;chr&gt;</th><th scope=col>&lt;chr&gt;</th><th scope=col>&lt;chr&gt;</th><th scope=col>&lt;chr&gt;</th><th scope=col>&lt;chr&gt;</th><th scope=col>&lt;chr&gt;</th><th scope=col>&lt;chr&gt;</th><th scope=col>&lt;chr&gt;</th><th scope=col>&lt;chr&gt;</th><th scope=col>&lt;chr&gt;</th><th scope=col>&lt;chr&gt;</th></tr>\n",
              "</thead>\n",
              "<tbody>\n",
              "\t<tr><th scope=row>3</th><td>6 </td><td>Hörnitz (OT von Bertsdord-Hörnitz, ehem. selbstständig)   </td><td>SAC</td><td>Sachsen</td><td>Gemeinde</td><td>0       </td><td>0           </td><td>1994</td><td>Für Gründung einer Verwaltungsgemeinschaft                                        </td><td>BB nur öffentlich diskutiert   </td><td>Gebietsreform</td><td>1. c (genauer) Korrekturbegehren mit Alternativvorschlag    </td><td>          </td><td>0</td><td>0</td><td>0</td><td>Verfahren abgeschlossen</td><td>1209</td></tr>\n",
              "\t<tr><th scope=row>4</th><td>48</td><td>Arnsfeld (OT von Mildenau, ehem. selbstständig)           </td><td>SAC</td><td>Sachsen</td><td>Gemeinde</td><td>0       </td><td>0           </td><td>1995</td><td>Für Verwaltungsgemeinschaft mit Mildenau                                          </td><td>BE im Sinne des Begehrens      </td><td>Gebietsreform</td><td>2. a (genauer:) Ratsreferendum: auf Eigeninitiative des Rats</td><td>30.11.1994</td><td>0</td><td>0</td><td>0</td><td>Verfahren abgeschlossen</td><td>1106</td></tr>\n",
              "\t<tr><th scope=row>5</th><td>50</td><td>Bösenbrunn                                                </td><td>SAC</td><td>Sachsen</td><td>Gemeinde</td><td>14523060</td><td>145235122060</td><td>1996</td><td>Gegen Beitritt zum Verwaltungsverband Oelsnitz, für Beibehaltung Selbstständigkeit</td><td>BE nicht im Sinne des Begehrens</td><td>Gebietsreform</td><td>1. b (genauer:) Korrekturbegehren                           </td><td>15.10.1996</td><td>0</td><td>0</td><td>0</td><td>Verfahren abgeschlossen</td><td>1174</td></tr>\n",
              "\t<tr><th scope=row>6</th><td>54</td><td>Ebersbrunn (OT von Lichtentanne, ehem. selbstständig)     </td><td>SAC</td><td>Sachsen</td><td>Gemeinde</td><td>0       </td><td>0           </td><td>1996</td><td>Gegen Beitritt zur Einheitsgemeinde Lichtentanne                                  </td><td>BE im Sinne des Begehrens      </td><td>Gebietsreform</td><td>2. Ratsreferendum                                           </td><td>30.11.1995</td><td>0</td><td>0</td><td>0</td><td>Verfahren abgeschlossen</td><td>1230</td></tr>\n",
              "\t<tr><th scope=row>7</th><td>56</td><td>Geyersdorf (OT von Annaberg-Buchholz, ehem. selbstständig)</td><td>SAC</td><td>Sachsen</td><td>Gemeinde</td><td>0       </td><td>0           </td><td>1997</td><td>Gegen Eingemeindung nach Annaberg-Buchholz                                        </td><td>BE im Sinne des Begehrens      </td><td>Gebietsreform</td><td>1. b (genauer:) Korrekturbegehren                           </td><td>30.11.1996</td><td>0</td><td>0</td><td>0</td><td>Verfahren abgeschlossen</td><td>1174</td></tr>\n",
              "\t<tr><th scope=row>8</th><td>57</td><td>Greifendorf (OT von Rossau, ehem. selbstständig)          </td><td>SAC</td><td>Sachsen</td><td>Gemeinde</td><td>0       </td><td>0           </td><td>1994</td><td>Für Eingemeindung nach Rossau                                                     </td><td>BE im Sinne des Begehrens      </td><td>Gebietsreform</td><td>2. a (genauer:) Ratsreferendum: auf Eigeninitiative des Rats</td><td>30.11.1993</td><td>0</td><td>0</td><td>0</td><td>Verfahren abgeschlossen</td><td>500 </td></tr>\n",
              "</tbody>\n",
              "</table>\n"
            ],
            "text/markdown": "\nA data.frame: 6 × 18\n\n| <!--/--> | Begehren ID &lt;chr&gt; | Ort &lt;chr&gt; | BL-Abkürzung &lt;chr&gt; | Bundesland &lt;chr&gt; | Gebietskategorie &lt;chr&gt; | AGS &lt;chr&gt; | RS &lt;chr&gt; | Jahr &lt;chr&gt; | Thema-Bürgerbegehren &lt;chr&gt; | Ergebnis &lt;chr&gt; | Themenbereich &lt;chr&gt; | Verfahrenstyp &lt;chr&gt; | BE-Datum &lt;chr&gt; | BE-Ja-Stimmenanteil &lt;chr&gt; | BE-Nein-Stimmenanteil &lt;chr&gt; | BE-Beteiligung &lt;chr&gt; | Status &lt;chr&gt; | Einwohnerzahl &lt;chr&gt; |\n|---|---|---|---|---|---|---|---|---|---|---|---|---|---|---|---|---|---|---|\n| 3 | 6  | Hörnitz (OT von Bertsdord-Hörnitz, ehem. selbstständig)    | SAC | Sachsen | Gemeinde | 0        | 0            | 1994 | Für Gründung einer Verwaltungsgemeinschaft                                         | BB nur öffentlich diskutiert    | Gebietsreform | 1. c (genauer) Korrekturbegehren mit Alternativvorschlag     | <!----> | 0 | 0 | 0 | Verfahren abgeschlossen | 1209 |\n| 4 | 48 | Arnsfeld (OT von Mildenau, ehem. selbstständig)            | SAC | Sachsen | Gemeinde | 0        | 0            | 1995 | Für Verwaltungsgemeinschaft mit Mildenau                                           | BE im Sinne des Begehrens       | Gebietsreform | 2. a (genauer:) Ratsreferendum: auf Eigeninitiative des Rats | 30.11.1994 | 0 | 0 | 0 | Verfahren abgeschlossen | 1106 |\n| 5 | 50 | Bösenbrunn                                                 | SAC | Sachsen | Gemeinde | 14523060 | 145235122060 | 1996 | Gegen Beitritt zum Verwaltungsverband Oelsnitz, für Beibehaltung Selbstständigkeit | BE nicht im Sinne des Begehrens | Gebietsreform | 1. b (genauer:) Korrekturbegehren                            | 15.10.1996 | 0 | 0 | 0 | Verfahren abgeschlossen | 1174 |\n| 6 | 54 | Ebersbrunn (OT von Lichtentanne, ehem. selbstständig)      | SAC | Sachsen | Gemeinde | 0        | 0            | 1996 | Gegen Beitritt zur Einheitsgemeinde Lichtentanne                                   | BE im Sinne des Begehrens       | Gebietsreform | 2. Ratsreferendum                                            | 30.11.1995 | 0 | 0 | 0 | Verfahren abgeschlossen | 1230 |\n| 7 | 56 | Geyersdorf (OT von Annaberg-Buchholz, ehem. selbstständig) | SAC | Sachsen | Gemeinde | 0        | 0            | 1997 | Gegen Eingemeindung nach Annaberg-Buchholz                                         | BE im Sinne des Begehrens       | Gebietsreform | 1. b (genauer:) Korrekturbegehren                            | 30.11.1996 | 0 | 0 | 0 | Verfahren abgeschlossen | 1174 |\n| 8 | 57 | Greifendorf (OT von Rossau, ehem. selbstständig)           | SAC | Sachsen | Gemeinde | 0        | 0            | 1994 | Für Eingemeindung nach Rossau                                                      | BE im Sinne des Begehrens       | Gebietsreform | 2. a (genauer:) Ratsreferendum: auf Eigeninitiative des Rats | 30.11.1993 | 0 | 0 | 0 | Verfahren abgeschlossen | 500  |\n\n",
            "text/latex": "A data.frame: 6 × 18\n\\begin{tabular}{r|llllllllllllllllll}\n  & Begehren ID & Ort & BL-Abkürzung & Bundesland & Gebietskategorie & AGS & RS & Jahr & Thema-Bürgerbegehren & Ergebnis & Themenbereich & Verfahrenstyp & BE-Datum & BE-Ja-Stimmenanteil & BE-Nein-Stimmenanteil & BE-Beteiligung & Status & Einwohnerzahl\\\\\n  & <chr> & <chr> & <chr> & <chr> & <chr> & <chr> & <chr> & <chr> & <chr> & <chr> & <chr> & <chr> & <chr> & <chr> & <chr> & <chr> & <chr> & <chr>\\\\\n\\hline\n\t3 & 6  & Hörnitz (OT von Bertsdord-Hörnitz, ehem. selbstständig)    & SAC & Sachsen & Gemeinde & 0        & 0            & 1994 & Für Gründung einer Verwaltungsgemeinschaft                                         & BB nur öffentlich diskutiert    & Gebietsreform & 1. c (genauer) Korrekturbegehren mit Alternativvorschlag     &            & 0 & 0 & 0 & Verfahren abgeschlossen & 1209\\\\\n\t4 & 48 & Arnsfeld (OT von Mildenau, ehem. selbstständig)            & SAC & Sachsen & Gemeinde & 0        & 0            & 1995 & Für Verwaltungsgemeinschaft mit Mildenau                                           & BE im Sinne des Begehrens       & Gebietsreform & 2. a (genauer:) Ratsreferendum: auf Eigeninitiative des Rats & 30.11.1994 & 0 & 0 & 0 & Verfahren abgeschlossen & 1106\\\\\n\t5 & 50 & Bösenbrunn                                                 & SAC & Sachsen & Gemeinde & 14523060 & 145235122060 & 1996 & Gegen Beitritt zum Verwaltungsverband Oelsnitz, für Beibehaltung Selbstständigkeit & BE nicht im Sinne des Begehrens & Gebietsreform & 1. b (genauer:) Korrekturbegehren                            & 15.10.1996 & 0 & 0 & 0 & Verfahren abgeschlossen & 1174\\\\\n\t6 & 54 & Ebersbrunn (OT von Lichtentanne, ehem. selbstständig)      & SAC & Sachsen & Gemeinde & 0        & 0            & 1996 & Gegen Beitritt zur Einheitsgemeinde Lichtentanne                                   & BE im Sinne des Begehrens       & Gebietsreform & 2. Ratsreferendum                                            & 30.11.1995 & 0 & 0 & 0 & Verfahren abgeschlossen & 1230\\\\\n\t7 & 56 & Geyersdorf (OT von Annaberg-Buchholz, ehem. selbstständig) & SAC & Sachsen & Gemeinde & 0        & 0            & 1997 & Gegen Eingemeindung nach Annaberg-Buchholz                                         & BE im Sinne des Begehrens       & Gebietsreform & 1. b (genauer:) Korrekturbegehren                            & 30.11.1996 & 0 & 0 & 0 & Verfahren abgeschlossen & 1174\\\\\n\t8 & 57 & Greifendorf (OT von Rossau, ehem. selbstständig)           & SAC & Sachsen & Gemeinde & 0        & 0            & 1994 & Für Eingemeindung nach Rossau                                                      & BE im Sinne des Begehrens       & Gebietsreform & 2. a (genauer:) Ratsreferendum: auf Eigeninitiative des Rats & 30.11.1993 & 0 & 0 & 0 & Verfahren abgeschlossen & 500 \\\\\n\\end{tabular}\n",
            "text/plain": [
              "  Begehren ID Ort                                                       \n",
              "3 6           Hörnitz (OT von Bertsdord-Hörnitz, ehem. selbstständig)   \n",
              "4 48          Arnsfeld (OT von Mildenau, ehem. selbstständig)           \n",
              "5 50          Bösenbrunn                                                \n",
              "6 54          Ebersbrunn (OT von Lichtentanne, ehem. selbstständig)     \n",
              "7 56          Geyersdorf (OT von Annaberg-Buchholz, ehem. selbstständig)\n",
              "8 57          Greifendorf (OT von Rossau, ehem. selbstständig)          \n",
              "  BL-Abkürzung Bundesland Gebietskategorie AGS      RS           Jahr\n",
              "3 SAC          Sachsen    Gemeinde         0        0            1994\n",
              "4 SAC          Sachsen    Gemeinde         0        0            1995\n",
              "5 SAC          Sachsen    Gemeinde         14523060 145235122060 1996\n",
              "6 SAC          Sachsen    Gemeinde         0        0            1996\n",
              "7 SAC          Sachsen    Gemeinde         0        0            1997\n",
              "8 SAC          Sachsen    Gemeinde         0        0            1994\n",
              "  Thema-Bürgerbegehren                                                              \n",
              "3 Für Gründung einer Verwaltungsgemeinschaft                                        \n",
              "4 Für Verwaltungsgemeinschaft mit Mildenau                                          \n",
              "5 Gegen Beitritt zum Verwaltungsverband Oelsnitz, für Beibehaltung Selbstständigkeit\n",
              "6 Gegen Beitritt zur Einheitsgemeinde Lichtentanne                                  \n",
              "7 Gegen Eingemeindung nach Annaberg-Buchholz                                        \n",
              "8 Für Eingemeindung nach Rossau                                                     \n",
              "  Ergebnis                        Themenbereich\n",
              "3 BB nur öffentlich diskutiert    Gebietsreform\n",
              "4 BE im Sinne des Begehrens       Gebietsreform\n",
              "5 BE nicht im Sinne des Begehrens Gebietsreform\n",
              "6 BE im Sinne des Begehrens       Gebietsreform\n",
              "7 BE im Sinne des Begehrens       Gebietsreform\n",
              "8 BE im Sinne des Begehrens       Gebietsreform\n",
              "  Verfahrenstyp                                                BE-Datum  \n",
              "3 1. c (genauer) Korrekturbegehren mit Alternativvorschlag               \n",
              "4 2. a (genauer:) Ratsreferendum: auf Eigeninitiative des Rats 30.11.1994\n",
              "5 1. b (genauer:) Korrekturbegehren                            15.10.1996\n",
              "6 2. Ratsreferendum                                            30.11.1995\n",
              "7 1. b (genauer:) Korrekturbegehren                            30.11.1996\n",
              "8 2. a (genauer:) Ratsreferendum: auf Eigeninitiative des Rats 30.11.1993\n",
              "  BE-Ja-Stimmenanteil BE-Nein-Stimmenanteil BE-Beteiligung\n",
              "3 0                   0                     0             \n",
              "4 0                   0                     0             \n",
              "5 0                   0                     0             \n",
              "6 0                   0                     0             \n",
              "7 0                   0                     0             \n",
              "8 0                   0                     0             \n",
              "  Status                  Einwohnerzahl\n",
              "3 Verfahren abgeschlossen 1209         \n",
              "4 Verfahren abgeschlossen 1106         \n",
              "5 Verfahren abgeschlossen 1174         \n",
              "6 Verfahren abgeschlossen 1230         \n",
              "7 Verfahren abgeschlossen 1174         \n",
              "8 Verfahren abgeschlossen 500          "
            ]
          },
          "metadata": {}
        }
      ]
    },
    {
      "cell_type": "code",
      "source": [
        "colnames(df)\n",
        "table(df$Status)\n",
        "table(df$Ergebnis)"
      ],
      "metadata": {
        "colab": {
          "base_uri": "https://localhost:8080/",
          "height": 856
        },
        "id": "-HiUhBhxJsde",
        "outputId": "8088f80d-72b9-4344-cd0f-4e94860bbaee"
      },
      "execution_count": 22,
      "outputs": [
        {
          "output_type": "display_data",
          "data": {
            "text/html": [
              "<style>\n",
              ".list-inline {list-style: none; margin:0; padding: 0}\n",
              ".list-inline>li {display: inline-block}\n",
              ".list-inline>li:not(:last-child)::after {content: \"\\00b7\"; padding: 0 .5ex}\n",
              "</style>\n",
              "<ol class=list-inline><li>'Begehren ID'</li><li>'Ort'</li><li>'BL-Abkürzung'</li><li>'Bundesland'</li><li>'Gebietskategorie'</li><li>'AGS'</li><li>'RS'</li><li>'Jahr'</li><li>'Thema-Bürgerbegehren'</li><li>'Ergebnis'</li><li>'Themenbereich'</li><li>'Verfahrenstyp'</li><li>'BE-Datum'</li><li>'BE-Ja-Stimmenanteil'</li><li>'BE-Nein-Stimmenanteil'</li><li>'BE-Beteiligung'</li><li>'Status'</li><li>'Einwohnerzahl'</li></ol>\n"
            ],
            "text/markdown": "1. 'Begehren ID'\n2. 'Ort'\n3. 'BL-Abkürzung'\n4. 'Bundesland'\n5. 'Gebietskategorie'\n6. 'AGS'\n7. 'RS'\n8. 'Jahr'\n9. 'Thema-Bürgerbegehren'\n10. 'Ergebnis'\n11. 'Themenbereich'\n12. 'Verfahrenstyp'\n13. 'BE-Datum'\n14. 'BE-Ja-Stimmenanteil'\n15. 'BE-Nein-Stimmenanteil'\n16. 'BE-Beteiligung'\n17. 'Status'\n18. 'Einwohnerzahl'\n\n\n",
            "text/latex": "\\begin{enumerate*}\n\\item 'Begehren ID'\n\\item 'Ort'\n\\item 'BL-Abkürzung'\n\\item 'Bundesland'\n\\item 'Gebietskategorie'\n\\item 'AGS'\n\\item 'RS'\n\\item 'Jahr'\n\\item 'Thema-Bürgerbegehren'\n\\item 'Ergebnis'\n\\item 'Themenbereich'\n\\item 'Verfahrenstyp'\n\\item 'BE-Datum'\n\\item 'BE-Ja-Stimmenanteil'\n\\item 'BE-Nein-Stimmenanteil'\n\\item 'BE-Beteiligung'\n\\item 'Status'\n\\item 'Einwohnerzahl'\n\\end{enumerate*}\n",
            "text/plain": [
              " [1] \"Begehren ID\"           \"Ort\"                   \"BL-Abkürzung\"         \n",
              " [4] \"Bundesland\"            \"Gebietskategorie\"      \"AGS\"                  \n",
              " [7] \"RS\"                    \"Jahr\"                  \"Thema-Bürgerbegehren\" \n",
              "[10] \"Ergebnis\"              \"Themenbereich\"         \"Verfahrenstyp\"        \n",
              "[13] \"BE-Datum\"              \"BE-Ja-Stimmenanteil\"   \"BE-Nein-Stimmenanteil\"\n",
              "[16] \"BE-Beteiligung\"        \"Status\"                \"Einwohnerzahl\"        "
            ]
          },
          "metadata": {}
        },
        {
          "output_type": "display_data",
          "data": {
            "text/plain": [
              "\n",
              "                                         BB öffentlich diskutiert \n",
              "                               7                              119 \n",
              "             BE-Termin angesetzt             Begehren angekündigt \n",
              "                              41                              110 \n",
              "            Begehren eingereicht         Bürgerbegehren angezeigt \n",
              "                              44                               11 \n",
              "               Klage eingereicht Unterschriftensammlung gestartet \n",
              "                              21                               79 \n",
              "         Verfahren abgeschlossen           Zulässigkeit behandelt \n",
              "                           10038                               21 "
            ]
          },
          "metadata": {}
        },
        {
          "output_type": "display_data",
          "data": {
            "text/plain": [
              "\n",
              "               BB erreicht zu wenig Unterschriften \n",
              "                                                22 \n",
              "                              BB nicht eingereicht \n",
              "                                               614 \n",
              "                      BB nur öffentlich diskutiert \n",
              "                                               592 \n",
              "                                  BB zurückgezogen \n",
              "                                               242 \n",
              "                         BE im Sinne des Begehrens \n",
              "                                              2123 \n",
              "                   BE in Stichentscheid angenommen \n",
              "                                               247 \n",
              "                  BE in Stichentscheid gescheitert \n",
              "                                               254 \n",
              "                   BE nicht im Sinne des Begehrens \n",
              "                                              1385 \n",
              "                             BE unecht gescheitert \n",
              "                                               552 \n",
              "                                        Kompromiss \n",
              "                                               183 \n",
              "                                 Nicht ermittelbar \n",
              "                                                11 \n",
              "                                   nur angekündigt \n",
              "                                               747 \n",
              "                                             Offen \n",
              "                                               151 \n",
              "Positiv erledigt durch neuen Gemeinderatsbeschluss \n",
              "                                              1067 \n",
              "                                         Unbekannt \n",
              "                                               128 \n",
              "                                        Unzulässig \n",
              "                                              2153 \n",
              "                                         Versandet \n",
              "                                                20 "
            ]
          },
          "metadata": {}
        }
      ]
    }
  ]
}
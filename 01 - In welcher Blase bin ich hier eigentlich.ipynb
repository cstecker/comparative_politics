{
  "nbformat": 4,
  "nbformat_minor": 0,
  "metadata": {
    "colab": {
      "provenance": [],
      "include_colab_link": true
    },
    "kernelspec": {
      "name": "ir",
      "display_name": "R"
    },
    "language_info": {
      "name": "R"
    }
  },
  "cells": [
    {
      "cell_type": "markdown",
      "metadata": {
        "id": "view-in-github",
        "colab_type": "text"
      },
      "source": [
        "<a href=\"https://colab.research.google.com/github/cstecker/comparative_politics/blob/main/01%20-%20In%20welcher%20Blase%20bin%20ich%20hier%20eigentlich.ipynb\" target=\"_parent\"><img src=\"https://colab.research.google.com/assets/colab-badge.svg\" alt=\"Open In Colab\"/></a>"
      ]
    },
    {
      "cell_type": "markdown",
      "source": [
        "# **In welcher Blase bin ich hier eigentlich?**\n",
        "Zum Einstieg wollen wir mit ein paar einfachen Analysen loslegen. Am besten schauen wir uns erstmal die Damen und Herren etwas genauer an, die mit uns in der Vorlesung sitzen. \n",
        "\n",
        "Dazu nutzen wir google-colab. Es erlaubt uns, das Statistikprogramm R zu nutzen ohne das wir uns mit der Installation oder Paketeverwaltung ausführlich beschäftigen müssen. Sie können alles aber auch wie die Profis auch in R-Studio implementieren. Weitere Infos dazu finden Sie hier: [LINK](http://chrstecker.de/teaching/ein-appetizer-fuer-die-datenanalyse-mit-r/)\n",
        "\n"
      ],
      "metadata": {
        "id": "HYVMYChAR_IV"
      }
    },
    {
      "cell_type": "markdown",
      "source": [
        "**Alle Befehle bzw. Code-Schnipsel können Sie mit *Strg+Enter* oder durch das klicken des Play-Buttons können passagenweise ausführen.** Darunter sehen Sie dann jeweils, welche Zeilen, mit welchem Ergebnis ausgeführt wurden. "
      ],
      "metadata": {
        "id": "cDCLfZPDdgD4"
      }
    },
    {
      "cell_type": "markdown",
      "source": [
        "Laden wir uns zunächst die Library mit den Befehlen, die wir bei der Analyse benötigen. Libraries sind Bibliotheken von Befehlen.Das tidyverse ist eine ganze Sammlung von Paketen, die insbesondere von Hadley Wickham, geprägt wurden:"
      ],
      "metadata": {
        "id": "IzxOxIJf1O35"
      }
    },
    {
      "cell_type": "code",
      "source": [
        "library(tidyverse)"
      ],
      "metadata": {
        "id": "qt0Jt6wndcIO"
      },
      "execution_count": null,
      "outputs": []
    },
    {
      "cell_type": "markdown",
      "source": [
        "Nun laden wir uns den Datensatz zur Vorlesungsumfrage, mit dem wir weiter arbeiten wollen. (Der aufbereitete Datensatz wird auf github bereitgestellt. Die Details hierzu müssen uns erst einma nicht weiter kümmern)."
      ],
      "metadata": {
        "id": "vUn4nP8m15sO"
      }
    },
    {
      "cell_type": "code",
      "source": [
        "# Datensatz herunterladen -------------------------------------------------------------\n",
        "download.file(\"https://github.com/cstecker/comparative_politics/blob/main/data/vpw2022-04.rds?raw=true\", \"survey.rds\")"
      ],
      "metadata": {
        "id": "R3dYftv9dlPH"
      },
      "execution_count": null,
      "outputs": []
    },
    {
      "cell_type": "code",
      "source": [
        "# Datensatz in die Analyseplattform laden\n",
        "survey <- readRDS(\"survey.rds\")"
      ],
      "metadata": {
        "id": "UTPK6uS944uq"
      },
      "execution_count": null,
      "outputs": []
    },
    {
      "cell_type": "markdown",
      "source": [
        "Für einen ersten Blick auf die Daten geben wir ein:"
      ],
      "metadata": {
        "id": "y8LX5h1sdl2-"
      }
    },
    {
      "cell_type": "code",
      "source": [
        "glimpse(survey)"
      ],
      "metadata": {
        "id": "-CKFVM6uduJH"
      },
      "execution_count": null,
      "outputs": []
    },
    {
      "cell_type": "markdown",
      "source": [
        "Wir erhalten nun eine Auflistung aller Variablen mit weiteren Informationen. In der linken Spalte sehen wir die Variablen des Datensatzes. Jeweils rechts daneben steht eine kleine Übersicht über die Antworten der Studierenden. \n",
        "\n",
        "Schauen wir uns mal ein paar Charakteristiken unserer Kohorte an. Wie ist die Geschlechterverteilung hier im Kurs?"
      ],
      "metadata": {
        "id": "BCNouYvLeIH0"
      }
    },
    {
      "cell_type": "code",
      "source": [
        "count(survey, geschlecht)"
      ],
      "metadata": {
        "id": "ucZwNCBCeJvx"
      },
      "execution_count": null,
      "outputs": []
    },
    {
      "cell_type": "markdown",
      "source": [
        "Versuchen Sie *count* mal selbst, z. B. mit der Variable *party*!\n",
        "\n",
        "Wir interessieren uns nun zunächst für die, sich als männlich identifizierenden, Studierenden. Dazu werfen wir alle anderen Studierenden aus dem Datensatz. Dazu nutzen wir *filter*."
      ],
      "metadata": {
        "id": "bK0ku1jZeL7q"
      }
    },
    {
      "cell_type": "code",
      "source": [
        "sample_male <- filter(survey, geschlecht == \"Männlich\")"
      ],
      "metadata": {
        "id": "qZoBy7HWeSce"
      },
      "execution_count": null,
      "outputs": []
    },
    {
      "cell_type": "markdown",
      "source": [
        "Nun ist ein neues Objekt sample_male angelegt, das nur männliche Studierenden enthält (analog können Sie auch ein *sample_female* etc. anlegen). Mit *filter* haben Sie das erste Verb kennen gelernt, mit dem man die Daten bearbeiten kann (auch als data wrangling bezeichnet)."
      ],
      "metadata": {
        "id": "Gxo4GtTMeTc_"
      }
    },
    {
      "cell_type": "markdown",
      "source": [
        "## **Wie würden die Kursteilnehmer abstimmen, wenn am nächsten Sonntag Bundestagswahl wäre?**\n",
        "\n",
        "Nun sind wir neugierig, welche Parteien von den männlichen Studierenden präferiert werden. Diese Information ist in der Variable vote hinterlegt:"
      ],
      "metadata": {
        "id": "iagWUVmBefr9"
      }
    },
    {
      "cell_type": "code",
      "source": [
        "count(sample_male, vote)"
      ],
      "metadata": {
        "id": "qxKj63zvellT"
      },
      "execution_count": null,
      "outputs": []
    },
    {
      "cell_type": "markdown",
      "source": [
        "Es scheint, als wären wir in einer links-liberal neigenden Blase gelandet. Ein Blick auf aktuelle Umfragen legt nahe, dass der durchschnittliche Bundesbürger politisch etwas anders tickt als Sie und Ihre Kommillitoninnen und Kommillitonen.\n",
        "\n",
        "Aber auch, wenn Sie zu den wenigen Konservativen im Kurs gehören, brauchen Sie sich keine Sorgen zu machen. Zum Glück respektieren sicher gerade an der Universität alle den fundamentalen Wert der Meinungsfreiheit und werden auch abweichenden Argumenten und Werthaltungen gegenüber respektvoll und aufgeschlossen sein. Sie brauchen auch nicht aus Höflichkeit über die politisch korrekten linksgrünen Scherze des Dozenten lachen. Er hat halt Marktforschung betrieben (Kursumfrage!) und will sich bei der Mehrheit anbiedern.\n",
        "\n",
        "Wie sieht es denn unter den weiblichen Studierenden aus?"
      ],
      "metadata": {
        "id": "_osm4b92enhv"
      }
    },
    {
      "cell_type": "code",
      "source": [
        "survey %>% \n",
        "  filter(geschlecht == \"Weiblich\") %>% \n",
        "  count(vote) "
      ],
      "metadata": {
        "id": "dPFsMHose3XQ"
      },
      "execution_count": null,
      "outputs": []
    },
    {
      "cell_type": "markdown",
      "source": [
        "Die letzte Eingabe besteht aus mehreren Zeilen, die durch “%>%” verbunden sind. Dies ist eine sogenannte pipe, die Befehle verknüpft. Die pipe nimmt jeweils den Output der vorhergehenden Zeile als Input der nachfolgenden Zeile, hier: Nimm Dir den survey-Datensatz, dann filtere weibliche Studierende heraus, dann zähle ihre Parteipräferenzen. Wir werden die pipe nun immer nutzen, da man damit komplexe Befehlsketten sehr übersichtlich strukturieren kann."
      ],
      "metadata": {
        "id": "NReSYMtSe5_H"
      }
    },
    {
      "cell_type": "markdown",
      "source": [
        "Oft helfen Prozente dabei, relevante Unterschiede besser ersichtlich zu machen."
      ],
      "metadata": {
        "id": "NQoXJ1bwfAOn"
      }
    },
    {
      "cell_type": "code",
      "source": [
        "survey %>% \n",
        "  filter(geschlecht == \"Weiblich\") %>% \n",
        "  count(vote) %>% \n",
        "  # Berechnen der Prozentanteile mit mutate, die neuen Variablen nennen wir dann totalvotes und share\n",
        "  mutate(totalvotes = sum(n),\n",
        "         share = n/totalvotes*100)"
      ],
      "metadata": {
        "id": "3CmkNyUkfCK2"
      },
      "execution_count": null,
      "outputs": []
    },
    {
      "cell_type": "markdown",
      "source": [
        "Die Prozente haben wir mit *mutate* berechnet – dies ist das *tidyverse*-Verb zum Generieren neuer Variablen. Erst haben wir *totalvote* berechnet. Dies ist die Gesamtzahl aller Stimmen. Mit einem Komma abgetrennt, haben wir eine weitere Variable, *share* erstellt, die uns die Prozente ausgibt. Und wir haben gleich noch gelernt, dass man Kommentare mit einem anführenden # in den Code schreiben kann. Kommentieren Sie am besten immer ausführlicher als Sie es im Moment für notwendig erachten. Dann schauen Sie in vierzehn Tagen weniger ratlos auf den Code, den Sie vor vierzehn Tagen selbst flüssig heruntergeschrieben haben. Sie können nun die Geschlechter vergleichen, indem Sie einfach *filter(geschlecht == \"Männlich\")* beliebig befüllen.\n",
        "\n",
        "Wenn Sie dies vertiefen wollen, lesen Sie sich dazu am besten auch das Kapitel in R for DataScience durch. Da wir R als Programmiersprache in Colab nutzen, lässt sich alles von dort auch hier anwenden!\n",
        "\n",
        "Zurück zu den männlichen Studierenden: Eine Grafik sagt es meist besser als eine Tabelle, da die Informationen unmittelbar visuell beurteilt werden können. Füttern wir die Parteipräferenzen also in ein Balkendiagramm:"
      ],
      "metadata": {
        "id": "0DjzKDGTfGYY"
      }
    },
    {
      "cell_type": "code",
      "source": [
        "sample_male %>% count(vote) %>% #Wir wollen die Anzahl der votes pro Partei aus dem Datensatz für männliche Studierende\n",
        "  mutate(totalvotes = sum(n), #Wir erstellen erneut die Prozentvariable für diesen Datensatz\n",
        "         share = n/totalvotes*100) %>% \n",
        "  ggplot() +\n",
        "  geom_col(aes(x = vote, y = share)) + \n",
        "  scale_x_discrete(guide = guide_axis(angle = 45)) "
      ],
      "metadata": {
        "id": "jLM82CeKfRys"
      },
      "execution_count": null,
      "outputs": []
    },
    {
      "cell_type": "markdown",
      "source": [
        "Mit dem Balkendiagramm haben wir ggplot2, das Visualisierungspaket im *tidyverse* kennengelernt. Mit “ggplot” wird der Grafikbefehl gestartet. Ab da weiß COlab, dass nun ggplot-Befehle kommen. Danach werden weitere ggplot-Befehle mit “+” verknüpft (Achtung: hier nicht “%>%” benutzen). Danach sagen wir Colab, welche Art des Graphs, das Geom, gezeichnet werden soll. Mit *geom_col* sagen wir Colab, dass die Daten als Balken (Columns) dargestellt werden sollen und konkretisieren in *(aes(x = vote, y = share))*, dass auf der x-Achse die unterschiedlichen Parteien und auf der y-Achse die Prozente bei der Sonntagsfrage abgebildet werden. Der letzte Abschnitt, *scale_x_discrete*, ist vorerst nicht wichtig zu verstehen, dient hier aber um die Namen der Parteien auf der x-Achse zu drehen, damit man sie besser zu lesen sind.\n",
        "\n",
        "Lesen Sie sich dazu am besten auch das Kapitel in R for DataScience durch."
      ],
      "metadata": {
        "id": "nYvrRGh6fW2T"
      }
    },
    {
      "cell_type": "markdown",
      "source": [
        "## **The Gender Gap in Voting: Evidence from the University of Darmstadt.**\n",
        "\n",
        "Jetzt lernen wir noch ein weiteres ggplot-geom kennen und nutzen dies gleich für eine Forschungsfrage.\n",
        "Als SozialwissenschaftlerInnen sind wir ständig auf der Suche nach Mustern und Erklärungen der politischen und sozialen Realität. Unser Datensatz erlaubt es uns, dass wir die Studierenden nach Geschlecht getrennt betrachten können, um eine Politikwissenschaftliche Theorie zu untersuchen. Der *Gender Gap in Voting* ist eine langanhaltende Diskussion in der Forschung, die Unterschiede im Wahlverhalten zwischen den Geschlechten untersucht. Viele Studien konnten dabei beobachten, dass weibliche Wählerinnen eher liberal und weniger konservativ wählen als männliche Personen. Ihr Wahlverhalten haben wir uns bereits angesehem, aber wir können schauen, ob sich die weiblichen Studierenden im “Links-Sein” von den männlichen Studierenden unterscheiden. In der Umfrage wurden Sie gebeten, sich auf einer allgemeinen “Links-Rechts-Achse” selbst einzuordnen. Diese Information ist in der Variablen lire_self hinterlegt. Die Verteilung der Variablen bilden wir nun mit einem density-plot ab und lassen uns die Werte für die Geschlechter getrennt darstellen. Wenn die Theorie wahr wäre, sollten wir beobachten, dass die männlichen unter ihnen eher rechte Werte auf der Skala wählen als weibliche Studierende.\n",
        "\n",
        "Um die Geschlechter nun vergleichen zu können, erstellen wir eine Variable in der Studierenden der Wert *Male* zugeordnet wird, wenn sie männlich sind und der Wert *Female* wenn nicht. Dafür eignet sich der *ifelse* Befehl, wie der Name schon vermuten lässt."
      ],
      "metadata": {
        "id": "4pUrKi_Nfk8X"
      }
    },
    {
      "cell_type": "code",
      "source": [
        "survey %>%\n",
        "  filter(geschlecht == \"Weiblich\"| geschlecht == \"Männlich\") %>% #Hier filtern wir Personen raus, die keine Angabe zum Geschlecht gemacht haben\n",
        "  mutate(gender = ifelse(geschlecht == \"Männlich\",\"Male\",\"Female\")) %>%\n",
        "  ggplot(aes(as.numeric(as.character(lire_self)), color = geschlecht, fill = geschlecht)) +\n",
        "  geom_density(alpha = 0.2, adjust = 1.5) +\n",
        "  labs(title = \"Sind männliche Studierende 'rechter'?\", \n",
        "       x = \"Links-Rechts-Selbsteinschätzung\") "
      ],
      "metadata": {
        "id": "XndxlB-KfwI2"
      },
      "execution_count": null,
      "outputs": []
    },
    {
      "cell_type": "markdown",
      "source": [
        "Der Modus beider Verteilungen lässt keine Bestätigung unserer Erwartung vermuten. Beide Geschlechter im Datensatz befinden sich eher links der Mitte und haben in etwa den selbst Modus. Jedoch zeigt sich bei den männlichen Studierenden, weniger normalverteilt sind, sondern eher eine linkssteile Verteilung aufweisen. Damit haben gibt es unter den Männern des Kurses mehr personen, die sich rechts der Mitte einordnen als die Frauen unter ihnen.  Wollen Frauen also eher eine liberale Politik? Liegt es daran, dass sie historisch bedingt eher zu post-materialistischen Werten (bspw. Fokus auf Familienpolitik) neigen? Damit sind wir schon mitten im Interview mit den Daten, die wir im Kurs einüben wollen.\n",
        "\n",
        "Sie wissen jetzt auch, dass man mit *labs()* eine Abbildung und ihre Achsen beschriften kann.\n",
        "\n",
        "Eine umfangreichere Auswertung der Umfrage finden Sie hier:\n",
        "\n",
        "???\n",
        "\n",
        "Die Grafiken sind etwas schicker (haben aber auch deutlich mehr Zeit gekostet). Im Laufe des Kurses werden wir die Schönheit und Aussagekraft der Grafiken auch stetig verbessern."
      ],
      "metadata": {
        "id": "lc72rNzcfxUG"
      }
    },
    {
      "cell_type": "markdown",
      "source": [
        "## **Lage- and Streuungsmaße**\n",
        "\n",
        "Eine weitere Methode für einen Überblick über die Verteilung von Variablen sind Lage- und Streuungsmaße. Und diese zu veranschaulichen sehen wir uns die Variable *klim_self* an, welche eure Einstellung zum Klimaschutz misst. Dafür sehen wir uns in Tabellen-Form an, wie Wahl verteilt ist."
      ],
      "metadata": {
        "id": "T7IMsxUldPRC"
      }
    },
    {
      "cell_type": "code",
      "source": [
        "table(survey$klim_self)"
      ],
      "metadata": {
        "id": "t-6QBd7pfIAp"
      },
      "execution_count": null,
      "outputs": []
    },
    {
      "cell_type": "markdown",
      "source": [
        "Die obere Reihe gibt den Wert an und die untere Reihe zeig, wieviele von euch diese Kategorie gewählt haben. Mit dieser Ansicht kann man sehr gut den Modus erkennen. Denn der Modus ist ganz einfach die Kategorie, die am meisten gewählt wurde. Das ist in diesem Fall die 1. Das Klima vielen von euch entsprechend sehr wichtig!\n",
        "\n",
        "Wie sieht es mit einem Durchschnittswert aus? Hier wird üblicherweise das arithmetische Mittel verwendet, welches sich mit *mean* berechnen lässt."
      ],
      "metadata": {
        "id": "jL81apEgi77G"
      }
    },
    {
      "cell_type": "code",
      "source": [
        "mean(survey$klim_self)"
      ],
      "metadata": {
        "id": "Miz4iC_zhdPm"
      },
      "execution_count": null,
      "outputs": []
    },
    {
      "cell_type": "markdown",
      "source": [
        "Hmm... das scheint nicht zu funktionieren. Was ist das los? Die Daten scheinen im Factor Format im Datensatz gespeichert zu sein. Das bedeutet, dass sie als Wörter verstanden werden und nicht als Zahlen. Aus einer 1 wird \"1\". Das müssen wir beheben, denn mit Factors kann man nicht rechnen. Die Zahlen müssen als numerische Werte verstanden werden."
      ],
      "metadata": {
        "id": "oJz8IFbYkX1j"
      }
    },
    {
      "cell_type": "code",
      "source": [
        "survey$klim_self <- as.numeric(survey$klim_self)\n",
        "class(survey$klim_self) #Hat es funktioniert? Welche Klasse hat die Variable jetzt?"
      ],
      "metadata": {
        "id": "_-xr-s6sk1FQ"
      },
      "execution_count": null,
      "outputs": []
    },
    {
      "cell_type": "code",
      "source": [
        "mean(survey$klim_self)"
      ],
      "metadata": {
        "id": "_QYY9ViIlAfI"
      },
      "execution_count": null,
      "outputs": []
    },
    {
      "cell_type": "markdown",
      "source": [
        "Nun bekommen wir nur ein NA. Das bedeutet meist, dass bestimmte Zellen im Datensatz keinen Wert enthalten. Meist heißt das, dass eine der befragten Personen zu dieser Frage keine Antwort gegeben hat. Diese Personen müssen wir entsprechend rausfiltern und den Datensatz neu abspeichern."
      ],
      "metadata": {
        "id": "MHVwen0olK65"
      }
    },
    {
      "cell_type": "code",
      "source": [
        "survey <- survey %>% filter(!is.na(klim_self)) #is.na sorgt dafür, dass wir all Zellen mit NA gefiltert werden. Mit dem \"!\" sorgen wir dafür, dass genau diese Zellen nicht enthalten sind.\n",
        "mean(survey$klim_self)"
      ],
      "metadata": {
        "id": "7F136rPileP8"
      },
      "execution_count": null,
      "outputs": []
    },
    {
      "cell_type": "markdown",
      "source": [
        "Nun sehen wir, dass der Durschnittswert bei etwa 3.64 liegt. Auch dies deutet darauf hin, dass euch das Klima sehr am Herzen liegt.\n",
        "\n",
        "Wir können uns diesen Wert und weitere auch mit dem Überblicks-Befehl, *summary*, ausgeben lassen."
      ],
      "metadata": {
        "id": "HWXkZGSumsVj"
      }
    },
    {
      "cell_type": "code",
      "source": [
        "summary(survey$klim_self)"
      ],
      "metadata": {
        "id": "XiU4QUu9nANR"
      },
      "execution_count": null,
      "outputs": []
    },
    {
      "cell_type": "markdown",
      "source": [
        "Was bedeuten die anderen Werte? Die anderen Werte beschreiben verschiedene Quartile. Zur Vereinfachung kann man dieses Wort wie folgt verstehen:\n",
        "Würde man alle Antworten der größe nach aufreihen, dann wären Quartile eine Aufteilung dieser Aufreihung in vier gleichgroße Stücke. Der Wert \"1st Qu.\" gibt entsprechend an, welcher Wert zwischen den ersten beiden Abschnitten liegt und somit die Grenze ausmacht. Der Median ist das 50% quartil, der Wert, der genau in der Mitte dieser Aufteilung liegt. Das \"3rd Qu.\" liegt entsprechend bei 75% der Verteilung und gibt die grenzen zwischen dem dritten und dem vierten Abschnitt an. Dieses Maß gibt im Vergleich zum Durschnitt auch einen Überblick über die Verteilung der Werte.\n",
        "Und zuletzt, \"Min\" gibt den geringesten und \"Max\" den höchsten Wert an.\n",
        "\n",
        "Wie hoch ist die Spannweite zwischen dem ersten und dem dritten quartil? Als zwitschen 1 und 5? Klar, 4! Dieser Wert ist auch bekannt als Interquartilsabstand bekannt und hilft dabei die Streuung der Werte einschätzen zu können. Dies kann man ganz einfach mit *IQR* ausrechnen lassen."
      ],
      "metadata": {
        "id": "xxsdJsPbnUvv"
      }
    },
    {
      "cell_type": "code",
      "source": [
        "IQR(survey$klim_self)"
      ],
      "metadata": {
        "id": "G-pJwpd5pn-O"
      },
      "execution_count": null,
      "outputs": []
    },
    {
      "cell_type": "markdown",
      "source": [
        "Was noch? Ein weiteres, sehr wichtiges Maß ist die Standardabweichung. Zusammengefasst ist die Standardabweichung das durschnittliche Abweichungsprodukt. Also die durchschnittliche Abweichung vom arithmetischen Mittelwert. Um dies per Hand auszurechnen müsste man:\n",
        "\n",
        "Das arithmetische Mittel der Variable ausrechnen. Dann jeden Wert der Variable nehmen, den Mittelwert von diesem Wert abziehen, das Ergebnis quadrieren und alle daraus entstehenden Werte addieren. Das Ergebnis müsste man durch die Anzahl an der Befragten teilen (wie gesagt, ein Mittelwert). Das ergibt die Varianz. Aus dem Ergebnisse müsste man abschließend die Wurzel ziehen, um die Standardabweichung zu bekommen. \n",
        "\n",
        "Klingt aufwendig? Ganz genau! Aber aber auch dafür gibt es selbstverständlich einen Befehl"
      ],
      "metadata": {
        "id": "yonAgwWJqshE"
      }
    },
    {
      "cell_type": "code",
      "source": [
        "sd(survey$klim_self)"
      ],
      "metadata": {
        "id": "zFaxQ6AFsKfX"
      },
      "execution_count": null,
      "outputs": []
    },
    {
      "cell_type": "markdown",
      "source": [
        "In unserem Datensatz weichen eure Antworten als durchschnittlich um 2.72 vom Mittelwert von 3.64 ab. Die Standardabweichung wird in der Inferenzstatistik noch sehr sehr wichtig werden! Je früher ihr damit in Kontakt kommt, desto besser."
      ],
      "metadata": {
        "id": "AIFEimUtsNdN"
      }
    },
    {
      "cell_type": "markdown",
      "source": [
        "## **Was sind Ihre eigenen theoretischen Erwartungen!**\n",
        "\n",
        "Warum könnten Frauen politisch “linker” sein als Männer? Welche Intuitionen über mögliche Datenmuster haben Sie?"
      ],
      "metadata": {
        "id": "bfjku8nagMGn"
      }
    }
  ]
}
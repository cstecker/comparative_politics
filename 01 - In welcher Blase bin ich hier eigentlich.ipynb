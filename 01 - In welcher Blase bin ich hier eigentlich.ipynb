{
  "nbformat": 4,
  "nbformat_minor": 0,
  "metadata": {
    "colab": {
      "provenance": [],
      "include_colab_link": true
    },
    "kernelspec": {
      "name": "ir",
      "display_name": "R"
    },
    "language_info": {
      "name": "R"
    }
  },
  "cells": [
    {
      "cell_type": "markdown",
      "metadata": {
        "id": "view-in-github",
        "colab_type": "text"
      },
      "source": [
        "<a href=\"https://colab.research.google.com/github/cstecker/comparative_politics/blob/main/01%20-%20In%20welcher%20Blase%20bin%20ich%20hier%20eigentlich.ipynb\" target=\"_parent\"><img src=\"https://colab.research.google.com/assets/colab-badge.svg\" alt=\"Open In Colab\"/></a>"
      ]
    },
    {
      "cell_type": "markdown",
      "source": [
        "## **In welcher Blase bin ich hier eigentlich?**\n",
        "Nun wollen wir mit den ersten Analysen loslegen. Am besten schauen wir uns erstmal die Damen und Herren etwas genauer an, die mit uns im Kurs sitzen. Genau genommen schauen wir uns die Damen und Herren an, die die Vorlesung im Sommersemester 2022 besucht haben. Damals wurde die Umfrage in einer Vorlesung hier an der TU Darmstadt durchgeführt.\n",
        "\n",
        "Dazu laden wir die (bereits aufbereiteten) Daten der Umfrage direkt über GitHub herunter.\n",
        "\n",
        "**Den gesamten folgenden Code können Sie nun fortlaufend in den *Code Editor* tippen und ausführen.** Mit *Strg+Enter* oder durch das klicken des Play-Buttons können Sie den Code passagenweise ausführen. Darunter sehen Sie dann jeweils, welche Zeilen, mit welchem Ergebnis ausgeführt wurden. Da man sich so die Befehle besser einprägt, empfiehlt es sich übrigens tatsächlich zu tippen und nicht einfach nur zu kopieren."
      ],
      "metadata": {
        "id": "HYVMYChAR_IV"
      }
    },
    {
      "cell_type": "markdown",
      "source": [
        "Jetzt laden wir das Paket *tidyverse*. Pakete (bzw. packages) sind Baukästen an Befehlen, die Base R erweitern. Das tidyverse ist eine ganze Sammlung von Paketen, die insbesondere von Hadley Wickham, einem Superhelden im R-Universum, geprägt wurden. Sie machen das Arbeiten mit R sehr intuitiv und vielseitig.\n",
        "\n",
        "Beim ersten Mal müssen wir das tidyverse installieren, beim nächsten Mal nicht mehr."
      ],
      "metadata": {
        "id": "xtsf5q5Gc856"
      }
    },
    {
      "cell_type": "code",
      "source": [
        "# Pakete laden ------------------------------------------------------------\n",
        "install.packages(\"tidyverse\") #nur beim ersten Mal notwendig, danach reicht \"library\""
      ],
      "metadata": {
        "colab": {
          "base_uri": "https://localhost:8080/"
        },
        "id": "ur57Q1xDdOkO",
        "outputId": "1ea7e2b7-b9f7-4dc8-f9d1-76da8f682464"
      },
      "execution_count": null,
      "outputs": [
        {
          "output_type": "stream",
          "name": "stderr",
          "text": [
            "Installing package into ‘/usr/local/lib/R/site-library’\n",
            "(as ‘lib’ is unspecified)\n",
            "\n"
          ]
        }
      ]
    },
    {
      "cell_type": "markdown",
      "source": [
        "R gibt einige Meldungen aus, die uns zunächst nicht weiter kümmern müssen. (Wenn Sie hier in dem eingegrauten Bereich Zeilen sehen, die mit “##” beginnen, handelt es sich dabei jeweils um Ausgaben, die auf einem Befehl folgen.)\n",
        "\n",
        "Wir können mit dem Befehl *library()* nun das Paket tidyverse laden."
      ],
      "metadata": {
        "id": "cyOz_moOdXGb"
      }
    },
    {
      "cell_type": "code",
      "source": [
        "library(tidyverse)"
      ],
      "metadata": {
        "colab": {
          "base_uri": "https://localhost:8080/"
        },
        "id": "qt0Jt6wndcIO",
        "outputId": "3e5bc049-6e1f-4647-a845-7b520c990d06"
      },
      "execution_count": null,
      "outputs": [
        {
          "output_type": "stream",
          "name": "stderr",
          "text": [
            "Warning message in system(\"timedatectl\", intern = TRUE):\n",
            "“running command 'timedatectl' had status 1”\n",
            "── \u001b[1mAttaching packages\u001b[22m ─────────────────────────────────────── tidyverse 1.3.2 ──\n",
            "\u001b[32m✔\u001b[39m \u001b[34mggplot2\u001b[39m 3.4.1     \u001b[32m✔\u001b[39m \u001b[34mpurrr  \u001b[39m 1.0.1\n",
            "\u001b[32m✔\u001b[39m \u001b[34mtibble \u001b[39m 3.1.8     \u001b[32m✔\u001b[39m \u001b[34mdplyr  \u001b[39m 1.1.0\n",
            "\u001b[32m✔\u001b[39m \u001b[34mtidyr  \u001b[39m 1.3.0     \u001b[32m✔\u001b[39m \u001b[34mstringr\u001b[39m 1.4.1\n",
            "\u001b[32m✔\u001b[39m \u001b[34mreadr  \u001b[39m 2.1.4     \u001b[32m✔\u001b[39m \u001b[34mforcats\u001b[39m 1.0.0\n",
            "── \u001b[1mConflicts\u001b[22m ────────────────────────────────────────── tidyverse_conflicts() ──\n",
            "\u001b[31m✖\u001b[39m \u001b[34mdplyr\u001b[39m::\u001b[32mfilter()\u001b[39m masks \u001b[34mstats\u001b[39m::filter()\n",
            "\u001b[31m✖\u001b[39m \u001b[34mdplyr\u001b[39m::\u001b[32mlag()\u001b[39m    masks \u001b[34mstats\u001b[39m::lag()\n"
          ]
        }
      ]
    },
    {
      "cell_type": "markdown",
      "source": [
        "Anschließend laden wir den Datensatz der Kursumfrage. Die anonyme Kursumfrage wurde von Ihnen vor dem Start der Vorlesung durchgeführt und gibt Ihnen die schöne Möglichkeit einer sozialforscherischen Selbstbeschauung."
      ],
      "metadata": {
        "id": "cDCLfZPDdgD4"
      }
    },
    {
      "cell_type": "code",
      "source": [
        "# Daten laden -------------------------------------------------------------\n",
        "survey <- readRDS(gzcon(url(\"https://github.com/cstecker/comparative_politics/blob/main/vpw2022-04.rds?raw=true\")))"
      ],
      "metadata": {
        "id": "R3dYftv9dlPH"
      },
      "execution_count": null,
      "outputs": []
    },
    {
      "cell_type": "markdown",
      "source": [
        "R sucht ausgehend vom aktuellen Pfad nach der Datei auf GitHub.\n",
        "Für einen ersten Blick auf die Daten geben wir ein:"
      ],
      "metadata": {
        "id": "y8LX5h1sdl2-"
      }
    },
    {
      "cell_type": "code",
      "source": [
        "glimpse(survey)"
      ],
      "metadata": {
        "colab": {
          "base_uri": "https://localhost:8080/"
        },
        "id": "-CKFVM6uduJH",
        "outputId": "d4f0a280-d263-40fa-b8f8-252b5183d65e"
      },
      "execution_count": null,
      "outputs": [
        {
          "output_type": "stream",
          "name": "stdout",
          "text": [
            "Rows: 88\n",
            "Columns: 39\n",
            "$ time             \u001b[3m\u001b[90m<dttm>\u001b[39m\u001b[23m 2022-04-05 14:21:38, 2022-04-05 14:38:20, 2022-04-05…\n",
            "$ geschlecht       \u001b[3m\u001b[90m<fct>\u001b[39m\u001b[23m Männlich, Keine Angabe, Männlich, Männlich, Männlich,…\n",
            "$ bundesland       \u001b[3m\u001b[90m<fct>\u001b[39m\u001b[23m Hessen, Ich wurde nicht in Deutschland geboren, Baden…\n",
            "$ skalo_cdu        \u001b[3m\u001b[90m<fct>\u001b[39m\u001b[23m 4, -5, -4, -4, 3, 3, -3, 0, -5, -4, -3, 1, -2, -5, 1,…\n",
            "$ skalo_spd        \u001b[3m\u001b[90m<fct>\u001b[39m\u001b[23m 2, -5, -4, -1, 1, 3, 0, -2, 5, 4, 3, 1, 2, 2, 2, 3, 3…\n",
            "$ skalo_pds        \u001b[3m\u001b[90m<fct>\u001b[39m\u001b[23m 4, -5, -4, 2, -5, 2, -3, 0, 1, -2, -2, 2, -3, -2, -4,…\n",
            "$ skalo_gru        \u001b[3m\u001b[90m<fct>\u001b[39m\u001b[23m 5, -5, -4, 4, -5, 2, 3, -2, 4, 3, 0, 3, 2, 5, 1, 1, 3…\n",
            "$ skalo_fdp        \u001b[3m\u001b[90m<fct>\u001b[39m\u001b[23m -4, -5, -4, -3, -5, 2, 0, 2, 3, -1, 5, 0, 1, -1, 4, 5…\n",
            "$ skalo_afd        \u001b[3m\u001b[90m<fct>\u001b[39m\u001b[23m -5, -5, -4, -5, -5, 0, -5, 4, -5, -5, -5, -4, -5, -5,…\n",
            "$ vote             \u001b[3m\u001b[90m<chr>\u001b[39m\u001b[23m \"Bündnis90 / Die Grünen\", \"Sonstiges:\", \"CDU\", \"Bündn…\n",
            "$ vote_text        \u001b[3m\u001b[90m<chr>\u001b[39m\u001b[23m \"\", \"XYZ\", \"\", \"\", \"\", \"\", \"\", \"\", \"\", \"\", \"FDP\", \"\",…\n",
            "$ lire_self        \u001b[3m\u001b[90m<fct>\u001b[39m\u001b[23m 1, NA, 4, 2, 8, 7, 4, 7, 3, 3, 5, 4, 4, 3, 5, 6, 3, 3…\n",
            "$ econ_self        \u001b[3m\u001b[90m<fct>\u001b[39m\u001b[23m 1, 1, 4, 3, 10, 7, 3, 10, 4, 1, 11, 4, 6, 6, 7, 8, 8,…\n",
            "$ immi_self        \u001b[3m\u001b[90m<fct>\u001b[39m\u001b[23m 1, 2, 6, 1, 1, 3, 5, 10, 6, 7, 4, 6, 4, 5, 3, 7, 7, 2…\n",
            "$ klim_self        \u001b[3m\u001b[90m<fct>\u001b[39m\u001b[23m NA, 7, 6, 1, 6, 8, 2, 8, 4, 2, 11, 2, 2, 4, 3, 6, 3, …\n",
            "$ euin_self        \u001b[3m\u001b[90m<fct>\u001b[39m\u001b[23m 3, 2, 6, 3, 6, 5, 6, 9, 3, 8, 4, 3, 4, 5, 2, 2, 6, 2,…\n",
            "$ dem_brd          \u001b[3m\u001b[90m<fct>\u001b[39m\u001b[23m 8, 1, 1, 7, 9, 8, 8, 7, 9, 9, 8, 8, 9, 10, 8, 10, 8, …\n",
            "$ dem_usa          \u001b[3m\u001b[90m<fct>\u001b[39m\u001b[23m 5, 1, 2, 5, 10, 7, 6, 7, 7, 7, 6, 7, 7, 8, 7, 7, 6, 6…\n",
            "$ dem_hun          \u001b[3m\u001b[90m<fct>\u001b[39m\u001b[23m 2, 7, 1, 1, 7, 6, 4, 3, 2, 3, 3, 7, 4, 2, 6, 5, 5, 5,…\n",
            "$ dem_pol          \u001b[3m\u001b[90m<fct>\u001b[39m\u001b[23m 2, 6, 1, 2, 7, 6, 4, 3, 5, 3, 3, 7, 5, 2, 6, 4, 5, 5,…\n",
            "$ dem_rus          \u001b[3m\u001b[90m<fct>\u001b[39m\u001b[23m 0, 1, 1, 0, 1, 1, 2, 1, 0, 0, 0, 2, 1, 0, 2, 0, 1, 0,…\n",
            "$ dem_eigen        \u001b[3m\u001b[90m<fct>\u001b[39m\u001b[23m NA, NA, NA, NA, NA, NA, NA, NA, NA, NA, NA, NA, NA, N…\n",
            "$ trust_breg       \u001b[3m\u001b[90m<fct>\u001b[39m\u001b[23m hohes Vertrauen, hohes Vertrauen, NA, mittelmäßig, mi…\n",
            "$ trust_parl       \u001b[3m\u001b[90m<fct>\u001b[39m\u001b[23m sehr hohes Vertrauen, sehr hohes Vertrauen, NA, mitte…\n",
            "$ trust_pol        \u001b[3m\u001b[90m<fct>\u001b[39m\u001b[23m mittelmäßig, mittelmäßig, NA, geringes Vertrauen, mit…\n",
            "$ trust_party      \u001b[3m\u001b[90m<fct>\u001b[39m\u001b[23m hohes Vertrauen, hohes Vertrauen, NA, mittelmäßig, mi…\n",
            "$ trust_justiz     \u001b[3m\u001b[90m<fct>\u001b[39m\u001b[23m sehr hohes Vertrauen, sehr hohes Vertrauen, NA, hohes…\n",
            "$ trust_science    \u001b[3m\u001b[90m<fct>\u001b[39m\u001b[23m sehr hohes Vertrauen, sehr hohes Vertrauen, NA, sehr …\n",
            "$ trust_lreg       \u001b[3m\u001b[90m<fct>\u001b[39m\u001b[23m hohes Vertrauen, hohes Vertrauen, NA, mittelmäßig, mi…\n",
            "$ trust_mayor      \u001b[3m\u001b[90m<fct>\u001b[39m\u001b[23m mittelmäßig, geringes Vertrauen, NA, hohes Vertrauen,…\n",
            "$ design_introddem \u001b[3m\u001b[90m<fct>\u001b[39m\u001b[23m teils/teils, stimme eher nicht zu, stimme eher nicht …\n",
            "$ design_intromw   \u001b[3m\u001b[90m<fct>\u001b[39m\u001b[23m stimme gar nicht zu, stimme eher zu, stimme eher nich…\n",
            "$ design_minreg    \u001b[3m\u001b[90m<fct>\u001b[39m\u001b[23m stimme eher zu, stimme eher nicht zu, stimme eher nic…\n",
            "$ design_direktbk  \u001b[3m\u001b[90m<fct>\u001b[39m\u001b[23m stimme gar nicht zu, teils/teils, stimme eher nicht z…\n",
            "$ design_manyparty \u001b[3m\u001b[90m<fct>\u001b[39m\u001b[23m stimme eher zu, stimme eher nicht zu, stimme eher nic…\n",
            "$ stat_skills      \u001b[3m\u001b[90m<fct>\u001b[39m\u001b[23m \"gut (ich weiß, was mir gruppierte Boxplots anzeigen)…\n",
            "$ stat_software    \u001b[3m\u001b[90m<fct>\u001b[39m\u001b[23m ja, 3, NA, nein, nein, nein, nein, nein, nein, nein, …\n",
            "$ expect           \u001b[3m\u001b[90m<chr>\u001b[39m\u001b[23m \"Keine Flüchtigkeitsfehler der Studierenden bei der K…\n",
            "$ party            \u001b[3m\u001b[90m<fct>\u001b[39m\u001b[23m gru, son, cdu, gru, cdu, spd, gru, afd, spd, spd, fdp…\n"
          ]
        }
      ]
    },
    {
      "cell_type": "markdown",
      "source": [
        "Wir erhalten nun eine Auflistung aller Variablen mit weiteren Informationen. In der linken Spalte sehen wir die Variablen des Datensatzes. Jeweils rechts daneben steht eine kleine Übersicht über die Antworten der Studierenden. \n",
        "\n",
        "An der Umfrage haben sich Studierende aus mehreren Bundesländern beteiligt. Wie häufig sind die einzelnen Bundesländer vertreten? Dazu lassen wir uns die Anzahl der Fälle innerhalb einer bestimmten Gruppe (Bundesländer) mit count ausgeben."
      ],
      "metadata": {
        "id": "BCNouYvLeIH0"
      }
    },
    {
      "cell_type": "code",
      "source": [
        "count(survey, bundesland)"
      ],
      "metadata": {
        "colab": {
          "base_uri": "https://localhost:8080/",
          "height": 349
        },
        "id": "ucZwNCBCeJvx",
        "outputId": "cc1e63e3-e6f7-4631-80b2-4d0eeeba730a"
      },
      "execution_count": null,
      "outputs": [
        {
          "output_type": "display_data",
          "data": {
            "text/html": [
              "<table class=\"dataframe\">\n",
              "<caption>A tibble: 8 × 2</caption>\n",
              "<thead>\n",
              "\t<tr><th scope=col>bundesland</th><th scope=col>n</th></tr>\n",
              "\t<tr><th scope=col>&lt;fct&gt;</th><th scope=col>&lt;int&gt;</th></tr>\n",
              "</thead>\n",
              "<tbody>\n",
              "\t<tr><td>Baden-Württemberg                     </td><td> 8</td></tr>\n",
              "\t<tr><td>Bayern                                </td><td> 4</td></tr>\n",
              "\t<tr><td>Hessen                                </td><td>53</td></tr>\n",
              "\t<tr><td>Niedersachsen                         </td><td> 2</td></tr>\n",
              "\t<tr><td>Nordrhein-Westfalen                   </td><td> 3</td></tr>\n",
              "\t<tr><td>Rheinland-Pfalz                       </td><td>10</td></tr>\n",
              "\t<tr><td>Sachsen-Anhalt                        </td><td> 1</td></tr>\n",
              "\t<tr><td>Ich wurde nicht in Deutschland geboren</td><td> 7</td></tr>\n",
              "</tbody>\n",
              "</table>\n"
            ],
            "text/markdown": "\nA tibble: 8 × 2\n\n| bundesland &lt;fct&gt; | n &lt;int&gt; |\n|---|---|\n| Baden-Württemberg                      |  8 |\n| Bayern                                 |  4 |\n| Hessen                                 | 53 |\n| Niedersachsen                          |  2 |\n| Nordrhein-Westfalen                    |  3 |\n| Rheinland-Pfalz                        | 10 |\n| Sachsen-Anhalt                         |  1 |\n| Ich wurde nicht in Deutschland geboren |  7 |\n\n",
            "text/latex": "A tibble: 8 × 2\n\\begin{tabular}{ll}\n bundesland & n\\\\\n <fct> & <int>\\\\\n\\hline\n\t Baden-Württemberg                      &  8\\\\\n\t Bayern                                 &  4\\\\\n\t Hessen                                 & 53\\\\\n\t Niedersachsen                          &  2\\\\\n\t Nordrhein-Westfalen                    &  3\\\\\n\t Rheinland-Pfalz                        & 10\\\\\n\t Sachsen-Anhalt                         &  1\\\\\n\t Ich wurde nicht in Deutschland geboren &  7\\\\\n\\end{tabular}\n",
            "text/plain": [
              "  bundesland                             n \n",
              "1 Baden-Württemberg                       8\n",
              "2 Bayern                                  4\n",
              "3 Hessen                                 53\n",
              "4 Niedersachsen                           2\n",
              "5 Nordrhein-Westfalen                     3\n",
              "6 Rheinland-Pfalz                        10\n",
              "7 Sachsen-Anhalt                          1\n",
              "8 Ich wurde nicht in Deutschland geboren  7"
            ]
          },
          "metadata": {}
        }
      ]
    },
    {
      "cell_type": "markdown",
      "source": [
        "Versuchen Sie *count* mal selbst, z. B. mit der Variable *geschlecht*!\n",
        "\n",
        "Wir interessieren uns nun zunächst für Studierende aus Hessen. Dazu werfen wir alle anderen Studierenden aus dem Datensatz – ich sagte Ihnen ja, mit R ist man sehr mächtig. In R (bzw. dem tidyverse) heißt das filtern."
      ],
      "metadata": {
        "id": "bK0ku1jZeL7q"
      }
    },
    {
      "cell_type": "code",
      "source": [
        "sample_hes <- filter(survey, bundesland == \"Hessen\")"
      ],
      "metadata": {
        "id": "qZoBy7HWeSce"
      },
      "execution_count": null,
      "outputs": []
    },
    {
      "cell_type": "markdown",
      "source": [
        "Nun ist ein neues Objekt sample_hes angelegt, das nur Hessen enthält (analog können Sie auch ein *sample_ber* etc. anlegen). Mit *filter* haben Sie das erste Verb kennen gelernt, mit dem man die Daten bearbeiten kann (auch als data wrangling bezeichnet)."
      ],
      "metadata": {
        "id": "Gxo4GtTMeTc_"
      }
    },
    {
      "cell_type": "markdown",
      "source": [
        "## **Wie würden die Kursteilnehmer abstimmen, wenn am nächsten Sonntag Bundestagswahl wäre?**\n",
        "\n",
        "Nun sind wir neugierig, welche Parteien von den Hessenern präferiert werden. Diese Information ist in der Variable vote hinterlegt:"
      ],
      "metadata": {
        "id": "iagWUVmBefr9"
      }
    },
    {
      "cell_type": "code",
      "source": [
        "count(sample_hes, vote)"
      ],
      "metadata": {
        "colab": {
          "base_uri": "https://localhost:8080/",
          "height": 380
        },
        "id": "qxKj63zvellT",
        "outputId": "f7f74a07-9347-48bd-fbbd-1125562c83b4"
      },
      "execution_count": null,
      "outputs": [
        {
          "output_type": "display_data",
          "data": {
            "text/html": [
              "<table class=\"dataframe\">\n",
              "<caption>A tibble: 9 × 2</caption>\n",
              "<thead>\n",
              "\t<tr><th scope=col>vote</th><th scope=col>n</th></tr>\n",
              "\t<tr><th scope=col>&lt;chr&gt;</th><th scope=col>&lt;int&gt;</th></tr>\n",
              "</thead>\n",
              "<tbody>\n",
              "\t<tr><td>AfD                   </td><td> 1</td></tr>\n",
              "\t<tr><td>Bündnis90 / Die Grünen</td><td>21</td></tr>\n",
              "\t<tr><td>CDU                   </td><td> 6</td></tr>\n",
              "\t<tr><td>Die Linke             </td><td> 4</td></tr>\n",
              "\t<tr><td>FDP                   </td><td> 4</td></tr>\n",
              "\t<tr><td>Ich würde nicht wählen</td><td> 1</td></tr>\n",
              "\t<tr><td>SPD                   </td><td>13</td></tr>\n",
              "\t<tr><td>Sonstiges:            </td><td> 1</td></tr>\n",
              "\t<tr><td>Volt                  </td><td> 2</td></tr>\n",
              "</tbody>\n",
              "</table>\n"
            ],
            "text/markdown": "\nA tibble: 9 × 2\n\n| vote &lt;chr&gt; | n &lt;int&gt; |\n|---|---|\n| AfD                    |  1 |\n| Bündnis90 / Die Grünen | 21 |\n| CDU                    |  6 |\n| Die Linke              |  4 |\n| FDP                    |  4 |\n| Ich würde nicht wählen |  1 |\n| SPD                    | 13 |\n| Sonstiges:             |  1 |\n| Volt                   |  2 |\n\n",
            "text/latex": "A tibble: 9 × 2\n\\begin{tabular}{ll}\n vote & n\\\\\n <chr> & <int>\\\\\n\\hline\n\t AfD                    &  1\\\\\n\t Bündnis90 / Die Grünen & 21\\\\\n\t CDU                    &  6\\\\\n\t Die Linke              &  4\\\\\n\t FDP                    &  4\\\\\n\t Ich würde nicht wählen &  1\\\\\n\t SPD                    & 13\\\\\n\t Sonstiges:             &  1\\\\\n\t Volt                   &  2\\\\\n\\end{tabular}\n",
            "text/plain": [
              "  vote                   n \n",
              "1 AfD                     1\n",
              "2 Bündnis90 / Die Grünen 21\n",
              "3 CDU                     6\n",
              "4 Die Linke               4\n",
              "5 FDP                     4\n",
              "6 Ich würde nicht wählen  1\n",
              "7 SPD                    13\n",
              "8 Sonstiges:              1\n",
              "9 Volt                    2"
            ]
          },
          "metadata": {}
        }
      ]
    },
    {
      "cell_type": "markdown",
      "source": [
        "Hoppla, offenkundig sind wir hier in einer ziemlich links-liberalen Blase gelandet. Ein Blick auf aktuelle Umfragen legt nahe, dass der durchschnittliche Bundesbürger politisch anders tickt als Sie und Ihre Kommillitoninnen und Kommillitonen.\n",
        "\n",
        "Aber auch, wenn Sie zu den wenigen Konservativen im Kurs gehören, brauchen Sie sich keine Sorgen zu machen. Zum Glück respektieren sicher gerade an der Universität alle den fundamentalen Wert der Meinungsfreiheit und werden auch abweichenden Argumenten und Werthaltungen gegenüber respektvoll und aufgeschlossen sein. Sie brauchen auch nicht aus Höflichkeit über die politisch korrekten linksgrünen Scherze des Dozenten lachen. Er hat halt Marktforschung betrieben (Kursumfrage!) und will sich bei der Mehrheit anbiedern.\n",
        "\n",
        "Wie sieht es denn in Rheinland-Pfalz aus?"
      ],
      "metadata": {
        "id": "_osm4b92enhv"
      }
    },
    {
      "cell_type": "code",
      "source": [
        "survey %>% \n",
        "  filter(bundesland == \"Rheinland-Pfalz\") %>% \n",
        "  count(vote)"
      ],
      "metadata": {
        "colab": {
          "base_uri": "https://localhost:8080/",
          "height": 255
        },
        "id": "dPFsMHose3XQ",
        "outputId": "47e409f2-e7a9-41ba-94d9-dabfdedfce71"
      },
      "execution_count": null,
      "outputs": [
        {
          "output_type": "display_data",
          "data": {
            "text/html": [
              "<table class=\"dataframe\">\n",
              "<caption>A tibble: 5 × 2</caption>\n",
              "<thead>\n",
              "\t<tr><th scope=col>vote</th><th scope=col>n</th></tr>\n",
              "\t<tr><th scope=col>&lt;chr&gt;</th><th scope=col>&lt;int&gt;</th></tr>\n",
              "</thead>\n",
              "<tbody>\n",
              "\t<tr><td>AfD                   </td><td>1</td></tr>\n",
              "\t<tr><td>Bündnis90 / Die Grünen</td><td>5</td></tr>\n",
              "\t<tr><td>Die Linke             </td><td>2</td></tr>\n",
              "\t<tr><td>FDP                   </td><td>1</td></tr>\n",
              "\t<tr><td>SPD                   </td><td>1</td></tr>\n",
              "</tbody>\n",
              "</table>\n"
            ],
            "text/markdown": "\nA tibble: 5 × 2\n\n| vote &lt;chr&gt; | n &lt;int&gt; |\n|---|---|\n| AfD                    | 1 |\n| Bündnis90 / Die Grünen | 5 |\n| Die Linke              | 2 |\n| FDP                    | 1 |\n| SPD                    | 1 |\n\n",
            "text/latex": "A tibble: 5 × 2\n\\begin{tabular}{ll}\n vote & n\\\\\n <chr> & <int>\\\\\n\\hline\n\t AfD                    & 1\\\\\n\t Bündnis90 / Die Grünen & 5\\\\\n\t Die Linke              & 2\\\\\n\t FDP                    & 1\\\\\n\t SPD                    & 1\\\\\n\\end{tabular}\n",
            "text/plain": [
              "  vote                   n\n",
              "1 AfD                    1\n",
              "2 Bündnis90 / Die Grünen 5\n",
              "3 Die Linke              2\n",
              "4 FDP                    1\n",
              "5 SPD                    1"
            ]
          },
          "metadata": {}
        }
      ]
    },
    {
      "cell_type": "markdown",
      "source": [
        "Die letzte Eingabe besteht aus mehreren Zeilen, die durch “%>%” verbunden sind. Dies ist eine sogenannte pipe, die Befehle verknüpft. Die pipe nimmt jeweils den Output der vorhergehenden Zeile als Input der nachfolgenden Zeile, hier: Nimm Dir den survey-Datensatz, dann filtere Studierende aus Rheilnad-Pfalz heraus, dann zähle ihre Parteipräferenzen. Wir werden die pipe nun immer nutzen, da man damit komplexe Befehlsketten sehr übersichtlich strukturieren kann. Damit Sie keinen Knoten in die Finger bekommen: Nutzen Sie *Strg+Shift+M*, um die pipe zu erzeugen. Überhaupt lohnt es sich die wichtigsten keyboard shortcuts drauf zu haben.\n",
        "\n",
        "Die anderen Bundesländer sind vergleichsweise gering in den Daten vertreten. Daher können wir einfach aggregiert schauen, wie übrigen Studierenden so abgeschnitten haben. Dafür erstellen wir einen sogenannent *Vector* welcher so *c()* aussieht. Hierbei handelt es sich um ein Objekt, welches beliebig viele Elemente enthalten kann (Wörter, Zahlen...). Dann sagen wir dem Filter-Befehl mit *%in%*, dass er nach allen Bundesländern filtern soll, die sich in diesem Element befinden."
      ],
      "metadata": {
        "id": "NReSYMtSe5_H"
      }
    },
    {
      "cell_type": "code",
      "source": [
        "survey %>% \n",
        "  filter(bundesland %in% c(\"Baden-Württemberg\",\"Bayern\",\"Niedersachsen\",\"Nordrhein-Westfalen\",\"Sachsen-Anhalt\")) %>% \n",
        "  count(vote)"
      ],
      "metadata": {
        "colab": {
          "base_uri": "https://localhost:8080/",
          "height": 318
        },
        "id": "8ufw-te2e9Ak",
        "outputId": "c5f5b93c-ca8c-40af-8374-f42659084cb0"
      },
      "execution_count": null,
      "outputs": [
        {
          "output_type": "display_data",
          "data": {
            "text/html": [
              "<table class=\"dataframe\">\n",
              "<caption>A tibble: 7 × 2</caption>\n",
              "<thead>\n",
              "\t<tr><th scope=col>vote</th><th scope=col>n</th></tr>\n",
              "\t<tr><th scope=col>&lt;chr&gt;</th><th scope=col>&lt;int&gt;</th></tr>\n",
              "</thead>\n",
              "<tbody>\n",
              "\t<tr><td>Bündnis90 / Die Grünen</td><td>8</td></tr>\n",
              "\t<tr><td>CDU                   </td><td>2</td></tr>\n",
              "\t<tr><td>Die Linke             </td><td>1</td></tr>\n",
              "\t<tr><td>FDP                   </td><td>2</td></tr>\n",
              "\t<tr><td>SPD                   </td><td>3</td></tr>\n",
              "\t<tr><td>Tierschutzpartei      </td><td>1</td></tr>\n",
              "\t<tr><td>Volt                  </td><td>1</td></tr>\n",
              "</tbody>\n",
              "</table>\n"
            ],
            "text/markdown": "\nA tibble: 7 × 2\n\n| vote &lt;chr&gt; | n &lt;int&gt; |\n|---|---|\n| Bündnis90 / Die Grünen | 8 |\n| CDU                    | 2 |\n| Die Linke              | 1 |\n| FDP                    | 2 |\n| SPD                    | 3 |\n| Tierschutzpartei       | 1 |\n| Volt                   | 1 |\n\n",
            "text/latex": "A tibble: 7 × 2\n\\begin{tabular}{ll}\n vote & n\\\\\n <chr> & <int>\\\\\n\\hline\n\t Bündnis90 / Die Grünen & 8\\\\\n\t CDU                    & 2\\\\\n\t Die Linke              & 1\\\\\n\t FDP                    & 2\\\\\n\t SPD                    & 3\\\\\n\t Tierschutzpartei       & 1\\\\\n\t Volt                   & 1\\\\\n\\end{tabular}\n",
            "text/plain": [
              "  vote                   n\n",
              "1 Bündnis90 / Die Grünen 8\n",
              "2 CDU                    2\n",
              "3 Die Linke              1\n",
              "4 FDP                    2\n",
              "5 SPD                    3\n",
              "6 Tierschutzpartei       1\n",
              "7 Volt                   1"
            ]
          },
          "metadata": {}
        }
      ]
    },
    {
      "cell_type": "markdown",
      "source": [
        "Aufgrund der unterschiedlichen Teilnehmerzahlen, kann man schwer erkennen, ob es relevante Unterschiede zwischen den Bundesländern gibt. Da helfen Prozente."
      ],
      "metadata": {
        "id": "NQoXJ1bwfAOn"
      }
    },
    {
      "cell_type": "code",
      "source": [
        "survey %>% \n",
        "  filter(bundesland == \"Hessen\") %>% \n",
        "  count(vote) %>% \n",
        "  # Berechnen der Prozentanteile mit mutate, die neuen Variablen nennen wir dann totalvotes und share\n",
        "  mutate(totalvotes = sum(n),\n",
        "         share = n/totalvotes*100)"
      ],
      "metadata": {
        "colab": {
          "base_uri": "https://localhost:8080/",
          "height": 380
        },
        "id": "3CmkNyUkfCK2",
        "outputId": "0abc419e-ed2b-4e42-f940-56f671bfcefc"
      },
      "execution_count": null,
      "outputs": [
        {
          "output_type": "display_data",
          "data": {
            "text/html": [
              "<table class=\"dataframe\">\n",
              "<caption>A tibble: 9 × 4</caption>\n",
              "<thead>\n",
              "\t<tr><th scope=col>vote</th><th scope=col>n</th><th scope=col>totalvotes</th><th scope=col>share</th></tr>\n",
              "\t<tr><th scope=col>&lt;chr&gt;</th><th scope=col>&lt;int&gt;</th><th scope=col>&lt;int&gt;</th><th scope=col>&lt;dbl&gt;</th></tr>\n",
              "</thead>\n",
              "<tbody>\n",
              "\t<tr><td>AfD                   </td><td> 1</td><td>53</td><td> 1.886792</td></tr>\n",
              "\t<tr><td>Bündnis90 / Die Grünen</td><td>21</td><td>53</td><td>39.622642</td></tr>\n",
              "\t<tr><td>CDU                   </td><td> 6</td><td>53</td><td>11.320755</td></tr>\n",
              "\t<tr><td>Die Linke             </td><td> 4</td><td>53</td><td> 7.547170</td></tr>\n",
              "\t<tr><td>FDP                   </td><td> 4</td><td>53</td><td> 7.547170</td></tr>\n",
              "\t<tr><td>Ich würde nicht wählen</td><td> 1</td><td>53</td><td> 1.886792</td></tr>\n",
              "\t<tr><td>SPD                   </td><td>13</td><td>53</td><td>24.528302</td></tr>\n",
              "\t<tr><td>Sonstiges:            </td><td> 1</td><td>53</td><td> 1.886792</td></tr>\n",
              "\t<tr><td>Volt                  </td><td> 2</td><td>53</td><td> 3.773585</td></tr>\n",
              "</tbody>\n",
              "</table>\n"
            ],
            "text/markdown": "\nA tibble: 9 × 4\n\n| vote &lt;chr&gt; | n &lt;int&gt; | totalvotes &lt;int&gt; | share &lt;dbl&gt; |\n|---|---|---|---|\n| AfD                    |  1 | 53 |  1.886792 |\n| Bündnis90 / Die Grünen | 21 | 53 | 39.622642 |\n| CDU                    |  6 | 53 | 11.320755 |\n| Die Linke              |  4 | 53 |  7.547170 |\n| FDP                    |  4 | 53 |  7.547170 |\n| Ich würde nicht wählen |  1 | 53 |  1.886792 |\n| SPD                    | 13 | 53 | 24.528302 |\n| Sonstiges:             |  1 | 53 |  1.886792 |\n| Volt                   |  2 | 53 |  3.773585 |\n\n",
            "text/latex": "A tibble: 9 × 4\n\\begin{tabular}{llll}\n vote & n & totalvotes & share\\\\\n <chr> & <int> & <int> & <dbl>\\\\\n\\hline\n\t AfD                    &  1 & 53 &  1.886792\\\\\n\t Bündnis90 / Die Grünen & 21 & 53 & 39.622642\\\\\n\t CDU                    &  6 & 53 & 11.320755\\\\\n\t Die Linke              &  4 & 53 &  7.547170\\\\\n\t FDP                    &  4 & 53 &  7.547170\\\\\n\t Ich würde nicht wählen &  1 & 53 &  1.886792\\\\\n\t SPD                    & 13 & 53 & 24.528302\\\\\n\t Sonstiges:             &  1 & 53 &  1.886792\\\\\n\t Volt                   &  2 & 53 &  3.773585\\\\\n\\end{tabular}\n",
            "text/plain": [
              "  vote                   n  totalvotes share    \n",
              "1 AfD                     1 53          1.886792\n",
              "2 Bündnis90 / Die Grünen 21 53         39.622642\n",
              "3 CDU                     6 53         11.320755\n",
              "4 Die Linke               4 53          7.547170\n",
              "5 FDP                     4 53          7.547170\n",
              "6 Ich würde nicht wählen  1 53          1.886792\n",
              "7 SPD                    13 53         24.528302\n",
              "8 Sonstiges:              1 53          1.886792\n",
              "9 Volt                    2 53          3.773585"
            ]
          },
          "metadata": {}
        }
      ]
    },
    {
      "cell_type": "markdown",
      "source": [
        "Die Prozente haben wir mit *mutate* berechnet – dies ist das *tidyverse*-Verb zum Generieren neuer Variablen. Erst haben wir die totalvote berechnet. Dies ist die Gesamtzahl aller Stimmen. Mit einem Komma abgetrennt, haben wir eine weitere Variable, share erstellt, die uns die Prozente ausgibt. Und wir haben gleich noch gelernt, dass man Kommentare mit einem anführenden # in den Code schreiben kann. Kommentieren Sie am besten immer ausführlicher als Sie es im Moment für notwendig erachten. Dann schauen Sie in vierzehn Tagen weniger ratlos auf den Code, den Sie vor vierzehn Tagen selbst flüssig heruntergeschrieben hat. Sie können nun die Bundesländer vergleichen, indem Sie einfach *filter(bundesland == \"Hessen\")* beliebig befüllen.\n",
        "\n",
        "Wenn Sie dies vertiefen wollen, lesen Sie sich dazu am besten auch das Kapitel in R for DataScience durch.\n",
        "\n",
        "Zurück zu den Hessenern: Eine Grafik sagt es meist besser als eine Tabelle, da die Informationen unmittelbar visuell beurteilt werden können. Füttern wir die Parteipräferenzen also in ein Balkendiagramm:"
      ],
      "metadata": {
        "id": "0DjzKDGTfGYY"
      }
    },
    {
      "cell_type": "code",
      "source": [
        "sample_hes %>% count(vote) %>% #Wir wollen die Anzahl der votes pro Partei aus dem Datensatz für Hessen\n",
        "  mutate(totalvotes = sum(n), #Wir erstellen erneut die Prozentvariable für diesen Datensatz\n",
        "         share = n/totalvotes*100) %>% \n",
        "  ggplot() +\n",
        "  geom_col(aes(x = vote, y = share)) + \n",
        "  scale_x_discrete(guide = guide_axis(angle = 45)) "
      ],
      "metadata": {
        "colab": {
          "base_uri": "https://localhost:8080/",
          "height": 437
        },
        "id": "jLM82CeKfRys",
        "outputId": "28dae5aa-7a39-4cf5-9502-50cd3e99662e"
      },
      "execution_count": null,
      "outputs": [
        {
          "output_type": "display_data",
          "data": {
            "text/plain": [
              "plot without title"
            ],
            "image/png": "[encoded data removed]"
          },
          "metadata": {
            "image/png": {
              "width": 420,
              "height": 420
            }
          }
        }
      ]
    },
    {
      "cell_type": "markdown",
      "source": [
        "Mit dem Balkendiagramm haben wir ggplot2, das Visualisierungspaket im *tidyverse* kennengelernt. Mit “ggplot” wird der Grafikbefehl gestartet. Ab da weiß R, dass nun ggplot-Befehle kommen. Danach werden weitere ggplot-Befehle mit “+” verknüpft (Achtung: hier nicht “%>%” benutzen). Danach sagen wir R, welche Art des Graphs, das Geom, gezeichnet werden soll. Mit *geom_col* sagen wir R, dass die Daten als Balken (Columns) dargestellt werden sollen und konkretisieren in *(aes(x = vote, y = share))*, dass auf der x-Achse die unterschiedlichen Parteien und auf der y-Achse die Prozente bei der Sonntagsfrage abgebildet werden. Der letzte Abschnitt, *scale_x_discrete*, ist vorerst nicht wichtig zu verstehen, dient hier aber um die Namen der Parteien auf der x-Achse zu drehen, damit man sie besser zu lesen sind.\n",
        "\n",
        "Lesen Sie sich dazu am besten auch das Kapitel in R for DataScience durch.\n",
        "\n",
        "Nun können Sie die Stimmenanteile zwischen den Unis vergleichen. Schauen Sie sich doch auch mal an, wie die Verteilung bei den politischen Präferenzen aussieht. Dazu müssen Sie nur *vote* mit *lire_self* oder *immi_self* ersetzen. Wenn Sie unterschiedliche Unis betrachten wollen, pipen sie sich einfach eine entsprechende Befehlskette zusammen."
      ],
      "metadata": {
        "id": "nYvrRGh6fW2T"
      }
    },
    {
      "cell_type": "markdown",
      "source": [
        "## **Wer in jungen Jahren nicht links ist, der hat kein Herz oder kommt aus Bayern.**\n",
        "\n",
        "Jetzt lernen wir noch ein weiteres ggplot-geom kennen und nutzen dies gleich für eine Forschungsfrage.\n",
        "Als SozialwissenschaftlerInnen sind wir ständig auf der Suche nach Mustern und Erklärungen der politischen und sozialen Realität. Da sich auch Studierende aus Bayern an der Kursumfrage beteiligt hat, sind wir in der glücklichen Lage, eine politikwissenschaftliche Großtheorie überprüfen zu können. Das folgende bekannte Diktum fasst diese prominente Theorie zusammen: “Wer in jungen Jahren nicht links ist, der hat kein Herz oder kommt aus Bayern.” 😉 Um diese Theorie überprüfen zu können, schauen wir, ob sich die Studierenden Bayern im “Links-Sein” von den Studierenden aus Hessen und Rheinland-Pfalz unterscheidet. In der Umfrage wurden Sie gebeten, sich auf einer allgemeinen “Links-Rechts-Achse” selbst einzuordnen. Diese Information ist in der Variablen lire_self hinterlegt. Die Verteilung der Variablen bilden wir nun mit einem density-plot ab und lassen uns die Werte für die Unis getrennt darstellen. Wenn die Theorie wahr wäre, sollten wir beobachten, dass die Bayerer eher rechte Werte auf der Skala wählen als Studierende der anderen Unis.\n",
        "\n",
        "Um Bayern nun mit anderen Bundesländern vergleichen zu können, erstellen wir eine Variable in der Studierenden der Wert *Bayern* zugeordnet wird, wenn sie aus Bayern kommen und der Wert *Anderes\" wenn nicht. Dafür eignet sich der *ifelse* Befehl, wie der Name schon vermuten lässt."
      ],
      "metadata": {
        "id": "4pUrKi_Nfk8X"
      }
    },
    {
      "cell_type": "code",
      "source": [
        "survey %>% \n",
        "  mutate(bayern = ifelse(bundesland == \"Bayern\",\"Bayern\",\"Anderes\")) %>%\n",
        "  ggplot(aes(as.numeric(as.character(lire_self)), color = bayern, fill = bayern)) +\n",
        "  geom_density(alpha = 0.2, adjust = 1.5) +\n",
        "  labs(title = \"Sind Studierende aus Bayern 'rechter'?\", \n",
        "       x = \"Links-Rechts-Selbsteinschätzung\") "
      ],
      "metadata": {
        "colab": {
          "base_uri": "https://localhost:8080/",
          "height": 473
        },
        "id": "XndxlB-KfwI2",
        "outputId": "f90b1a9c-fbaa-4a72-89e2-e85405d34e41"
      },
      "execution_count": null,
      "outputs": [
        {
          "output_type": "stream",
          "name": "stderr",
          "text": [
            "Warning message:\n",
            "“\u001b[1m\u001b[22mRemoved 1 rows containing non-finite values (`stat_density()`).”\n"
          ]
        },
        {
          "output_type": "display_data",
          "data": {
            "text/plain": [
              "plot without title"
            ],
            "image/png": "[encoded data removed]"
          },
          "metadata": {
            "image/png": {
              "width": 420,
              "height": 420
            }
          }
        }
      ]
    },
    {
      "cell_type": "markdown",
      "source": [
        "Und tatsächlich! Der Modus beider Verteilungen lässt eine Bestätigung unserer Erwartung vermuten. In Bayern scheinen die Positionen normalverteilt, währen sie in den anderen Bundeländern hingegen linkssteil sind. Aber vorsicht! Wenn wir uns die Daten erneut anschauen, dann sehen wir, dass nur vier Studierende aus Bayern kommen. Hängen diese Befunde also eventuell auch mit einer verzerrten Stichprobe zusammen? Damit sind wir schon mitten im Interview mit den Daten, die wir im Kurs einüben wollen.\n",
        "\n",
        "Sie wissen jetzt auch, dass man mit *labs()* eine Abbildung und ihre Achsen beschriften kann. Im rechten unteren “plots & files”-pane sehen Sie Ihre Grafik. Speichern Sie diese über *Export/Save as Image* in ihren /graph-Ordner.\n",
        "\n",
        "Eine umfangreichere Auswertung der Umfrage finden Sie hier:\n",
        "\n",
        "???\n",
        "\n",
        "Die Grafiken sind etwas schicker (haben aber auch deutlich mehr Zeit gekostet). Im Laufe des Kurses werden wir die Schönheit und Aussagekraft der Grafiken auch stetig verbessern."
      ],
      "metadata": {
        "id": "lc72rNzcfxUG"
      }
    },
    {
      "cell_type": "markdown",
      "source": [
        "## **Was sind Ihre eigenen theoretischen Erwartungen!**\n",
        "\n",
        "Sind Frauen politisch “linker” als Männer? Welche Intuitionen über mögliche Datenmuster haben Sie?\n",
        "Posten Sie ein Ergebnis im moodle-Forum Ihre Grafiken und Skripte im AppetizeR-Kurs. Am besten posten Sie den Code und das .png (aus ihrem “/graphs”-Ordner), damit wir nachvollziehen können, wie Sie zu ihren Ergebnissen kommen (Stichwort: reproducable research)."
      ],
      "metadata": {
        "id": "bfjku8nagMGn"
      }
    }
  ]
}
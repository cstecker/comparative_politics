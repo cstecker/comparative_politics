{
  "nbformat": 4,
  "nbformat_minor": 0,
  "metadata": {
    "colab": {
      "provenance": [],
      "authorship_tag": "ABX9TyNlcI1A5pCQHllx0KBT29Sp",
      "include_colab_link": true
    },
    "kernelspec": {
      "name": "ir",
      "display_name": "R"
    },
    "language_info": {
      "name": "R"
    }
  },
  "cells": [
    {
      "cell_type": "markdown",
      "metadata": {
        "id": "view-in-github",
        "colab_type": "text"
      },
      "source": [
        "<a href=\"https://colab.research.google.com/github/cstecker/comparative_politics/blob/main/03_Parteien%2C_Wahlen_und_Regierungen.ipynb\" target=\"_parent\"><img src=\"https://colab.research.google.com/assets/colab-badge.svg\" alt=\"Open In Colab\"/></a>"
      ]
    },
    {
      "cell_type": "markdown",
      "source": [
        "# **Parteien, Wahlen und Regierungen**"
      ],
      "metadata": {
        "id": "h-ICUopAidyK"
      }
    },
    {
      "cell_type": "markdown",
      "source": [
        "In dieser Lektion beschäftigen wir uns mit Daten zu Parteien, Wahlen und Regierungen. Dazu gibt es verschiedene Datensätze, einen der umfangreichsten hat das [ParlGov project](https://www.parlgov.org/) zusammengetragen.\n",
        "Unter [Data](https://www.parlgov.org/data-info/) kann man sich die einzelnen Datenquellen ansehen. Diese liegen für Parteien, Wahlen und Kabinette getrennt vor, welche wiederum über ids miteinander verknüpft werden können.\n",
        "Wir lesen uns zunächst die unterschiedlichen Datensätze ein und werfen einen Blick darauf."
      ],
      "metadata": {
        "id": "1YDZeou3iq3U"
      }
    },
    {
      "cell_type": "code",
      "execution_count": 2,
      "metadata": {
        "colab": {
          "base_uri": "https://localhost:8080/"
        },
        "id": "g4p8vc-8hJ9c",
        "outputId": "c535d317-462e-4164-d5d4-e36e8ef3ba7e"
      },
      "outputs": [
        {
          "output_type": "stream",
          "name": "stderr",
          "text": [
            "Warning message in system(\"timedatectl\", intern = TRUE):\n",
            "“running command 'timedatectl' had status 1”\n",
            "── \u001b[1mAttaching packages\u001b[22m ─────────────────────────────────────── tidyverse 1.3.1 ──\n",
            "\n",
            "\u001b[32m✔\u001b[39m \u001b[34mggplot2\u001b[39m 3.4.1     \u001b[32m✔\u001b[39m \u001b[34mpurrr  \u001b[39m 1.0.1\n",
            "\u001b[32m✔\u001b[39m \u001b[34mtibble \u001b[39m 3.1.8     \u001b[32m✔\u001b[39m \u001b[34mdplyr  \u001b[39m 1.1.0\n",
            "\u001b[32m✔\u001b[39m \u001b[34mtidyr  \u001b[39m 1.3.0     \u001b[32m✔\u001b[39m \u001b[34mstringr\u001b[39m 1.4.1\n",
            "\u001b[32m✔\u001b[39m \u001b[34mreadr  \u001b[39m 2.1.4     \u001b[32m✔\u001b[39m \u001b[34mforcats\u001b[39m 1.0.0\n",
            "\n",
            "── \u001b[1mConflicts\u001b[22m ────────────────────────────────────────── tidyverse_conflicts() ──\n",
            "\u001b[31m✖\u001b[39m \u001b[34mdplyr\u001b[39m::\u001b[32mfilter()\u001b[39m masks \u001b[34mstats\u001b[39m::filter()\n",
            "\u001b[31m✖\u001b[39m \u001b[34mdplyr\u001b[39m::\u001b[32mlag()\u001b[39m    masks \u001b[34mstats\u001b[39m::lag()\n",
            "\n"
          ]
        }
      ],
      "source": [
        "# setup\n",
        "library(tidyverse)\n",
        "library(readr)"
      ]
    },
    {
      "cell_type": "code",
      "source": [
        "# Rohdaten von Parlgov einlesen\n",
        "parties <- read_csv(\"https://parlgov.org/data/parlgov-development_csv-utf-8/view_party.csv\",\n",
        "                    locale = locale(encoding = \"ISO-8859-1\"))                \n",
        "elections <- read_csv(\"https://parlgov.org/data/parlgov-development_csv-utf-8/view_election.csv\",\n",
        "                      locale = locale(encoding = \"ISO-8859-1\"))\n",
        "cabinets <- read_csv(\"https://parlgov.org/data/parlgov-development_csv-utf-8/view_cabinet.csv\",\n",
        "                     locale = locale(encoding = \"ISO-8859-1\"))"
      ],
      "metadata": {
        "id": "c_rLeuMcjz8D"
      },
      "execution_count": null,
      "outputs": []
    },
    {
      "cell_type": "code",
      "source": [
        "# Blick in die Daten\n",
        "glimpse(parties)\n",
        "\n",
        "parties %>%\n",
        "  filter(country_name == \"Germany\")"
      ],
      "metadata": {
        "id": "Fv93VJvskEbd"
      },
      "execution_count": null,
      "outputs": []
    },
    {
      "cell_type": "markdown",
      "source": [],
      "metadata": {
        "id": "kokkERyFiczC"
      }
    },
    {
      "cell_type": "code",
      "source": [
        "# merge elections, cabinets, parties\n",
        "parlgov <- elections %>% \n",
        "  left_join(cabinets, by = c(\"election_date\", \"party_id\"), suffix = c(\"\", \".y\")) %>%  \n",
        "  left_join(parties, by = \"party_id\", suffix = c(\"\", \".z\")) %>% \n",
        "  select(-contains(\".y\"), -contains(\".z\"))\n",
        "\n",
        "glimpse(parlgov)\n",
        "\n",
        "parlgov %>%\n",
        "  filter(country_name == \"Germany\", election_date == \"2021-09-26\")"
      ],
      "metadata": {
        "colab": {
          "base_uri": "https://localhost:8080/",
          "height": 1000
        },
        "id": "77iFrqemkw8k",
        "outputId": "b3300595-90c1-4c7d-d977-6bbbd71794dc"
      },
      "execution_count": 13,
      "outputs": [
        {
          "output_type": "stream",
          "name": "stderr",
          "text": [
            "Warning message in left_join(., cabinets, by = c(\"election_date\", \"party_id\"), suffix = c(\"\", :\n",
            "“\u001b[1m\u001b[22mEach row in `x` is expected to match at most 1 row in `y`.\n",
            "\u001b[36mℹ\u001b[39m Row 1 of `x` matches multiple rows.\n",
            "\u001b[36mℹ\u001b[39m If multiple matches are expected, set `multiple = \"all\"` to silence this\n",
            "  warning.”\n"
          ]
        },
        {
          "output_type": "stream",
          "name": "stdout",
          "text": [
            "Rows: 14,921\n",
            "Columns: 38\n",
            "$ country_name_short              \u001b[3m\u001b[90m<chr>\u001b[39m\u001b[23m \"AUS\", \"AUS\", \"AUS\", \"AUS\", \"AUS\", \"AU…\n",
            "$ country_name                    \u001b[3m\u001b[90m<chr>\u001b[39m\u001b[23m \"Australia\", \"Australia\", \"Australia\",…\n",
            "$ election_type                   \u001b[3m\u001b[90m<chr>\u001b[39m\u001b[23m \"parliament\", \"parliament\", \"parliamen…\n",
            "$ election_date                   \u001b[3m\u001b[90m<date>\u001b[39m\u001b[23m 1901-03-30, 1901-03-30, 1901-03-30, 1…\n",
            "$ vote_share                      \u001b[3m\u001b[90m<dbl>\u001b[39m\u001b[23m 44.4, 44.4, 34.2, 34.2, 19.4, 19.4, 1.…\n",
            "$ seats                           \u001b[3m\u001b[90m<dbl>\u001b[39m\u001b[23m 32, 32, 26, 26, 15, 15, 1, 1, 1, 1, 26…\n",
            "$ seats_total                     \u001b[3m\u001b[90m<dbl>\u001b[39m\u001b[23m 75, 75, 75, 75, 75, 75, 75, 75, 75, 75…\n",
            "$ party_name_short                \u001b[3m\u001b[90m<chr>\u001b[39m\u001b[23m \"PP\", \"PP\", \"FTP\", \"FTP\", \"ALP\", \"ALP\"…\n",
            "$ party_name                      \u001b[3m\u001b[90m<chr>\u001b[39m\u001b[23m \"Protectionist Party\", \"Protectionist …\n",
            "$ party_name_english              \u001b[3m\u001b[90m<chr>\u001b[39m\u001b[23m \"Protectionist Party\", \"Protectionist …\n",
            "$ left_right                      \u001b[3m\u001b[90m<dbl>\u001b[39m\u001b[23m 7.4000, 7.4000, 6.0000, 6.0000, 3.8833…\n",
            "$ country_id                      \u001b[3m\u001b[90m<dbl>\u001b[39m\u001b[23m 33, 33, 33, 33, 33, 33, 33, 33, 33, 33…\n",
            "$ election_id                     \u001b[3m\u001b[90m<dbl>\u001b[39m\u001b[23m 731, 731, 731, 731, 731, 731, 731, 731…\n",
            "$ previous_parliament_election_id \u001b[3m\u001b[90m<dbl>\u001b[39m\u001b[23m NA, NA, NA, NA, NA, NA, NA, NA, NA, NA…\n",
            "$ previous_cabinet_id             \u001b[3m\u001b[90m<dbl>\u001b[39m\u001b[23m NA, NA, NA, NA, NA, NA, NA, NA, NA, NA…\n",
            "$ party_id                        \u001b[3m\u001b[90m<dbl>\u001b[39m\u001b[23m 1898, 1898, 1938, 1938, 1253, 1253, 13…\n",
            "$ start_date                      \u001b[3m\u001b[90m<date>\u001b[39m\u001b[23m 1901-03-30, 1903-09-24, 1901-03-30, 1…\n",
            "$ cabinet_name                    \u001b[3m\u001b[90m<chr>\u001b[39m\u001b[23m \"Barton\", \"Deakin I\", \"Barton\", \"Deaki…\n",
            "$ caretaker                       \u001b[3m\u001b[90m<dbl>\u001b[39m\u001b[23m 1, 0, 1, 0, 1, 0, 1, 0, 1, 0, 0, 0, 0,…\n",
            "$ cabinet_party                   \u001b[3m\u001b[90m<dbl>\u001b[39m\u001b[23m 1, 1, 0, 0, 0, 0, 0, 0, 0, 0, 0, 1, 1,…\n",
            "$ prime_minister                  \u001b[3m\u001b[90m<dbl>\u001b[39m\u001b[23m 1, 1, 0, 0, 0, 0, 0, 0, 0, 0, 0, 0, 1,…\n",
            "$ election_seats_total            \u001b[3m\u001b[90m<dbl>\u001b[39m\u001b[23m 75, 75, 75, 75, 75, 75, 75, 75, 75, 75…\n",
            "$ cabinet_id                      \u001b[3m\u001b[90m<dbl>\u001b[39m\u001b[23m 996, 997, 996, 997, 996, 997, 996, 997…\n",
            "$ party_name_ascii                \u001b[3m\u001b[90m<chr>\u001b[39m\u001b[23m \"Protectionist Party\", \"Protectionist …\n",
            "$ family_name_short               \u001b[3m\u001b[90m<chr>\u001b[39m\u001b[23m \"con\", \"con\", \"lib\", \"lib\", \"soc\", \"so…\n",
            "$ family_name                     \u001b[3m\u001b[90m<chr>\u001b[39m\u001b[23m \"Conservative\", \"Conservative\", \"Liber…\n",
            "$ state_market                    \u001b[3m\u001b[90m<dbl>\u001b[39m\u001b[23m 6.4000, 6.4000, 6.7000, 6.7000, 4.0351…\n",
            "$ liberty_authority               \u001b[3m\u001b[90m<dbl>\u001b[39m\u001b[23m 6.9000, 6.9000, 3.6000, 3.6000, 3.2632…\n",
            "$ eu_anti_pro                     \u001b[3m\u001b[90m<dbl>\u001b[39m\u001b[23m NA, NA, NA, NA, NA, NA, NA, NA, NA, NA…\n",
            "$ cmp                             \u001b[3m\u001b[90m<dbl>\u001b[39m\u001b[23m NA, NA, NA, NA, 63320, 63320, NA, NA, …\n",
            "$ euprofiler                      \u001b[3m\u001b[90m<dbl>\u001b[39m\u001b[23m NA, NA, NA, NA, NA, NA, NA, NA, NA, NA…\n",
            "$ ees                             \u001b[3m\u001b[90m<dbl>\u001b[39m\u001b[23m NA, NA, NA, NA, NA, NA, NA, NA, NA, NA…\n",
            "$ castles_mair                    \u001b[3m\u001b[90m<dbl>\u001b[39m\u001b[23m NA, NA, NA, NA, 101, 101, NA, NA, NA, …\n",
            "$ huber_inglehart                 \u001b[3m\u001b[90m<dbl>\u001b[39m\u001b[23m NA, NA, NA, NA, NA, NA, NA, NA, NA, NA…\n",
            "$ ray                             \u001b[3m\u001b[90m<dbl>\u001b[39m\u001b[23m NA, NA, NA, NA, NA, NA, NA, NA, NA, NA…\n",
            "$ benoit_laver                    \u001b[3m\u001b[90m<dbl>\u001b[39m\u001b[23m NA, NA, NA, NA, 4721, 4721, NA, NA, NA…\n",
            "$ chess                           \u001b[3m\u001b[90m<dbl>\u001b[39m\u001b[23m NA, NA, NA, NA, NA, NA, NA, NA, NA, NA…\n",
            "$ family_id                       \u001b[3m\u001b[90m<dbl>\u001b[39m\u001b[23m 26, 26, 6, 6, 11, 11, 12, 12, 12, 12, …\n"
          ]
        },
        {
          "output_type": "display_data",
          "data": {
            "text/html": [
              "<table class=\"dataframe\">\n",
              "<caption>A tibble: 12 × 38</caption>\n",
              "<thead>\n",
              "\t<tr><th scope=col>country_name_short</th><th scope=col>country_name</th><th scope=col>election_type</th><th scope=col>election_date</th><th scope=col>vote_share</th><th scope=col>seats</th><th scope=col>seats_total</th><th scope=col>party_name_short</th><th scope=col>party_name</th><th scope=col>party_name_english</th><th scope=col>⋯</th><th scope=col>eu_anti_pro</th><th scope=col>cmp</th><th scope=col>euprofiler</th><th scope=col>ees</th><th scope=col>castles_mair</th><th scope=col>huber_inglehart</th><th scope=col>ray</th><th scope=col>benoit_laver</th><th scope=col>chess</th><th scope=col>family_id</th></tr>\n",
              "\t<tr><th scope=col>&lt;chr&gt;</th><th scope=col>&lt;chr&gt;</th><th scope=col>&lt;chr&gt;</th><th scope=col>&lt;date&gt;</th><th scope=col>&lt;dbl&gt;</th><th scope=col>&lt;dbl&gt;</th><th scope=col>&lt;dbl&gt;</th><th scope=col>&lt;chr&gt;</th><th scope=col>&lt;chr&gt;</th><th scope=col>&lt;chr&gt;</th><th scope=col>⋯</th><th scope=col>&lt;dbl&gt;</th><th scope=col>&lt;dbl&gt;</th><th scope=col>&lt;dbl&gt;</th><th scope=col>&lt;dbl&gt;</th><th scope=col>&lt;dbl&gt;</th><th scope=col>&lt;dbl&gt;</th><th scope=col>&lt;dbl&gt;</th><th scope=col>&lt;dbl&gt;</th><th scope=col>&lt;dbl&gt;</th><th scope=col>&lt;dbl&gt;</th></tr>\n",
              "</thead>\n",
              "<tbody>\n",
              "\t<tr><td>DEU</td><td>Germany</td><td>parliament</td><td>2021-09-26</td><td>25.74</td><td>206</td><td>736</td><td>SPD     </td><td>Sozialdemokratische Partei Deutschlands</td><td>Social Democratic Party of Germany    </td><td>⋯</td><td>7.9318</td><td>41320</td><td>120</td><td>1276320</td><td>803</td><td>1503</td><td>302</td><td>6087</td><td>302</td><td>11</td></tr>\n",
              "\t<tr><td>DEU</td><td>Germany</td><td>parliament</td><td>2021-09-26</td><td>18.90</td><td>152</td><td>736</td><td>CDU     </td><td>Christlich Demokratische Union         </td><td>Christian Democratic Union            </td><td>⋯</td><td>8.5024</td><td>41521</td><td>116</td><td>1276521</td><td>805</td><td>1505</td><td>301</td><td>5943</td><td>301</td><td> 3</td></tr>\n",
              "\t<tr><td>DEU</td><td>Germany</td><td>parliament</td><td>2021-09-26</td><td>14.75</td><td>118</td><td>736</td><td>B90/Gru </td><td>BÃ¼ndnis 90 / Die GrÃ¼nen              </td><td>Alliance 90 / Greens                  </td><td>⋯</td><td>7.6101</td><td>41113</td><td>115</td><td>1276113</td><td>802</td><td>1502</td><td>305</td><td>6015</td><td>304</td><td>19</td></tr>\n",
              "\t<tr><td>DEU</td><td>Germany</td><td>parliament</td><td>2021-09-26</td><td>11.46</td><td> 92</td><td>736</td><td>FDP     </td><td>Freie Demokratische Partei             </td><td>Free Democratic Party                 </td><td>⋯</td><td>8.4855</td><td>41420</td><td>119</td><td>1276420</td><td>804</td><td>1504</td><td>303</td><td>5997</td><td>303</td><td> 6</td></tr>\n",
              "\t<tr><td>DEU</td><td>Germany</td><td>parliament</td><td>2021-09-26</td><td>10.34</td><td> 83</td><td>736</td><td>AfD     </td><td>Alternative fÃ¼r Deutschland           </td><td>Alternative for Germany               </td><td>⋯</td><td>2.3000</td><td>   NA</td><td> NA</td><td>     NA</td><td> NA</td><td>  NA</td><td> NA</td><td>  NA</td><td> NA</td><td>40</td></tr>\n",
              "\t<tr><td>DEU</td><td>Germany</td><td>parliament</td><td>2021-09-26</td><td> 5.17</td><td> 45</td><td>736</td><td>CSU     </td><td>Christlich Soziale Union               </td><td>Christian Social Union                </td><td>⋯</td><td>6.6680</td><td>41521</td><td>117</td><td>1276521</td><td>806</td><td>1506</td><td>309</td><td>5943</td><td>308</td><td> 3</td></tr>\n",
              "\t<tr><td>DEU</td><td>Germany</td><td>parliament</td><td>2021-09-26</td><td> 4.89</td><td> 39</td><td>736</td><td>PDS|Li  </td><td>PDS | Die Linke                        </td><td>PDS | The Left                        </td><td>⋯</td><td>4.3508</td><td>41221</td><td> NA</td><td>     NA</td><td> NA</td><td>1501</td><td>307</td><td>6051</td><td>306</td><td>14</td></tr>\n",
              "\t<tr><td>DEU</td><td>Germany</td><td>parliament</td><td>2021-09-26</td><td> 0.12</td><td>  1</td><td>736</td><td>SSW     </td><td>SÃ¼dschleswigscher WÃ¤hlerverband      </td><td>South Schleswig Voter League          </td><td>⋯</td><td>    NA</td><td>   NA</td><td> NA</td><td>     NA</td><td> NA</td><td>  NA</td><td> NA</td><td>  NA</td><td> NA</td><td>16</td></tr>\n",
              "\t<tr><td>DEU</td><td>Germany</td><td>parliament</td><td>2021-09-26</td><td> 2.43</td><td>  0</td><td>736</td><td>FW      </td><td>Freie WÃ¤hler                          </td><td>Free Voters                           </td><td>⋯</td><td>7.9000</td><td>   NA</td><td>121</td><td>     NA</td><td> NA</td><td>  NA</td><td> NA</td><td>  NA</td><td> NA</td><td>26</td></tr>\n",
              "\t<tr><td>DEU</td><td>Germany</td><td>parliament</td><td>2021-09-26</td><td> 0.99</td><td>  0</td><td>736</td><td>PARTEI  </td><td>Die PARTEI                             </td><td>The PARTY                             </td><td>⋯</td><td>    NA</td><td>   NA</td><td> NA</td><td>     NA</td><td> NA</td><td>  NA</td><td> NA</td><td>  NA</td><td> NA</td><td>16</td></tr>\n",
              "\t<tr><td>DEU</td><td>Germany</td><td>parliament</td><td>2021-09-26</td><td> 1.36</td><td>  0</td><td>736</td><td>dieBasis</td><td>Basisdemokratische Partei Deutschland  </td><td>Grassroots Democratic Party of Germany</td><td>⋯</td><td>    NA</td><td>   NA</td><td> NA</td><td>     NA</td><td> NA</td><td>  NA</td><td> NA</td><td>  NA</td><td> NA</td><td>16</td></tr>\n",
              "\t<tr><td>DEU</td><td>Germany</td><td>parliament</td><td>2021-09-26</td><td> 1.45</td><td>  0</td><td>736</td><td>Tier    </td><td>Tierschutzpartei                       </td><td>Animal Protection Party               </td><td>⋯</td><td>    NA</td><td>   NA</td><td> NA</td><td>     NA</td><td> NA</td><td>  NA</td><td> NA</td><td>  NA</td><td> NA</td><td>16</td></tr>\n",
              "</tbody>\n",
              "</table>\n"
            ],
            "text/markdown": "\nA tibble: 12 × 38\n\n| country_name_short &lt;chr&gt; | country_name &lt;chr&gt; | election_type &lt;chr&gt; | election_date &lt;date&gt; | vote_share &lt;dbl&gt; | seats &lt;dbl&gt; | seats_total &lt;dbl&gt; | party_name_short &lt;chr&gt; | party_name &lt;chr&gt; | party_name_english &lt;chr&gt; | ⋯ ⋯ | eu_anti_pro &lt;dbl&gt; | cmp &lt;dbl&gt; | euprofiler &lt;dbl&gt; | ees &lt;dbl&gt; | castles_mair &lt;dbl&gt; | huber_inglehart &lt;dbl&gt; | ray &lt;dbl&gt; | benoit_laver &lt;dbl&gt; | chess &lt;dbl&gt; | family_id &lt;dbl&gt; |\n|---|---|---|---|---|---|---|---|---|---|---|---|---|---|---|---|---|---|---|---|---|\n| DEU | Germany | parliament | 2021-09-26 | 25.74 | 206 | 736 | SPD      | Sozialdemokratische Partei Deutschlands | Social Democratic Party of Germany     | ⋯ | 7.9318 | 41320 | 120 | 1276320 | 803 | 1503 | 302 | 6087 | 302 | 11 |\n| DEU | Germany | parliament | 2021-09-26 | 18.90 | 152 | 736 | CDU      | Christlich Demokratische Union          | Christian Democratic Union             | ⋯ | 8.5024 | 41521 | 116 | 1276521 | 805 | 1505 | 301 | 5943 | 301 |  3 |\n| DEU | Germany | parliament | 2021-09-26 | 14.75 | 118 | 736 | B90/Gru  | BÃ¼ndnis 90 / Die GrÃ¼nen               | Alliance 90 / Greens                   | ⋯ | 7.6101 | 41113 | 115 | 1276113 | 802 | 1502 | 305 | 6015 | 304 | 19 |\n| DEU | Germany | parliament | 2021-09-26 | 11.46 |  92 | 736 | FDP      | Freie Demokratische Partei              | Free Democratic Party                  | ⋯ | 8.4855 | 41420 | 119 | 1276420 | 804 | 1504 | 303 | 5997 | 303 |  6 |\n| DEU | Germany | parliament | 2021-09-26 | 10.34 |  83 | 736 | AfD      | Alternative fÃ¼r Deutschland            | Alternative for Germany                | ⋯ | 2.3000 |    NA |  NA |      NA |  NA |   NA |  NA |   NA |  NA | 40 |\n| DEU | Germany | parliament | 2021-09-26 |  5.17 |  45 | 736 | CSU      | Christlich Soziale Union                | Christian Social Union                 | ⋯ | 6.6680 | 41521 | 117 | 1276521 | 806 | 1506 | 309 | 5943 | 308 |  3 |\n| DEU | Germany | parliament | 2021-09-26 |  4.89 |  39 | 736 | PDS|Li   | PDS | Die Linke                         | PDS | The Left                         | ⋯ | 4.3508 | 41221 |  NA |      NA |  NA | 1501 | 307 | 6051 | 306 | 14 |\n| DEU | Germany | parliament | 2021-09-26 |  0.12 |   1 | 736 | SSW      | SÃ¼dschleswigscher WÃ¤hlerverband       | South Schleswig Voter League           | ⋯ |     NA |    NA |  NA |      NA |  NA |   NA |  NA |   NA |  NA | 16 |\n| DEU | Germany | parliament | 2021-09-26 |  2.43 |   0 | 736 | FW       | Freie WÃ¤hler                           | Free Voters                            | ⋯ | 7.9000 |    NA | 121 |      NA |  NA |   NA |  NA |   NA |  NA | 26 |\n| DEU | Germany | parliament | 2021-09-26 |  0.99 |   0 | 736 | PARTEI   | Die PARTEI                              | The PARTY                              | ⋯ |     NA |    NA |  NA |      NA |  NA |   NA |  NA |   NA |  NA | 16 |\n| DEU | Germany | parliament | 2021-09-26 |  1.36 |   0 | 736 | dieBasis | Basisdemokratische Partei Deutschland   | Grassroots Democratic Party of Germany | ⋯ |     NA |    NA |  NA |      NA |  NA |   NA |  NA |   NA |  NA | 16 |\n| DEU | Germany | parliament | 2021-09-26 |  1.45 |   0 | 736 | Tier     | Tierschutzpartei                        | Animal Protection Party                | ⋯ |     NA |    NA |  NA |      NA |  NA |   NA |  NA |   NA |  NA | 16 |\n\n",
            "text/latex": "A tibble: 12 × 38\n\\begin{tabular}{lllllllllllllllllllll}\n country\\_name\\_short & country\\_name & election\\_type & election\\_date & vote\\_share & seats & seats\\_total & party\\_name\\_short & party\\_name & party\\_name\\_english & ⋯ & eu\\_anti\\_pro & cmp & euprofiler & ees & castles\\_mair & huber\\_inglehart & ray & benoit\\_laver & chess & family\\_id\\\\\n <chr> & <chr> & <chr> & <date> & <dbl> & <dbl> & <dbl> & <chr> & <chr> & <chr> & ⋯ & <dbl> & <dbl> & <dbl> & <dbl> & <dbl> & <dbl> & <dbl> & <dbl> & <dbl> & <dbl>\\\\\n\\hline\n\t DEU & Germany & parliament & 2021-09-26 & 25.74 & 206 & 736 & SPD      & Sozialdemokratische Partei Deutschlands & Social Democratic Party of Germany     & ⋯ & 7.9318 & 41320 & 120 & 1276320 & 803 & 1503 & 302 & 6087 & 302 & 11\\\\\n\t DEU & Germany & parliament & 2021-09-26 & 18.90 & 152 & 736 & CDU      & Christlich Demokratische Union          & Christian Democratic Union             & ⋯ & 8.5024 & 41521 & 116 & 1276521 & 805 & 1505 & 301 & 5943 & 301 &  3\\\\\n\t DEU & Germany & parliament & 2021-09-26 & 14.75 & 118 & 736 & B90/Gru  & BÃ¼ndnis 90 / Die GrÃ¼nen               & Alliance 90 / Greens                   & ⋯ & 7.6101 & 41113 & 115 & 1276113 & 802 & 1502 & 305 & 6015 & 304 & 19\\\\\n\t DEU & Germany & parliament & 2021-09-26 & 11.46 &  92 & 736 & FDP      & Freie Demokratische Partei              & Free Democratic Party                  & ⋯ & 8.4855 & 41420 & 119 & 1276420 & 804 & 1504 & 303 & 5997 & 303 &  6\\\\\n\t DEU & Germany & parliament & 2021-09-26 & 10.34 &  83 & 736 & AfD      & Alternative fÃ¼r Deutschland            & Alternative for Germany                & ⋯ & 2.3000 &    NA &  NA &      NA &  NA &   NA &  NA &   NA &  NA & 40\\\\\n\t DEU & Germany & parliament & 2021-09-26 &  5.17 &  45 & 736 & CSU      & Christlich Soziale Union                & Christian Social Union                 & ⋯ & 6.6680 & 41521 & 117 & 1276521 & 806 & 1506 & 309 & 5943 & 308 &  3\\\\\n\t DEU & Germany & parliament & 2021-09-26 &  4.89 &  39 & 736 & PDS\\textbar{}Li   & PDS \\textbar{} Die Linke                         & PDS \\textbar{} The Left                         & ⋯ & 4.3508 & 41221 &  NA &      NA &  NA & 1501 & 307 & 6051 & 306 & 14\\\\\n\t DEU & Germany & parliament & 2021-09-26 &  0.12 &   1 & 736 & SSW      & SÃ¼dschleswigscher WÃ¤hlerverband       & South Schleswig Voter League           & ⋯ &     NA &    NA &  NA &      NA &  NA &   NA &  NA &   NA &  NA & 16\\\\\n\t DEU & Germany & parliament & 2021-09-26 &  2.43 &   0 & 736 & FW       & Freie WÃ¤hler                           & Free Voters                            & ⋯ & 7.9000 &    NA & 121 &      NA &  NA &   NA &  NA &   NA &  NA & 26\\\\\n\t DEU & Germany & parliament & 2021-09-26 &  0.99 &   0 & 736 & PARTEI   & Die PARTEI                              & The PARTY                              & ⋯ &     NA &    NA &  NA &      NA &  NA &   NA &  NA &   NA &  NA & 16\\\\\n\t DEU & Germany & parliament & 2021-09-26 &  1.36 &   0 & 736 & dieBasis & Basisdemokratische Partei Deutschland   & Grassroots Democratic Party of Germany & ⋯ &     NA &    NA &  NA &      NA &  NA &   NA &  NA &   NA &  NA & 16\\\\\n\t DEU & Germany & parliament & 2021-09-26 &  1.45 &   0 & 736 & Tier     & Tierschutzpartei                        & Animal Protection Party                & ⋯ &     NA &    NA &  NA &      NA &  NA &   NA &  NA &   NA &  NA & 16\\\\\n\\end{tabular}\n",
            "text/plain": [
              "   country_name_short country_name election_type election_date vote_share seats\n",
              "1  DEU                Germany      parliament    2021-09-26    25.74      206  \n",
              "2  DEU                Germany      parliament    2021-09-26    18.90      152  \n",
              "3  DEU                Germany      parliament    2021-09-26    14.75      118  \n",
              "4  DEU                Germany      parliament    2021-09-26    11.46       92  \n",
              "5  DEU                Germany      parliament    2021-09-26    10.34       83  \n",
              "6  DEU                Germany      parliament    2021-09-26     5.17       45  \n",
              "7  DEU                Germany      parliament    2021-09-26     4.89       39  \n",
              "8  DEU                Germany      parliament    2021-09-26     0.12        1  \n",
              "9  DEU                Germany      parliament    2021-09-26     2.43        0  \n",
              "10 DEU                Germany      parliament    2021-09-26     0.99        0  \n",
              "11 DEU                Germany      parliament    2021-09-26     1.36        0  \n",
              "12 DEU                Germany      parliament    2021-09-26     1.45        0  \n",
              "   seats_total party_name_short party_name                             \n",
              "1  736         SPD              Sozialdemokratische Partei Deutschlands\n",
              "2  736         CDU              Christlich Demokratische Union         \n",
              "3  736         B90/Gru          BÃ¼ndnis 90 / Die GrÃ¼nen              \n",
              "4  736         FDP              Freie Demokratische Partei             \n",
              "5  736         AfD              Alternative fÃ¼r Deutschland           \n",
              "6  736         CSU              Christlich Soziale Union               \n",
              "7  736         PDS|Li           PDS | Die Linke                        \n",
              "8  736         SSW              SÃ¼dschleswigscher WÃ¤hlerverband      \n",
              "9  736         FW               Freie WÃ¤hler                          \n",
              "10 736         PARTEI           Die PARTEI                             \n",
              "11 736         dieBasis         Basisdemokratische Partei Deutschland  \n",
              "12 736         Tier             Tierschutzpartei                       \n",
              "   party_name_english                     ⋯ eu_anti_pro cmp   euprofiler\n",
              "1  Social Democratic Party of Germany     ⋯ 7.9318      41320 120       \n",
              "2  Christian Democratic Union             ⋯ 8.5024      41521 116       \n",
              "3  Alliance 90 / Greens                   ⋯ 7.6101      41113 115       \n",
              "4  Free Democratic Party                  ⋯ 8.4855      41420 119       \n",
              "5  Alternative for Germany                ⋯ 2.3000         NA  NA       \n",
              "6  Christian Social Union                 ⋯ 6.6680      41521 117       \n",
              "7  PDS | The Left                         ⋯ 4.3508      41221  NA       \n",
              "8  South Schleswig Voter League           ⋯     NA         NA  NA       \n",
              "9  Free Voters                            ⋯ 7.9000         NA 121       \n",
              "10 The PARTY                              ⋯     NA         NA  NA       \n",
              "11 Grassroots Democratic Party of Germany ⋯     NA         NA  NA       \n",
              "12 Animal Protection Party                ⋯     NA         NA  NA       \n",
              "   ees     castles_mair huber_inglehart ray benoit_laver chess family_id\n",
              "1  1276320 803          1503            302 6087         302   11       \n",
              "2  1276521 805          1505            301 5943         301    3       \n",
              "3  1276113 802          1502            305 6015         304   19       \n",
              "4  1276420 804          1504            303 5997         303    6       \n",
              "5       NA  NA            NA             NA   NA          NA   40       \n",
              "6  1276521 806          1506            309 5943         308    3       \n",
              "7       NA  NA          1501            307 6051         306   14       \n",
              "8       NA  NA            NA             NA   NA          NA   16       \n",
              "9       NA  NA            NA             NA   NA          NA   26       \n",
              "10      NA  NA            NA             NA   NA          NA   16       \n",
              "11      NA  NA            NA             NA   NA          NA   16       \n",
              "12      NA  NA            NA             NA   NA          NA   16       "
            ]
          },
          "metadata": {}
        }
      ]
    },
    {
      "cell_type": "markdown",
      "source": [
        "## Positionen darstellen"
      ],
      "metadata": {
        "id": "nWKHXM1illbI"
      }
    },
    {
      "cell_type": "markdown",
      "source": [
        "Positionen/Koalitionsoptionen"
      ],
      "metadata": {
        "id": "CYW3VUb3lrKM"
      }
    },
    {
      "cell_type": "code",
      "source": [
        "# Welche Daten zu Parteipositionen gibt es und wie sind diese skaliert?\n",
        "parlgov %>%\n",
        "  filter(country_name == \"Germany\") %>%\n",
        "  distinct(party_name_short, left_right, state_market, liberty_authority, eu_anti_pro)\n",
        "\n",
        "fivenum(parlgov$state_market)"
      ],
      "metadata": {
        "colab": {
          "base_uri": "https://localhost:8080/",
          "height": 1000
        },
        "id": "9X1M4hVNnF_x",
        "outputId": "0c123902-1ff4-4161-8df9-e3739e1004f3"
      },
      "execution_count": 23,
      "outputs": [
        {
          "output_type": "display_data",
          "data": {
            "text/html": [
              "<table class=\"dataframe\">\n",
              "<caption>A tibble: 55 × 5</caption>\n",
              "<thead>\n",
              "\t<tr><th scope=col>party_name_short</th><th scope=col>left_right</th><th scope=col>state_market</th><th scope=col>liberty_authority</th><th scope=col>eu_anti_pro</th></tr>\n",
              "\t<tr><th scope=col>&lt;chr&gt;</th><th scope=col>&lt;dbl&gt;</th><th scope=col>&lt;dbl&gt;</th><th scope=col>&lt;dbl&gt;</th><th scope=col>&lt;dbl&gt;</th></tr>\n",
              "</thead>\n",
              "<tbody>\n",
              "\t<tr><td>SPD     </td><td>3.6451</td><td>3.8443</td><td>3.9791</td><td>7.9318</td></tr>\n",
              "\t<tr><td>DDP     </td><td>6.0000</td><td>6.7000</td><td>3.6000</td><td>8.7000</td></tr>\n",
              "\t<tr><td>DZ      </td><td>6.2000</td><td>5.7000</td><td>7.1000</td><td>8.3000</td></tr>\n",
              "\t<tr><td>DNVP    </td><td>8.8000</td><td>5.9000</td><td>8.5000</td><td>2.3000</td></tr>\n",
              "\t<tr><td>DVP     </td><td>7.4000</td><td>6.4000</td><td>6.9000</td><td>7.9000</td></tr>\n",
              "\t<tr><td>USPD    </td><td>1.3000</td><td>1.4000</td><td>3.0000</td><td>3.3000</td></tr>\n",
              "\t<tr><td>BVP     </td><td>6.2000</td><td>5.7000</td><td>7.1000</td><td>8.3000</td></tr>\n",
              "\t<tr><td>BBB     </td><td>6.0000</td><td>6.7000</td><td>3.6000</td><td>8.7000</td></tr>\n",
              "\t<tr><td>DHP     </td><td>7.4000</td><td>6.4000</td><td>6.9000</td><td>7.9000</td></tr>\n",
              "\t<tr><td>one-seat</td><td>    NA</td><td>    NA</td><td>    NA</td><td>    NA</td></tr>\n",
              "\t<tr><td>BWB     </td><td>5.3000</td><td>4.9000</td><td>6.5000</td><td>5.4000</td></tr>\n",
              "\t<tr><td>LBT     </td><td>5.3000</td><td>4.9000</td><td>6.5000</td><td>5.4000</td></tr>\n",
              "\t<tr><td>KPD     </td><td>0.9570</td><td>0.3618</td><td>2.6754</td><td>1.9649</td></tr>\n",
              "\t<tr><td>NSDAP   </td><td>8.8000</td><td>5.9000</td><td>8.5000</td><td>2.3000</td></tr>\n",
              "\t<tr><td>WP      </td><td>7.4000</td><td>6.4000</td><td>6.9000</td><td>7.9000</td></tr>\n",
              "\t<tr><td>DSP     </td><td>8.8000</td><td>5.9000</td><td>8.5000</td><td>2.3000</td></tr>\n",
              "\t<tr><td>HBB     </td><td>5.3000</td><td>4.9000</td><td>6.5000</td><td>5.4000</td></tr>\n",
              "\t<tr><td>BLB     </td><td>5.3000</td><td>4.9000</td><td>6.5000</td><td>5.4000</td></tr>\n",
              "\t<tr><td>CNBL    </td><td>6.2000</td><td>5.7000</td><td>7.1000</td><td>8.3000</td></tr>\n",
              "\t<tr><td>SLV     </td><td>5.3000</td><td>4.9000</td><td>6.5000</td><td>5.4000</td></tr>\n",
              "\t<tr><td>VRP     </td><td>    NA</td><td>    NA</td><td>    NA</td><td>    NA</td></tr>\n",
              "\t<tr><td>DBP     </td><td>5.3000</td><td>4.9000</td><td>6.5000</td><td>5.4000</td></tr>\n",
              "\t<tr><td>CSVD    </td><td>6.2000</td><td>5.7000</td><td>7.1000</td><td>8.3000</td></tr>\n",
              "\t<tr><td>KVP     </td><td>7.4000</td><td>6.4000</td><td>6.9000</td><td>7.9000</td></tr>\n",
              "\t<tr><td>CDU     </td><td>6.2503</td><td>6.3498</td><td>6.9333</td><td>8.5024</td></tr>\n",
              "\t<tr><td>FDP     </td><td>5.9233</td><td>8.2173</td><td>3.0695</td><td>8.4855</td></tr>\n",
              "\t<tr><td>CSU     </td><td>7.2871</td><td>6.5615</td><td>7.8675</td><td>6.6680</td></tr>\n",
              "\t<tr><td>DP      </td><td>7.4000</td><td>6.4000</td><td>6.9000</td><td>7.9000</td></tr>\n",
              "\t<tr><td>BP      </td><td>7.4000</td><td>6.4000</td><td>6.9000</td><td>7.9000</td></tr>\n",
              "\t<tr><td>WAV     </td><td>8.8000</td><td>5.9000</td><td>8.5000</td><td>2.3000</td></tr>\n",
              "\t<tr><td>DRP     </td><td>8.8000</td><td>5.9000</td><td>8.5000</td><td>2.3000</td></tr>\n",
              "\t<tr><td>none    </td><td>    NA</td><td>    NA</td><td>    NA</td><td>    NA</td></tr>\n",
              "\t<tr><td>SSW     </td><td>    NA</td><td>    NA</td><td>    NA</td><td>    NA</td></tr>\n",
              "\t<tr><td>no-seat </td><td>    NA</td><td>    NA</td><td>    NA</td><td>    NA</td></tr>\n",
              "\t<tr><td>GB/BHE  </td><td>8.8000</td><td>5.9000</td><td>8.5000</td><td>2.3000</td></tr>\n",
              "\t<tr><td>GVP     </td><td>6.2000</td><td>5.7000</td><td>7.1000</td><td>8.3000</td></tr>\n",
              "\t<tr><td>GDP     </td><td>7.4000</td><td>6.4000</td><td>6.9000</td><td>7.9000</td></tr>\n",
              "\t<tr><td>DFU     </td><td>1.3000</td><td>1.4000</td><td>3.0000</td><td>3.3000</td></tr>\n",
              "\t<tr><td>NPD     </td><td>9.8246</td><td>4.2105</td><td>9.4219</td><td>0.7989</td></tr>\n",
              "\t<tr><td>B90/Gru </td><td>2.9308</td><td>4.3268</td><td>1.3251</td><td>7.6101</td></tr>\n",
              "\t<tr><td>Fr      </td><td>1.3000</td><td>1.4000</td><td>3.0000</td><td>3.3000</td></tr>\n",
              "\t<tr><td>Rep     </td><td>9.2752</td><td>6.1901</td><td>9.3871</td><td>0.9410</td></tr>\n",
              "\t<tr><td>DVU     </td><td>9.7256</td><td>5.8616</td><td>9.6118</td><td>0.9435</td></tr>\n",
              "\t<tr><td>PDS|Li  </td><td>1.2152</td><td>1.0617</td><td>3.2050</td><td>4.3508</td></tr>\n",
              "\t<tr><td>B90/Gr  </td><td>2.5000</td><td>2.5000</td><td>1.8000</td><td>6.5000</td></tr>\n",
              "\t<tr><td>BFB     </td><td>8.8000</td><td>5.9000</td><td>8.5000</td><td>2.3000</td></tr>\n",
              "\t<tr><td>Tier    </td><td>    NA</td><td>    NA</td><td>    NA</td><td>    NA</td></tr>\n",
              "\t<tr><td>Grau    </td><td>    NA</td><td>    NA</td><td>    NA</td><td>    NA</td></tr>\n",
              "\t<tr><td>Fam     </td><td>7.4000</td><td>6.4000</td><td>6.9000</td><td>7.9000</td></tr>\n",
              "\t<tr><td>FW      </td><td>7.4000</td><td>6.4000</td><td>6.9000</td><td>7.9000</td></tr>\n",
              "\t<tr><td>Pi      </td><td>    NA</td><td>    NA</td><td>    NA</td><td>    NA</td></tr>\n",
              "\t<tr><td>AfD     </td><td>8.8000</td><td>5.9000</td><td>8.5000</td><td>2.3000</td></tr>\n",
              "\t<tr><td>PARTEI  </td><td>    NA</td><td>    NA</td><td>    NA</td><td>    NA</td></tr>\n",
              "\t<tr><td>ODP     </td><td>2.5000</td><td>2.5000</td><td>1.8000</td><td>6.5000</td></tr>\n",
              "\t<tr><td>dieBasis</td><td>    NA</td><td>    NA</td><td>    NA</td><td>    NA</td></tr>\n",
              "</tbody>\n",
              "</table>\n"
            ],
            "text/markdown": "\nA tibble: 55 × 5\n\n| party_name_short &lt;chr&gt; | left_right &lt;dbl&gt; | state_market &lt;dbl&gt; | liberty_authority &lt;dbl&gt; | eu_anti_pro &lt;dbl&gt; |\n|---|---|---|---|---|\n| SPD      | 3.6451 | 3.8443 | 3.9791 | 7.9318 |\n| DDP      | 6.0000 | 6.7000 | 3.6000 | 8.7000 |\n| DZ       | 6.2000 | 5.7000 | 7.1000 | 8.3000 |\n| DNVP     | 8.8000 | 5.9000 | 8.5000 | 2.3000 |\n| DVP      | 7.4000 | 6.4000 | 6.9000 | 7.9000 |\n| USPD     | 1.3000 | 1.4000 | 3.0000 | 3.3000 |\n| BVP      | 6.2000 | 5.7000 | 7.1000 | 8.3000 |\n| BBB      | 6.0000 | 6.7000 | 3.6000 | 8.7000 |\n| DHP      | 7.4000 | 6.4000 | 6.9000 | 7.9000 |\n| one-seat |     NA |     NA |     NA |     NA |\n| BWB      | 5.3000 | 4.9000 | 6.5000 | 5.4000 |\n| LBT      | 5.3000 | 4.9000 | 6.5000 | 5.4000 |\n| KPD      | 0.9570 | 0.3618 | 2.6754 | 1.9649 |\n| NSDAP    | 8.8000 | 5.9000 | 8.5000 | 2.3000 |\n| WP       | 7.4000 | 6.4000 | 6.9000 | 7.9000 |\n| DSP      | 8.8000 | 5.9000 | 8.5000 | 2.3000 |\n| HBB      | 5.3000 | 4.9000 | 6.5000 | 5.4000 |\n| BLB      | 5.3000 | 4.9000 | 6.5000 | 5.4000 |\n| CNBL     | 6.2000 | 5.7000 | 7.1000 | 8.3000 |\n| SLV      | 5.3000 | 4.9000 | 6.5000 | 5.4000 |\n| VRP      |     NA |     NA |     NA |     NA |\n| DBP      | 5.3000 | 4.9000 | 6.5000 | 5.4000 |\n| CSVD     | 6.2000 | 5.7000 | 7.1000 | 8.3000 |\n| KVP      | 7.4000 | 6.4000 | 6.9000 | 7.9000 |\n| CDU      | 6.2503 | 6.3498 | 6.9333 | 8.5024 |\n| FDP      | 5.9233 | 8.2173 | 3.0695 | 8.4855 |\n| CSU      | 7.2871 | 6.5615 | 7.8675 | 6.6680 |\n| DP       | 7.4000 | 6.4000 | 6.9000 | 7.9000 |\n| BP       | 7.4000 | 6.4000 | 6.9000 | 7.9000 |\n| WAV      | 8.8000 | 5.9000 | 8.5000 | 2.3000 |\n| DRP      | 8.8000 | 5.9000 | 8.5000 | 2.3000 |\n| none     |     NA |     NA |     NA |     NA |\n| SSW      |     NA |     NA |     NA |     NA |\n| no-seat  |     NA |     NA |     NA |     NA |\n| GB/BHE   | 8.8000 | 5.9000 | 8.5000 | 2.3000 |\n| GVP      | 6.2000 | 5.7000 | 7.1000 | 8.3000 |\n| GDP      | 7.4000 | 6.4000 | 6.9000 | 7.9000 |\n| DFU      | 1.3000 | 1.4000 | 3.0000 | 3.3000 |\n| NPD      | 9.8246 | 4.2105 | 9.4219 | 0.7989 |\n| B90/Gru  | 2.9308 | 4.3268 | 1.3251 | 7.6101 |\n| Fr       | 1.3000 | 1.4000 | 3.0000 | 3.3000 |\n| Rep      | 9.2752 | 6.1901 | 9.3871 | 0.9410 |\n| DVU      | 9.7256 | 5.8616 | 9.6118 | 0.9435 |\n| PDS|Li   | 1.2152 | 1.0617 | 3.2050 | 4.3508 |\n| B90/Gr   | 2.5000 | 2.5000 | 1.8000 | 6.5000 |\n| BFB      | 8.8000 | 5.9000 | 8.5000 | 2.3000 |\n| Tier     |     NA |     NA |     NA |     NA |\n| Grau     |     NA |     NA |     NA |     NA |\n| Fam      | 7.4000 | 6.4000 | 6.9000 | 7.9000 |\n| FW       | 7.4000 | 6.4000 | 6.9000 | 7.9000 |\n| Pi       |     NA |     NA |     NA |     NA |\n| AfD      | 8.8000 | 5.9000 | 8.5000 | 2.3000 |\n| PARTEI   |     NA |     NA |     NA |     NA |\n| ODP      | 2.5000 | 2.5000 | 1.8000 | 6.5000 |\n| dieBasis |     NA |     NA |     NA |     NA |\n\n",
            "text/latex": "A tibble: 55 × 5\n\\begin{tabular}{lllll}\n party\\_name\\_short & left\\_right & state\\_market & liberty\\_authority & eu\\_anti\\_pro\\\\\n <chr> & <dbl> & <dbl> & <dbl> & <dbl>\\\\\n\\hline\n\t SPD      & 3.6451 & 3.8443 & 3.9791 & 7.9318\\\\\n\t DDP      & 6.0000 & 6.7000 & 3.6000 & 8.7000\\\\\n\t DZ       & 6.2000 & 5.7000 & 7.1000 & 8.3000\\\\\n\t DNVP     & 8.8000 & 5.9000 & 8.5000 & 2.3000\\\\\n\t DVP      & 7.4000 & 6.4000 & 6.9000 & 7.9000\\\\\n\t USPD     & 1.3000 & 1.4000 & 3.0000 & 3.3000\\\\\n\t BVP      & 6.2000 & 5.7000 & 7.1000 & 8.3000\\\\\n\t BBB      & 6.0000 & 6.7000 & 3.6000 & 8.7000\\\\\n\t DHP      & 7.4000 & 6.4000 & 6.9000 & 7.9000\\\\\n\t one-seat &     NA &     NA &     NA &     NA\\\\\n\t BWB      & 5.3000 & 4.9000 & 6.5000 & 5.4000\\\\\n\t LBT      & 5.3000 & 4.9000 & 6.5000 & 5.4000\\\\\n\t KPD      & 0.9570 & 0.3618 & 2.6754 & 1.9649\\\\\n\t NSDAP    & 8.8000 & 5.9000 & 8.5000 & 2.3000\\\\\n\t WP       & 7.4000 & 6.4000 & 6.9000 & 7.9000\\\\\n\t DSP      & 8.8000 & 5.9000 & 8.5000 & 2.3000\\\\\n\t HBB      & 5.3000 & 4.9000 & 6.5000 & 5.4000\\\\\n\t BLB      & 5.3000 & 4.9000 & 6.5000 & 5.4000\\\\\n\t CNBL     & 6.2000 & 5.7000 & 7.1000 & 8.3000\\\\\n\t SLV      & 5.3000 & 4.9000 & 6.5000 & 5.4000\\\\\n\t VRP      &     NA &     NA &     NA &     NA\\\\\n\t DBP      & 5.3000 & 4.9000 & 6.5000 & 5.4000\\\\\n\t CSVD     & 6.2000 & 5.7000 & 7.1000 & 8.3000\\\\\n\t KVP      & 7.4000 & 6.4000 & 6.9000 & 7.9000\\\\\n\t CDU      & 6.2503 & 6.3498 & 6.9333 & 8.5024\\\\\n\t FDP      & 5.9233 & 8.2173 & 3.0695 & 8.4855\\\\\n\t CSU      & 7.2871 & 6.5615 & 7.8675 & 6.6680\\\\\n\t DP       & 7.4000 & 6.4000 & 6.9000 & 7.9000\\\\\n\t BP       & 7.4000 & 6.4000 & 6.9000 & 7.9000\\\\\n\t WAV      & 8.8000 & 5.9000 & 8.5000 & 2.3000\\\\\n\t DRP      & 8.8000 & 5.9000 & 8.5000 & 2.3000\\\\\n\t none     &     NA &     NA &     NA &     NA\\\\\n\t SSW      &     NA &     NA &     NA &     NA\\\\\n\t no-seat  &     NA &     NA &     NA &     NA\\\\\n\t GB/BHE   & 8.8000 & 5.9000 & 8.5000 & 2.3000\\\\\n\t GVP      & 6.2000 & 5.7000 & 7.1000 & 8.3000\\\\\n\t GDP      & 7.4000 & 6.4000 & 6.9000 & 7.9000\\\\\n\t DFU      & 1.3000 & 1.4000 & 3.0000 & 3.3000\\\\\n\t NPD      & 9.8246 & 4.2105 & 9.4219 & 0.7989\\\\\n\t B90/Gru  & 2.9308 & 4.3268 & 1.3251 & 7.6101\\\\\n\t Fr       & 1.3000 & 1.4000 & 3.0000 & 3.3000\\\\\n\t Rep      & 9.2752 & 6.1901 & 9.3871 & 0.9410\\\\\n\t DVU      & 9.7256 & 5.8616 & 9.6118 & 0.9435\\\\\n\t PDS\\textbar{}Li   & 1.2152 & 1.0617 & 3.2050 & 4.3508\\\\\n\t B90/Gr   & 2.5000 & 2.5000 & 1.8000 & 6.5000\\\\\n\t BFB      & 8.8000 & 5.9000 & 8.5000 & 2.3000\\\\\n\t Tier     &     NA &     NA &     NA &     NA\\\\\n\t Grau     &     NA &     NA &     NA &     NA\\\\\n\t Fam      & 7.4000 & 6.4000 & 6.9000 & 7.9000\\\\\n\t FW       & 7.4000 & 6.4000 & 6.9000 & 7.9000\\\\\n\t Pi       &     NA &     NA &     NA &     NA\\\\\n\t AfD      & 8.8000 & 5.9000 & 8.5000 & 2.3000\\\\\n\t PARTEI   &     NA &     NA &     NA &     NA\\\\\n\t ODP      & 2.5000 & 2.5000 & 1.8000 & 6.5000\\\\\n\t dieBasis &     NA &     NA &     NA &     NA\\\\\n\\end{tabular}\n",
            "text/plain": [
              "   party_name_short left_right state_market liberty_authority eu_anti_pro\n",
              "1  SPD              3.6451     3.8443       3.9791            7.9318     \n",
              "2  DDP              6.0000     6.7000       3.6000            8.7000     \n",
              "3  DZ               6.2000     5.7000       7.1000            8.3000     \n",
              "4  DNVP             8.8000     5.9000       8.5000            2.3000     \n",
              "5  DVP              7.4000     6.4000       6.9000            7.9000     \n",
              "6  USPD             1.3000     1.4000       3.0000            3.3000     \n",
              "7  BVP              6.2000     5.7000       7.1000            8.3000     \n",
              "8  BBB              6.0000     6.7000       3.6000            8.7000     \n",
              "9  DHP              7.4000     6.4000       6.9000            7.9000     \n",
              "10 one-seat             NA         NA           NA                NA     \n",
              "11 BWB              5.3000     4.9000       6.5000            5.4000     \n",
              "12 LBT              5.3000     4.9000       6.5000            5.4000     \n",
              "13 KPD              0.9570     0.3618       2.6754            1.9649     \n",
              "14 NSDAP            8.8000     5.9000       8.5000            2.3000     \n",
              "15 WP               7.4000     6.4000       6.9000            7.9000     \n",
              "16 DSP              8.8000     5.9000       8.5000            2.3000     \n",
              "17 HBB              5.3000     4.9000       6.5000            5.4000     \n",
              "18 BLB              5.3000     4.9000       6.5000            5.4000     \n",
              "19 CNBL             6.2000     5.7000       7.1000            8.3000     \n",
              "20 SLV              5.3000     4.9000       6.5000            5.4000     \n",
              "21 VRP                  NA         NA           NA                NA     \n",
              "22 DBP              5.3000     4.9000       6.5000            5.4000     \n",
              "23 CSVD             6.2000     5.7000       7.1000            8.3000     \n",
              "24 KVP              7.4000     6.4000       6.9000            7.9000     \n",
              "25 CDU              6.2503     6.3498       6.9333            8.5024     \n",
              "26 FDP              5.9233     8.2173       3.0695            8.4855     \n",
              "27 CSU              7.2871     6.5615       7.8675            6.6680     \n",
              "28 DP               7.4000     6.4000       6.9000            7.9000     \n",
              "29 BP               7.4000     6.4000       6.9000            7.9000     \n",
              "30 WAV              8.8000     5.9000       8.5000            2.3000     \n",
              "31 DRP              8.8000     5.9000       8.5000            2.3000     \n",
              "32 none                 NA         NA           NA                NA     \n",
              "33 SSW                  NA         NA           NA                NA     \n",
              "34 no-seat              NA         NA           NA                NA     \n",
              "35 GB/BHE           8.8000     5.9000       8.5000            2.3000     \n",
              "36 GVP              6.2000     5.7000       7.1000            8.3000     \n",
              "37 GDP              7.4000     6.4000       6.9000            7.9000     \n",
              "38 DFU              1.3000     1.4000       3.0000            3.3000     \n",
              "39 NPD              9.8246     4.2105       9.4219            0.7989     \n",
              "40 B90/Gru          2.9308     4.3268       1.3251            7.6101     \n",
              "41 Fr               1.3000     1.4000       3.0000            3.3000     \n",
              "42 Rep              9.2752     6.1901       9.3871            0.9410     \n",
              "43 DVU              9.7256     5.8616       9.6118            0.9435     \n",
              "44 PDS|Li           1.2152     1.0617       3.2050            4.3508     \n",
              "45 B90/Gr           2.5000     2.5000       1.8000            6.5000     \n",
              "46 BFB              8.8000     5.9000       8.5000            2.3000     \n",
              "47 Tier                 NA         NA           NA                NA     \n",
              "48 Grau                 NA         NA           NA                NA     \n",
              "49 Fam              7.4000     6.4000       6.9000            7.9000     \n",
              "50 FW               7.4000     6.4000       6.9000            7.9000     \n",
              "51 Pi                   NA         NA           NA                NA     \n",
              "52 AfD              8.8000     5.9000       8.5000            2.3000     \n",
              "53 PARTEI               NA         NA           NA                NA     \n",
              "54 ODP              2.5000     2.5000       1.8000            6.5000     \n",
              "55 dieBasis             NA         NA           NA                NA     "
            ]
          },
          "metadata": {}
        },
        {
          "output_type": "display_data",
          "data": {
            "text/html": [
              "<style>\n",
              ".list-inline {list-style: none; margin:0; padding: 0}\n",
              ".list-inline>li {display: inline-block}\n",
              ".list-inline>li:not(:last-child)::after {content: \"\\00b7\"; padding: 0 .5ex}\n",
              "</style>\n",
              "<ol class=list-inline><li>0.2143</li><li>3.5</li><li>5.2047</li><li>6.4</li><li>9.4737</li></ol>\n"
            ],
            "text/markdown": "1. 0.2143\n2. 3.5\n3. 5.2047\n4. 6.4\n5. 9.4737\n\n\n",
            "text/latex": "\\begin{enumerate*}\n\\item 0.2143\n\\item 3.5\n\\item 5.2047\n\\item 6.4\n\\item 9.4737\n\\end{enumerate*}\n",
            "text/plain": [
              "[1] 0.2143 3.5000 5.2047 6.4000 9.4737"
            ]
          },
          "metadata": {}
        }
      ]
    },
    {
      "cell_type": "code",
      "source": [
        "parlgov %>%\n",
        "  filter(country_name == \"Germany\", election_date == \"2021-09-26\", vote_share >= 5) %>%\n",
        "  ggplot(aes(x = state_market, y = liberty_authority, color = party_name_short)) +\n",
        "  geom_point() +\n",
        "  scale_color_manual(values = c(\"blue\", \"#32CD32\", \"black\", \"black\", \"#FFD600\", \"#E3000F\")) +\n",
        "  coord_fixed(ratio = 1, xlim = c(0, 10), y = c(0, 10)) +\n",
        "  theme_minimal()\n",
        "  "
      ],
      "metadata": {
        "colab": {
          "base_uri": "https://localhost:8080/",
          "height": 437
        },
        "id": "9dsHEeOplpnn",
        "outputId": "8372cd52-eb49-4bd7-969e-96d5c5ffd7ed"
      },
      "execution_count": 29,
      "outputs": [
        {
          "output_type": "display_data",
          "data": {
            "text/plain": [
              "plot without title"
            ],
            "image/png": "[encoded data removed]"
          },
          "metadata": {
            "image/png": {
              "width": 420,
              "height": 420
            }
          }
        }
      ]
    },
    {
      "cell_type": "markdown",
      "source": [
        "## Effektive legislative/elektorale Parteienanzahl & Disproportionalität\n"
      ],
      "metadata": {
        "id": "Jn3kIn18mPKX"
      }
    }
  ]
}
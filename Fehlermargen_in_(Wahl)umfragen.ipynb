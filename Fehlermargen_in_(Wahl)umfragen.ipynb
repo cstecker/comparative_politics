{
  "nbformat": 4,
  "nbformat_minor": 0,
  "metadata": {
    "colab": {
      "provenance": [],
      "authorship_tag": "ABX9TyN/HPfA32JvWiGrawwl6DgZ",
      "include_colab_link": true
    },
    "kernelspec": {
      "name": "ir",
      "display_name": "R"
    },
    "language_info": {
      "name": "R"
    }
  },
  "cells": [
    {
      "cell_type": "markdown",
      "metadata": {
        "id": "view-in-github",
        "colab_type": "text"
      },
      "source": [
        "<a href=\"https://colab.research.google.com/github/cstecker/comparative_politics/blob/main/Fehlermargen_in_(Wahl)umfragen.ipynb\" target=\"_parent\"><img src=\"https://colab.research.google.com/assets/colab-badge.svg\" alt=\"Open In Colab\"/></a>"
      ]
    },
    {
      "cell_type": "markdown",
      "source": [
        "# \"obamas leas is now within the margin of error\" - Wahlumfragen und Fehlermargen\n"
      ],
      "metadata": {
        "id": "m-10MS7ktW84"
      }
    },
    {
      "cell_type": "markdown",
      "source": [
        "Um zu prüfen, ob eine Suppe gut gewürzt ist, löffelt man einen kleinen Teil und verkostet diesen. Die Idee dahinter ist, dass die Kostprobe *repräsentativ* für die gesamte Suppe ist. Jeder Happen sollte wie die gesamte Suppe schmecken, so die Annahme. Man trifft am Kochtopf also einen induktiven Schluss, indem anhand einer Stichprobe auf Eigenschaften der Population geschlossen wird - auch wenn man in diesem Jargon sicher seltener in einer Suppenküche parliert. \n",
        "Wahlumfragen sind in diesem Sinne auch eine Suppenverkostung. Wir befragen einen kleinen Teil der Wählerschaft, ziehen also eine Stichprobe, um eine belastbare Ahnung zu bekommen, wie denn die gesamte Wählerschaft bei der nächsten Wahl abstimmen dürfte. \n",
        "Aber wie funktioniert das und was muss man bei der Interpretation beachten? Ein Suppenrezept haben wir nicht parat, aber wir können mal nachkochen bzw. simulieren, wie Umfragen funktionieren. Dazu generieren wir uns einen Beispieldatensatz. Wir sagen R, einen Datensatz mit 10000 Befragten zu basteln, die nach einer bestimmten Wahrscheinlichkeit eine bestimmte Parteien wählen. Diese Wahrscheinlichkeit passen wir an aktuelle Umfragen an. "
      ],
      "metadata": {
        "id": "X66Ef6HctoaR"
      }
    },
    {
      "cell_type": "code",
      "execution_count": null,
      "metadata": {
        "colab": {
          "base_uri": "https://localhost:8080/",
          "height": 512
        },
        "id": "bT0Z_017tPWg",
        "outputId": "85f10ac2-ce5d-4ffc-de11-eb5a25320bb3"
      },
      "outputs": [
        {
          "output_type": "stream",
          "name": "stderr",
          "text": [
            "Warning message in system(\"timedatectl\", intern = TRUE):\n",
            "“running command 'timedatectl' had status 1”\n",
            "── \u001b[1mAttaching packages\u001b[22m ─────────────────────────────────────── tidyverse 1.3.1 ──\n",
            "\n",
            "\u001b[32m✔\u001b[39m \u001b[34mggplot2\u001b[39m 3.4.1     \u001b[32m✔\u001b[39m \u001b[34mdplyr  \u001b[39m 1.1.1\n",
            "\u001b[32m✔\u001b[39m \u001b[34mtidyr  \u001b[39m 1.3.0     \u001b[32m✔\u001b[39m \u001b[34mstringr\u001b[39m 1.4.1\n",
            "\u001b[32m✔\u001b[39m \u001b[34mreadr  \u001b[39m 2.1.4     \u001b[32m✔\u001b[39m \u001b[34mforcats\u001b[39m 1.0.0\n",
            "\u001b[32m✔\u001b[39m \u001b[34mpurrr  \u001b[39m 1.0.1     \n",
            "\n",
            "── \u001b[1mConflicts\u001b[22m ────────────────────────────────────────── tidyverse_conflicts() ──\n",
            "\u001b[31m✖\u001b[39m \u001b[34mdplyr\u001b[39m::\u001b[32mfilter()\u001b[39m masks \u001b[34mstats\u001b[39m::filter()\n",
            "\u001b[31m✖\u001b[39m \u001b[34mdplyr\u001b[39m::\u001b[32mlag()\u001b[39m    masks \u001b[34mstats\u001b[39m::lag()\n",
            "\n"
          ]
        },
        {
          "output_type": "display_data",
          "data": {
            "text/html": [
              "<table class=\"dataframe\">\n",
              "<caption>A tibble: 6 × 2</caption>\n",
              "<thead>\n",
              "\t<tr><th scope=col>respondent</th><th scope=col>party_preference</th></tr>\n",
              "\t<tr><th scope=col>&lt;int&gt;</th><th scope=col>&lt;chr&gt;</th></tr>\n",
              "</thead>\n",
              "<tbody>\n",
              "\t<tr><td>1</td><td>CDU     </td></tr>\n",
              "\t<tr><td>2</td><td>AfD     </td></tr>\n",
              "\t<tr><td>3</td><td>SPD     </td></tr>\n",
              "\t<tr><td>4</td><td>Sonstige</td></tr>\n",
              "\t<tr><td>5</td><td>FDP     </td></tr>\n",
              "\t<tr><td>6</td><td>CDU     </td></tr>\n",
              "</tbody>\n",
              "</table>\n"
            ],
            "text/markdown": "\nA tibble: 6 × 2\n\n| respondent &lt;int&gt; | party_preference &lt;chr&gt; |\n|---|---|\n| 1 | CDU      |\n| 2 | AfD      |\n| 3 | SPD      |\n| 4 | Sonstige |\n| 5 | FDP      |\n| 6 | CDU      |\n\n",
            "text/latex": "A tibble: 6 × 2\n\\begin{tabular}{ll}\n respondent & party\\_preference\\\\\n <int> & <chr>\\\\\n\\hline\n\t 1 & CDU     \\\\\n\t 2 & AfD     \\\\\n\t 3 & SPD     \\\\\n\t 4 & Sonstige\\\\\n\t 5 & FDP     \\\\\n\t 6 & CDU     \\\\\n\\end{tabular}\n",
            "text/plain": [
              "  respondent party_preference\n",
              "1 1          CDU             \n",
              "2 2          AfD             \n",
              "3 3          SPD             \n",
              "4 4          Sonstige        \n",
              "5 5          FDP             \n",
              "6 6          CDU             "
            ]
          },
          "metadata": {}
        }
      ],
      "source": [
        "# Wir basteln uns einen Datensatz der Sonntagsfrage\n",
        "library(tidyverse)\n",
        "library(tibble) # load the tibble package\n",
        "\n",
        "set.seed(123) # set seed for reproducibility\n",
        "\n",
        "# create a tibble with the parties and percentages \n",
        "# these values are from current polls (update according to e.g. wahlrecht.de)\n",
        "parties <- tibble(party = c(\"CDU\", \"SPD\", \"Grüne\", \"FDP\", \"LINKE\", \"AfD\", \"Sonstige\"),\n",
        "                  percentage = c(0.31, 0.21, 0.16, 0.06, 0.045, 0.15, 0.065))\n",
        "\n",
        "# generate a sample of 10,000 respondents with the specified percentages for each party\n",
        "poll <- sample(parties$party, 10000, replace = TRUE, prob = parties$percentage)\n",
        "\n",
        "# create a tibble with the poll results\n",
        "population <- tibble(\n",
        "  respondent = 1:10000,\n",
        "  party_preference = poll)\n",
        "\n",
        "# display the first few rows of the poll results tibble\n",
        "head(poll_results)\n"
      ]
    },
    {
      "cell_type": "markdown",
      "source": [
        "Wir haben nun für 10000 simulierte Befragte eine Wahlabsicht. Wie würden denn die Stimmenanteile graphisch aussehen?"
      ],
      "metadata": {
        "id": "OKVBhKOEtWdF"
      }
    },
    {
      "cell_type": "code",
      "source": [
        "population %>% \n",
        "  count(party_preference) %>% \n",
        "  mutate(perc = n/sum(n)*100) %>% \n",
        "  ggplot(aes(x = party_preference, y = perc)) +\n",
        "  geom_bar(stat = \"identity\", fill = \"blue\") +\n",
        "  labs(x = \"Party\", y = \"Proportion\", title = \"Party Preferences in Population\")"
      ],
      "metadata": {
        "colab": {
          "base_uri": "https://localhost:8080/",
          "height": 437
        },
        "id": "pwfYDfHzOB4N",
        "outputId": "7a092f7a-b85d-4a49-cf50-ba3c3bf6acec"
      },
      "execution_count": null,
      "outputs": [
        {
          "output_type": "display_data",
          "data": {
            "text/plain": [
              "plot without title"
            ],
            "image/png": "[encoded data removed]"
          },
          "metadata": {
            "image/png": {
              "width": 420,
              "height": 420
            }
          }
        }
      ]
    },
    {
      "cell_type": "markdown",
      "source": [
        "Nun ziehen wir eine Stichprobe (2%) aus der Grundgesamtheit."
      ],
      "metadata": {
        "id": "LSdVgO3pOSU4"
      }
    },
    {
      "cell_type": "code",
      "source": [
        "sample <- population %>% \n",
        "  sample_frac(.02) %>% \n",
        "  count(party_preference) %>% \n",
        "  mutate(perc = n/sum(n)*100)\n",
        "\n",
        "sample %>% \n",
        "  ggplot(aes(x = party_preference, y = perc)) +\n",
        "  geom_bar(stat = \"identity\", fill = \"blue\") +\n",
        "  labs(x = \"Party\", y = \"Proportion\", title = \"Party Preferences in Sample\")\n"
      ],
      "metadata": {
        "colab": {
          "base_uri": "https://localhost:8080/",
          "height": 437
        },
        "id": "FLf0pQesOXG0",
        "outputId": "7c276230-44e0-4e6a-d5a7-a3995fc0484c"
      },
      "execution_count": null,
      "outputs": [
        {
          "output_type": "display_data",
          "data": {
            "text/plain": [
              "plot without title"
            ],
            "image/png": "[encoded data removed]"
          },
          "metadata": {
            "image/png": {
              "width": 420,
              "height": 420
            }
          }
        }
      ]
    },
    {
      "cell_type": "markdown",
      "source": [
        "Vergleichen wir mal die Werte aus der Population und der Stichprobe."
      ],
      "metadata": {
        "id": "R90eh3bZOfH7"
      }
    }
  ]
}
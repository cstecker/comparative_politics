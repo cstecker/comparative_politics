{
  "nbformat": 4,
  "nbformat_minor": 0,
  "metadata": {
    "colab": {
      "provenance": [],
      "include_colab_link": true
    },
    "kernelspec": {
      "name": "ir",
      "display_name": "R"
    },
    "language_info": {
      "name": "R"
    }
  },
  "cells": [
    {
      "cell_type": "markdown",
      "metadata": {
        "id": "view-in-github",
        "colab_type": "text"
      },
      "source": [
        "<a href=\"https://colab.research.google.com/github/cstecker/comparative_politics/blob/main/Fehlermargen_in_(Wahl)umfragen.ipynb\" target=\"_parent\"><img src=\"https://colab.research.google.com/assets/colab-badge.svg\" alt=\"Open In Colab\"/></a>"
      ]
    },
    {
      "cell_type": "markdown",
      "source": [
        "# \"obamas leas is now within the margin of error\"\n"
      ],
      "metadata": {
        "id": "m-10MS7ktW84"
      }
    },
    {
      "cell_type": "markdown",
      "source": [
        "Um zu prüfen, ob die Suppe gut gewürzt ist, löffelt man einen kleinen Teil und verkostet diesen. Die Idee dahinter ist, dass die Kostprobe *repräsentativ* für die gesamte Suppe ist. Jeder Happen schmeckt wie die ganze Suppe, so die Annahme. Auch wenn man diesen Jargon eher seltener mit Bezug zu Stichproben findet, ist die Idee dennoch die Gleiche. Aus der Grundgesamtheit wird zufällig(!) eine kleine Gruppe herausgenommen, mit der Annahme, dass diese repräsentativ für die Grundsgesamtheit ist. Messwerte dieser Stichprobe werden dann auf die Grundgesamtheit bezogen. Man trifft ein induktiven Schluss, indem man anhand einer Stichprobe auf Eigenschaften der Population schließt. Aber können wir das einfach so machen? Nein! Um tatsächlich generalisierbare Befunde zu machen, brauchen wir Inferenzstatistik. Diese hilft uns dabei einschätzen zu können, wie große die Unterschiede zwischen der Stichprobe und der Grundgesamtheit und somit dem Messwert der Stichprobe und dem tatsächlichen Wert sind. Anhand von Wahlumfragen wollen wir uns nun einmal anschauen, wie wichtig es ist, dass man sich der Unterschiede zwischen Stichprobe und Grundgesamheit bewusst ist. "
      ],
      "metadata": {
        "id": "X66Ef6HctoaR"
      }
    },
    {
      "cell_type": "code",
      "execution_count": null,
      "metadata": {
        "id": "bT0Z_017tPWg"
      },
      "outputs": [],
      "source": []
    },
    {
      "cell_type": "markdown",
      "source": [],
      "metadata": {
        "id": "OKVBhKOEtWdF"
      }
    }
  ]
}
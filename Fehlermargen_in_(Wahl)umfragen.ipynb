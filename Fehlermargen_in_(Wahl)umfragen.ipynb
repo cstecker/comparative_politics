{
  "nbformat": 4,
  "nbformat_minor": 0,
  "metadata": {
    "colab": {
      "provenance": [],
      "authorship_tag": "ABX9TyNc6N0gpl0YC+otcuvgTGGz",
      "include_colab_link": true
    },
    "kernelspec": {
      "name": "ir",
      "display_name": "R"
    },
    "language_info": {
      "name": "R"
    }
  },
  "cells": [
    {
      "cell_type": "markdown",
      "metadata": {
        "id": "view-in-github",
        "colab_type": "text"
      },
      "source": [
        "<a href=\"https://colab.research.google.com/github/cstecker/comparative_politics/blob/main/Fehlermargen_in_(Wahl)umfragen.ipynb\" target=\"_parent\"><img src=\"https://colab.research.google.com/assets/colab-badge.svg\" alt=\"Open In Colab\"/></a>"
      ]
    },
    {
      "cell_type": "markdown",
      "source": [
        "# \"obamas leas is now within the margin of error\"\n"
      ],
      "metadata": {
        "id": "m-10MS7ktW84"
      }
    },
    {
      "cell_type": "markdown",
      "source": [
        "Um zu prüfen, ob die Suppe gut gewürzt ist, löffelt man einen kleinen Teil und verkostet diesen. Die Idee dahinter ist, dass die Kostprobe *repräsentativ* für die gesamte Suppe ist. Jeder Happen schmeckt wie die ganze Suppe, so die Annahme. Auch wenn man diesen Jargon eher seltener in einer  Man trifft ein induktiven Schluss, indem man anhand einer Stichprobe auf Eigenschaften der Population schließt."
      ],
      "metadata": {
        "id": "X66Ef6HctoaR"
      }
    },
    {
      "cell_type": "code",
      "execution_count": 1,
      "metadata": {
        "id": "bT0Z_017tPWg"
      },
      "outputs": [],
      "source": []
    },
    {
      "cell_type": "markdown",
      "source": [],
      "metadata": {
        "id": "OKVBhKOEtWdF"
      }
    }
  ]
}
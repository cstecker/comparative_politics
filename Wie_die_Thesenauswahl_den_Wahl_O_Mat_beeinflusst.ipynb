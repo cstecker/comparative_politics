{
  "nbformat": 4,
  "nbformat_minor": 0,
  "metadata": {
    "colab": {
      "provenance": [],
      "include_colab_link": true
    },
    "kernelspec": {
      "name": "ir",
      "display_name": "R"
    },
    "language_info": {
      "name": "R"
    }
  },
  "cells": [
    {
      "cell_type": "markdown",
      "metadata": {
        "id": "view-in-github",
        "colab_type": "text"
      },
      "source": [
        "<a href=\"https://colab.research.google.com/github/cstecker/comparative_politics/blob/main/Wie_die_Thesenauswahl_den_Wahl_O_Mat_beeinflusst.ipynb\" target=\"_parent\"><img src=\"https://colab.research.google.com/assets/colab-badge.svg\" alt=\"Open In Colab\"/></a>"
      ]
    },
    {
      "cell_type": "markdown",
      "source": [
        "# **Wie die Thesenauswahl den Wahl-O-Mat beeinflusst**\n",
        "\n",
        "## **Setup**\n",
        "Zu Beginn laden wir die Pakete, die wir benötigen."
      ],
      "metadata": {
        "id": "Yof7ORolJ9tH"
      }
    },
    {
      "cell_type": "code",
      "source": [
        "library(tidyverse)"
      ],
      "metadata": {
        "id": "jP4paJTPKIN8",
        "outputId": "b4cf3d87-6f98-4247-fa07-2a795cc33fc3",
        "colab": {
          "base_uri": "https://localhost:8080/"
        }
      },
      "execution_count": 9,
      "outputs": [
        {
          "output_type": "stream",
          "name": "stderr",
          "text": [
            "── \u001b[1mAttaching core tidyverse packages\u001b[22m ──────────────────────── tidyverse 2.0.0 ──\n",
            "\u001b[32m✔\u001b[39m \u001b[34mdplyr    \u001b[39m 1.1.4     \u001b[32m✔\u001b[39m \u001b[34mreadr    \u001b[39m 2.1.5\n",
            "\u001b[32m✔\u001b[39m \u001b[34mforcats  \u001b[39m 1.0.0     \u001b[32m✔\u001b[39m \u001b[34mstringr  \u001b[39m 1.5.1\n",
            "\u001b[32m✔\u001b[39m \u001b[34mggplot2  \u001b[39m 3.4.4     \u001b[32m✔\u001b[39m \u001b[34mtibble   \u001b[39m 3.2.1\n",
            "\u001b[32m✔\u001b[39m \u001b[34mlubridate\u001b[39m 1.9.3     \u001b[32m✔\u001b[39m \u001b[34mtidyr    \u001b[39m 1.3.1\n",
            "\u001b[32m✔\u001b[39m \u001b[34mpurrr    \u001b[39m 1.0.2     \n",
            "── \u001b[1mConflicts\u001b[22m ────────────────────────────────────────── tidyverse_conflicts() ──\n",
            "\u001b[31m✖\u001b[39m \u001b[34mdplyr\u001b[39m::\u001b[32mfilter()\u001b[39m masks \u001b[34mstats\u001b[39m::filter()\n",
            "\u001b[31m✖\u001b[39m \u001b[34mdplyr\u001b[39m::\u001b[32mlag()\u001b[39m    masks \u001b[34mstats\u001b[39m::lag()\n",
            "\u001b[36mℹ\u001b[39m Use the conflicted package (\u001b[3m\u001b[34m<http://conflicted.r-lib.org/>\u001b[39m\u001b[23m) to force all conflicts to become errors\n"
          ]
        }
      ]
    },
    {
      "cell_type": "markdown",
      "source": [
        "Sodann laden wir die Daten für den Wahl-O-Mat von Hessen, den wir nutzen, um ein paar Überlegungen zu illustrieren"
      ],
      "metadata": {
        "id": "Q4XMzo0tgeOm"
      }
    },
    {
      "cell_type": "code",
      "source": [
        "# Datensatz herunterladen\n",
        "download.file(\"https://github.com/cstecker/politicsRLab/blob/main/data/he2023.rds?raw=true\", \"he2023.rds\")\n",
        "\n",
        "# Datensatz in R einbinden\n",
        "he2023 <- readRDS(\"he2023.rds\")"
      ],
      "metadata": {
        "id": "LtfprUA_glW-"
      },
      "execution_count": 7,
      "outputs": []
    },
    {
      "cell_type": "markdown",
      "source": [
        "**Der Wahl-O-Mat für Hessen 2023**\n",
        "\n"
      ],
      "metadata": {
        "id": "YKeKsjkKKRH4"
      }
    },
    {
      "cell_type": "code",
      "source": [
        "glimpse(he2023)"
      ],
      "metadata": {
        "id": "sRvWc7DiP2pd",
        "colab": {
          "base_uri": "https://localhost:8080/"
        },
        "outputId": "e6e11967-c05b-4c66-9322-1d1b1b843588"
      },
      "execution_count": 10,
      "outputs": [
        {
          "output_type": "stream",
          "name": "stdout",
          "text": [
            "Rows: 798\n",
            "Columns: 8\n",
            "$ party_no      \u001b[3m\u001b[90m<dbl>\u001b[39m\u001b[23m 1, 2, 3, 4, 5, 6, 7, 8, 9, 10, 11, 13, 14, 15, 16, 17, 1…\n",
            "$ party_short   \u001b[3m\u001b[90m<chr>\u001b[39m\u001b[23m \"CDU\", \"GRÜNE\", \"SPD\", \"AfD\", \"FDP\", \"DIE LINKE\", \"FREIE…\n",
            "$ party_long    \u001b[3m\u001b[90m<chr>\u001b[39m\u001b[23m \"Christlich Demokratische Union Deutschlands\", \"BÜNDNIS …\n",
            "$ these_id      \u001b[3m\u001b[90m<dbl>\u001b[39m\u001b[23m 1, 1, 1, 1, 1, 1, 1, 1, 1, 1, 1, 1, 1, 1, 1, 1, 1, 1, 1,…\n",
            "$ these_title   \u001b[3m\u001b[90m<chr>\u001b[39m\u001b[23m \"Wählen mit 16\", \"Wählen mit 16\", \"Wählen mit 16\", \"Wähl…\n",
            "$ these_content \u001b[3m\u001b[90m<chr>\u001b[39m\u001b[23m \"Jugendliche sollen bei Landtagswahlen ab 16 Jahren wähl…\n",
            "$ party_pos     \u001b[3m\u001b[90m<dbl>\u001b[39m\u001b[23m -1, 1, 1, -1, 1, 1, 1, 1, 1, 1, 1, 0, 1, 1, -1, 1, -1, 1…\n",
            "$ party_reasons \u001b[3m\u001b[90m<chr>\u001b[39m\u001b[23m \"Wir fördern eine stärkere Beteiligung junger Menschen a…\n"
          ]
        }
      ]
    },
    {
      "cell_type": "markdown",
      "source": [
        "Schließlich können wir auch die oft vertraute \"Excel-Perspektive\" konsultieren (dazu wählen wir uns mal nur die SPD aus):"
      ],
      "metadata": {
        "id": "MrD3rgtuihDJ"
      }
    },
    {
      "cell_type": "code",
      "source": [
        "he2023 %>%\n",
        "    filter(party_short == \"SPD\") %>%\n",
        "    View()"
      ],
      "metadata": {
        "id": "yzfYLy0KRiCy"
      },
      "execution_count": null,
      "outputs": []
    },
    {
      "cell_type": "markdown",
      "source": [
        "# Ihre eigenen Positionen zum Wahl-O-Mat in Hessen 2023"
      ],
      "metadata": {
        "id": "my0tcyaRjMdp"
      }
    },
    {
      "cell_type": "markdown",
      "source": [
        "Nun geben Sie ihre Positionen zu den einzelnen Thesen ein."
      ],
      "metadata": {
        "id": "qJNQKeCBjSar"
      }
    },
    {
      "cell_type": "code",
      "source": [
        "# Creating the tibble with an self_pos column\n",
        "self_pos <- tribble(\n",
        "  ~`these_id`, ~`these_title`,                               ~self_pos,\n",
        "  1,            \"Wählen mit 16\",                                \"n\",\n",
        "  2,            \"Abzug der US-Streitkräfte\",                    \"n\",\n",
        "  3,            \"Schulessen\",                                   \"j\",\n",
        "  4,            \"Nachtflugverbot\",                              \"n\",\n",
        "  5,            \"Kohlekraftwerke\",                              \"j\",\n",
        "  6,            \"Abschiebung\",                                  \"j\",\n",
        "  7,            \"Ökologische Landwirtschaft\",                   \"n\",\n",
        "  8,            \"Verfassungsschutz abschaffen\",                 \"n\",\n",
        "  9,            \"Schuldenbremse\",                               \"j\",\n",
        "  10,           \"Verpflichtendes letztes Kita-Jahr\",            \"j\",\n",
        "  11,           \"Landärzte\",                                    \"j\",\n",
        "  12,           \"Bürgergeld\",                                   \"j\",\n",
        "  13,           \"Schiene vor Straße\",                           \"e\",\n",
        "  14,           \"Ausbildungsplatzabgabe\",                       \"n\",\n",
        "  15,           \"Wolf\",                                         \"j\",\n",
        "  16,           \"Geschlechterneutrale Sprache\",                 \"n\",\n",
        "  17,           \"Fünfprozenthürde\",                             \"j\",\n",
        "  18,           \"Sozialwohnungen für Deutsche\",                 \"j\",\n",
        "  19,           \"Bürgerwindparks\",                              \"j\",\n",
        "  20,           \"Mehrgliedriges Schulsystem\",                   \"j\",\n",
        "  21,           \"Hasskriminalität\",                             \"e\",\n",
        "  22,           \"Landespflegegeld\",                             \"e\",\n",
        "  23,           \"Flächenversiegelung\",                          \"j\",\n",
        "  24,           \"Militärische Forschung\",                       \"j\",\n",
        "  25,           \"Familienbild\",                                 \"j\",\n",
        "  26,           \"Grundsteuer\",                                  \"e\",\n",
        "  27,           \"Projekte gegen Rechtsextremismus\",             \"e\",\n",
        "  28,           \"Frauenquote\",                                  \"n\",\n",
        "  29,           \"Abgabe bei Nutzung von Grundwasser\",           \"e\",\n",
        "  30,           \"Zwangsräumungen\",                              \"j\",\n",
        "  31,           \"Paritätische Landeslisten\",                    \"n\",\n",
        "  32,           \"Deutschtest\",                                  \"j\",\n",
        "  33,           \"Strafrechtliche Verfolgung von Sitzblockaden\", \"j\",\n",
        "  34,           \"Volksentscheide\",                              \"j\",\n",
        "  35,           \"Tanzverbot\",                                   \"j\",\n",
        "  36,           \"Entgeltfreier ÖPNV\",                           \"n\",\n",
        "  37,           \"NSU-Akten\",                                    \"n\",\n",
        "  38,           \"Verkaufsoffene Sonntage\",                      \"j\"\n",
        ") %>%\n",
        "  # convert positions to numerical scale\n",
        "  mutate(self_pos = case_when(\n",
        "    self_pos == \"n\" ~ -1,\n",
        "    self_pos == \"e\" ~ 0,\n",
        "    self_pos == \"j\" ~ 1)\n",
        "    )"
      ],
      "metadata": {
        "id": "MyI-XstxjlNg"
      },
      "execution_count": 13,
      "outputs": []
    },
    {
      "cell_type": "code",
      "source": [
        "comparison_data <- self_pos %>% select(these_id, self_pos) %>%\n",
        "  left_join(he2023, by = \"these_id\") %>%\n",
        "  filter(party_short %in% c(\"CDU\", \"GRÜNE\", \"SPD\", \"AfD\", \"FDP\", \"DIE LINKE\", \"FREIE WÄHLER\"))\n",
        ""
      ],
      "metadata": {
        "id": "b7Sy97odjnpw"
      },
      "execution_count": 14,
      "outputs": []
    },
    {
      "cell_type": "code",
      "source": [
        "# calculate max possible distance\n",
        "n_theses <- comparison_data %>%  distinct(these_id) %>% count()\n",
        "\n",
        "# Calculate city block distance\n",
        "cityblock_scores <- comparison_data %>%\n",
        "  group_by(party_short) %>%\n",
        "  # calcualte distance in each issue\n",
        "  mutate(distance = abs(self_pos - party_pos))\n",
        "\n",
        "cityblock_scores %>%\n",
        "  group_by(party_short) %>%\n",
        "  # calculate total distance and closeness\n",
        "  mutate(\n",
        "    total_distance = sum(distance),\n",
        "    close_perc = 1 - (total_distance / (n_theses*2))) %>%\n",
        "  distinct(party_short, total_distance, close_perc) %>%\n",
        "  arrange(desc(close_perc))"
      ],
      "metadata": {
        "colab": {
          "base_uri": "https://localhost:8080/",
          "height": 160
        },
        "id": "1CmMg1Mrjret",
        "outputId": "7927fb1c-a3f7-43d4-a02d-6169ed9e13b9"
      },
      "execution_count": 15,
      "outputs": [
        {
          "output_type": "display_data",
          "data": {
            "text/plain": [
              "  party_short  total_distance close_perc$n\n",
              "1 CDU          15             0.8026316   \n",
              "2 AfD          18             0.7631579   \n",
              "3 FREIE WÄHLER 22             0.7105263   \n",
              "4 FDP          26             0.6578947   \n",
              "5 GRÜNE        35             0.5394737   \n",
              "6 SPD          39             0.4868421   \n",
              "7 DIE LINKE    59             0.2236842   "
            ]
          },
          "metadata": {}
        }
      ]
    },
    {
      "cell_type": "code",
      "source": [
        "# add other matching algorithms and put it all in one tibble\n",
        "similarity_scores <- comparison_data %>%\n",
        "  group_by(party_short) %>%\n",
        "  mutate(\n",
        "    cityblock_distance = abs(self_pos - party_pos),\n",
        "    euclidean_dist = (self_pos - party_pos)^2,\n",
        "    scalar_product = self_pos * party_pos\n",
        "  ) %>%\n",
        "  summarise(\n",
        "    total_distance = sum(cityblock_distance),\n",
        "    close_perc = 1 - (total_distance / (n_theses * 2)),\n",
        "    total_euclidean = sqrt(sum(euclidean_dist)),\n",
        "    euclidean_perc = 1 - (total_euclidean / sqrt(n_theses * 2^2)),\n",
        "    sum_scalar_product = sum(scalar_product),\n",
        "    scalar_perc = sum_scalar_product / n_theses\n",
        "  ) %>%\n",
        "  mutate(\n",
        "    hybrid_score = (close_perc + euclidean_perc + scalar_perc) / 3\n",
        "  ) %>%\n",
        "  arrange(desc(hybrid_score))\n",
        "\n",
        "similarity_scores"
      ],
      "metadata": {
        "colab": {
          "base_uri": "https://localhost:8080/",
          "height": 302
        },
        "id": "XbJYP0nvjtA2",
        "outputId": "9c8c875b-eb2f-480f-8be8-56202a8bcd3f"
      },
      "execution_count": 16,
      "outputs": [
        {
          "output_type": "display_data",
          "data": {
            "text/plain": [
              "  party_short  total_distance close_perc$n total_euclidean euclidean_perc$n\n",
              "1 CDU          15             0.8026316     4.795832       0.6110067       \n",
              "2 AfD          18             0.7631579     5.291503       0.5708025       \n",
              "3 FREIE WÄHLER 22             0.7105263     5.830952       0.5270473       \n",
              "4 FDP          26             0.6578947     6.782330       0.4498804       \n",
              "5 GRÜNE        35             0.5394737     7.681146       0.3769768       \n",
              "6 SPD          39             0.4868421     8.185353       0.3360802       \n",
              "7 DIE LINKE    59             0.2236842    10.535654       0.1454456       \n",
              "  sum_scalar_product scalar_perc$n hybrid_score$n\n",
              "1  23                 0.60526316    0.67296714   \n",
              "2  20                 0.52631579    0.62009205   \n",
              "3  14                 0.36842105    0.53533157   \n",
              "4  12                 0.31578947    0.47452154   \n",
              "5   3                 0.07894737    0.33179929   \n",
              "6  -1                -0.02631579    0.26553551   \n",
              "7 -22                -0.57894737   -0.06993917   "
            ]
          },
          "metadata": {}
        }
      ]
    }
  ]
}